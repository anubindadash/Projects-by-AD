{
  "nbformat": 4,
  "nbformat_minor": 0,
  "metadata": {
    "colab": {
      "name": "Statistical Methods for Decision Making Project.ipynb",
      "provenance": [],
      "authorship_tag": "ABX9TyNpJ0nhSC+3vh4PjILGIhis",
      "include_colab_link": true
    },
    "kernelspec": {
      "name": "python3",
      "display_name": "Python 3"
    }
  },
  "cells": [
    {
      "cell_type": "markdown",
      "metadata": {
        "id": "view-in-github",
        "colab_type": "text"
      },
      "source": [
        "<a href=\"https://colab.research.google.com/github/anubindadash/Projects-by-AD/blob/main/Statistical_Methods_for_Decision_Making_Project.ipynb\" target=\"_parent\"><img src=\"https://colab.research.google.com/assets/colab-badge.svg\" alt=\"Open In Colab\"/></a>"
      ]
    },
    {
      "cell_type": "code",
      "metadata": {
        "id": "O_ToyAjtpvpw"
      },
      "source": [
        "import numpy as np\n",
        "import pandas as pd\n",
        "import matplotlib.pyplot as plt\n",
        "import scipy as py\n",
        "import io\n",
        "import math\n",
        "import statistics\n",
        "import seaborn as sns"
      ],
      "execution_count": null,
      "outputs": []
    },
    {
      "cell_type": "code",
      "metadata": {
        "id": "GEWuJnfXpylf",
        "colab": {
          "resources": {
            "http://localhost:8080/nbextensions/google.colab/files.js": {
              "data": "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",
              "ok": true,
              "headers": [
                [
                  "content-type",
                  "application/javascript"
                ]
              ],
              "status": 200,
              "status_text": ""
            }
          },
          "base_uri": "https://localhost:8080/",
          "height": 74
        },
        "outputId": "eebcc11d-0656-4721-9732-b8b14dae437a"
      },
      "source": [
        "from google.colab import files\n",
        "uploaded = files.upload()"
      ],
      "execution_count": null,
      "outputs": [
        {
          "output_type": "display_data",
          "data": {
            "text/html": [
              "\n",
              "     <input type=\"file\" id=\"files-add11bb5-7270-4127-acf1-998b142e6bb3\" name=\"files[]\" multiple disabled />\n",
              "     <output id=\"result-add11bb5-7270-4127-acf1-998b142e6bb3\">\n",
              "      Upload widget is only available when the cell has been executed in the\n",
              "      current browser session. Please rerun this cell to enable.\n",
              "      </output>\n",
              "      <script src=\"/nbextensions/google.colab/files.js\"></script> "
            ],
            "text/plain": [
              "<IPython.core.display.HTML object>"
            ]
          },
          "metadata": {
            "tags": []
          }
        },
        {
          "output_type": "stream",
          "text": [
            "Saving Survey.csv to Survey (1).csv\n"
          ],
          "name": "stdout"
        }
      ]
    },
    {
      "cell_type": "code",
      "metadata": {
        "id": "DNQKN4qsp1lo",
        "colab": {
          "base_uri": "https://localhost:8080/",
          "height": 204
        },
        "outputId": "d15f626d-146a-4e0d-ee26-3dbdf21d7d61"
      },
      "source": [
        "df = pd.read_csv(io.BytesIO(uploaded['Survey.csv']))\n",
        "df.head()"
      ],
      "execution_count": null,
      "outputs": [
        {
          "output_type": "execute_result",
          "data": {
            "text/html": [
              "<div>\n",
              "<style scoped>\n",
              "    .dataframe tbody tr th:only-of-type {\n",
              "        vertical-align: middle;\n",
              "    }\n",
              "\n",
              "    .dataframe tbody tr th {\n",
              "        vertical-align: top;\n",
              "    }\n",
              "\n",
              "    .dataframe thead th {\n",
              "        text-align: right;\n",
              "    }\n",
              "</style>\n",
              "<table border=\"1\" class=\"dataframe\">\n",
              "  <thead>\n",
              "    <tr style=\"text-align: right;\">\n",
              "      <th></th>\n",
              "      <th>ID</th>\n",
              "      <th>Gender</th>\n",
              "      <th>Age</th>\n",
              "      <th>Class</th>\n",
              "      <th>Major</th>\n",
              "      <th>Grad Intention</th>\n",
              "      <th>GPA</th>\n",
              "      <th>Employment</th>\n",
              "      <th>Salary</th>\n",
              "      <th>Social Networking</th>\n",
              "      <th>Satisfaction</th>\n",
              "      <th>Spending</th>\n",
              "      <th>Computer</th>\n",
              "      <th>Text Messages</th>\n",
              "    </tr>\n",
              "  </thead>\n",
              "  <tbody>\n",
              "    <tr>\n",
              "      <th>0</th>\n",
              "      <td>1</td>\n",
              "      <td>Female</td>\n",
              "      <td>20</td>\n",
              "      <td>Junior</td>\n",
              "      <td>Other</td>\n",
              "      <td>Yes</td>\n",
              "      <td>2.9</td>\n",
              "      <td>Full-Time</td>\n",
              "      <td>50.0</td>\n",
              "      <td>1</td>\n",
              "      <td>3</td>\n",
              "      <td>350</td>\n",
              "      <td>Laptop</td>\n",
              "      <td>200</td>\n",
              "    </tr>\n",
              "    <tr>\n",
              "      <th>1</th>\n",
              "      <td>2</td>\n",
              "      <td>Male</td>\n",
              "      <td>23</td>\n",
              "      <td>Senior</td>\n",
              "      <td>Management</td>\n",
              "      <td>Yes</td>\n",
              "      <td>3.6</td>\n",
              "      <td>Part-Time</td>\n",
              "      <td>25.0</td>\n",
              "      <td>1</td>\n",
              "      <td>4</td>\n",
              "      <td>360</td>\n",
              "      <td>Laptop</td>\n",
              "      <td>50</td>\n",
              "    </tr>\n",
              "    <tr>\n",
              "      <th>2</th>\n",
              "      <td>3</td>\n",
              "      <td>Male</td>\n",
              "      <td>21</td>\n",
              "      <td>Junior</td>\n",
              "      <td>Other</td>\n",
              "      <td>Yes</td>\n",
              "      <td>2.5</td>\n",
              "      <td>Part-Time</td>\n",
              "      <td>45.0</td>\n",
              "      <td>2</td>\n",
              "      <td>4</td>\n",
              "      <td>600</td>\n",
              "      <td>Laptop</td>\n",
              "      <td>200</td>\n",
              "    </tr>\n",
              "    <tr>\n",
              "      <th>3</th>\n",
              "      <td>4</td>\n",
              "      <td>Male</td>\n",
              "      <td>21</td>\n",
              "      <td>Junior</td>\n",
              "      <td>CIS</td>\n",
              "      <td>Yes</td>\n",
              "      <td>2.5</td>\n",
              "      <td>Full-Time</td>\n",
              "      <td>40.0</td>\n",
              "      <td>4</td>\n",
              "      <td>6</td>\n",
              "      <td>600</td>\n",
              "      <td>Laptop</td>\n",
              "      <td>250</td>\n",
              "    </tr>\n",
              "    <tr>\n",
              "      <th>4</th>\n",
              "      <td>5</td>\n",
              "      <td>Male</td>\n",
              "      <td>23</td>\n",
              "      <td>Senior</td>\n",
              "      <td>Other</td>\n",
              "      <td>Undecided</td>\n",
              "      <td>2.8</td>\n",
              "      <td>Unemployed</td>\n",
              "      <td>40.0</td>\n",
              "      <td>2</td>\n",
              "      <td>4</td>\n",
              "      <td>500</td>\n",
              "      <td>Laptop</td>\n",
              "      <td>100</td>\n",
              "    </tr>\n",
              "  </tbody>\n",
              "</table>\n",
              "</div>"
            ],
            "text/plain": [
              "   ID  Gender  Age   Class  ... Satisfaction Spending  Computer Text Messages\n",
              "0   1  Female   20  Junior  ...            3      350    Laptop           200\n",
              "1   2    Male   23  Senior  ...            4      360    Laptop            50\n",
              "2   3    Male   21  Junior  ...            4      600    Laptop           200\n",
              "3   4    Male   21  Junior  ...            6      600    Laptop           250\n",
              "4   5    Male   23  Senior  ...            4      500    Laptop           100\n",
              "\n",
              "[5 rows x 14 columns]"
            ]
          },
          "metadata": {
            "tags": []
          },
          "execution_count": 8
        }
      ]
    },
    {
      "cell_type": "markdown",
      "metadata": {
        "id": "1medbVgRvWZE"
      },
      "source": [
        "#2.1. For this data, construct the following contingency tables (Keep Gender as row variable)\n"
      ]
    },
    {
      "cell_type": "markdown",
      "metadata": {
        "id": "OjGaUbEvvdl6"
      },
      "source": [
        "2.1.1. Gender and Major\n"
      ]
    },
    {
      "cell_type": "code",
      "metadata": {
        "id": "yMmsA86yqSyx",
        "colab": {
          "base_uri": "https://localhost:8080/",
          "height": 173
        },
        "outputId": "da463f64-ead5-48ec-e3a4-6b241cba94f9"
      },
      "source": [
        "data_con1 = pd.crosstab(df['Gender'],  \n",
        "                            df['Major'], \n",
        "                                margins = True) \n",
        "data_con1"
      ],
      "execution_count": null,
      "outputs": [
        {
          "output_type": "execute_result",
          "data": {
            "text/html": [
              "<div>\n",
              "<style scoped>\n",
              "    .dataframe tbody tr th:only-of-type {\n",
              "        vertical-align: middle;\n",
              "    }\n",
              "\n",
              "    .dataframe tbody tr th {\n",
              "        vertical-align: top;\n",
              "    }\n",
              "\n",
              "    .dataframe thead th {\n",
              "        text-align: right;\n",
              "    }\n",
              "</style>\n",
              "<table border=\"1\" class=\"dataframe\">\n",
              "  <thead>\n",
              "    <tr style=\"text-align: right;\">\n",
              "      <th>Major</th>\n",
              "      <th>Accounting</th>\n",
              "      <th>CIS</th>\n",
              "      <th>Economics/Finance</th>\n",
              "      <th>International Business</th>\n",
              "      <th>Management</th>\n",
              "      <th>Other</th>\n",
              "      <th>Retailing/Marketing</th>\n",
              "      <th>Undecided</th>\n",
              "      <th>All</th>\n",
              "    </tr>\n",
              "    <tr>\n",
              "      <th>Gender</th>\n",
              "      <th></th>\n",
              "      <th></th>\n",
              "      <th></th>\n",
              "      <th></th>\n",
              "      <th></th>\n",
              "      <th></th>\n",
              "      <th></th>\n",
              "      <th></th>\n",
              "      <th></th>\n",
              "    </tr>\n",
              "  </thead>\n",
              "  <tbody>\n",
              "    <tr>\n",
              "      <th>Female</th>\n",
              "      <td>3</td>\n",
              "      <td>3</td>\n",
              "      <td>7</td>\n",
              "      <td>4</td>\n",
              "      <td>4</td>\n",
              "      <td>3</td>\n",
              "      <td>9</td>\n",
              "      <td>0</td>\n",
              "      <td>33</td>\n",
              "    </tr>\n",
              "    <tr>\n",
              "      <th>Male</th>\n",
              "      <td>4</td>\n",
              "      <td>1</td>\n",
              "      <td>4</td>\n",
              "      <td>2</td>\n",
              "      <td>6</td>\n",
              "      <td>4</td>\n",
              "      <td>5</td>\n",
              "      <td>3</td>\n",
              "      <td>29</td>\n",
              "    </tr>\n",
              "    <tr>\n",
              "      <th>All</th>\n",
              "      <td>7</td>\n",
              "      <td>4</td>\n",
              "      <td>11</td>\n",
              "      <td>6</td>\n",
              "      <td>10</td>\n",
              "      <td>7</td>\n",
              "      <td>14</td>\n",
              "      <td>3</td>\n",
              "      <td>62</td>\n",
              "    </tr>\n",
              "  </tbody>\n",
              "</table>\n",
              "</div>"
            ],
            "text/plain": [
              "Major   Accounting  CIS  Economics/Finance  ...  Retailing/Marketing  Undecided  All\n",
              "Gender                                      ...                                     \n",
              "Female           3    3                  7  ...                    9          0   33\n",
              "Male             4    1                  4  ...                    5          3   29\n",
              "All              7    4                 11  ...                   14          3   62\n",
              "\n",
              "[3 rows x 9 columns]"
            ]
          },
          "metadata": {
            "tags": []
          },
          "execution_count": 9
        }
      ]
    },
    {
      "cell_type": "markdown",
      "metadata": {
        "id": "q4ABrV0WwF15"
      },
      "source": [
        "2.1.2. Gender and Grad Intention\n"
      ]
    },
    {
      "cell_type": "code",
      "metadata": {
        "id": "VrztQzkXwmfY",
        "colab": {
          "base_uri": "https://localhost:8080/",
          "height": 173
        },
        "outputId": "03d42141-8689-4335-c9b2-e8b76549c111"
      },
      "source": [
        "data_con2 = pd.crosstab(df['Gender'],  \n",
        "                            df['Grad Intention'], \n",
        "                                margins = True) \n",
        "data_con2"
      ],
      "execution_count": null,
      "outputs": [
        {
          "output_type": "execute_result",
          "data": {
            "text/html": [
              "<div>\n",
              "<style scoped>\n",
              "    .dataframe tbody tr th:only-of-type {\n",
              "        vertical-align: middle;\n",
              "    }\n",
              "\n",
              "    .dataframe tbody tr th {\n",
              "        vertical-align: top;\n",
              "    }\n",
              "\n",
              "    .dataframe thead th {\n",
              "        text-align: right;\n",
              "    }\n",
              "</style>\n",
              "<table border=\"1\" class=\"dataframe\">\n",
              "  <thead>\n",
              "    <tr style=\"text-align: right;\">\n",
              "      <th>Grad Intention</th>\n",
              "      <th>No</th>\n",
              "      <th>Undecided</th>\n",
              "      <th>Yes</th>\n",
              "      <th>All</th>\n",
              "    </tr>\n",
              "    <tr>\n",
              "      <th>Gender</th>\n",
              "      <th></th>\n",
              "      <th></th>\n",
              "      <th></th>\n",
              "      <th></th>\n",
              "    </tr>\n",
              "  </thead>\n",
              "  <tbody>\n",
              "    <tr>\n",
              "      <th>Female</th>\n",
              "      <td>9</td>\n",
              "      <td>13</td>\n",
              "      <td>11</td>\n",
              "      <td>33</td>\n",
              "    </tr>\n",
              "    <tr>\n",
              "      <th>Male</th>\n",
              "      <td>3</td>\n",
              "      <td>9</td>\n",
              "      <td>17</td>\n",
              "      <td>29</td>\n",
              "    </tr>\n",
              "    <tr>\n",
              "      <th>All</th>\n",
              "      <td>12</td>\n",
              "      <td>22</td>\n",
              "      <td>28</td>\n",
              "      <td>62</td>\n",
              "    </tr>\n",
              "  </tbody>\n",
              "</table>\n",
              "</div>"
            ],
            "text/plain": [
              "Grad Intention  No  Undecided  Yes  All\n",
              "Gender                                 \n",
              "Female           9         13   11   33\n",
              "Male             3          9   17   29\n",
              "All             12         22   28   62"
            ]
          },
          "metadata": {
            "tags": []
          },
          "execution_count": 10
        }
      ]
    },
    {
      "cell_type": "markdown",
      "metadata": {
        "id": "JicnP-a2wXmv"
      },
      "source": [
        "2.1.3. Gender and Employment\n"
      ]
    },
    {
      "cell_type": "code",
      "metadata": {
        "id": "LoEJdQeVxkAC",
        "colab": {
          "base_uri": "https://localhost:8080/",
          "height": 173
        },
        "outputId": "b3305d2d-7366-4659-863e-e96aeb9f4715"
      },
      "source": [
        "data_con3 = pd.crosstab(df['Gender'],  \n",
        "                            df['Employment'], \n",
        "                                margins = True) \n",
        "data_con3"
      ],
      "execution_count": null,
      "outputs": [
        {
          "output_type": "execute_result",
          "data": {
            "text/html": [
              "<div>\n",
              "<style scoped>\n",
              "    .dataframe tbody tr th:only-of-type {\n",
              "        vertical-align: middle;\n",
              "    }\n",
              "\n",
              "    .dataframe tbody tr th {\n",
              "        vertical-align: top;\n",
              "    }\n",
              "\n",
              "    .dataframe thead th {\n",
              "        text-align: right;\n",
              "    }\n",
              "</style>\n",
              "<table border=\"1\" class=\"dataframe\">\n",
              "  <thead>\n",
              "    <tr style=\"text-align: right;\">\n",
              "      <th>Employment</th>\n",
              "      <th>Full-Time</th>\n",
              "      <th>Part-Time</th>\n",
              "      <th>Unemployed</th>\n",
              "      <th>All</th>\n",
              "    </tr>\n",
              "    <tr>\n",
              "      <th>Gender</th>\n",
              "      <th></th>\n",
              "      <th></th>\n",
              "      <th></th>\n",
              "      <th></th>\n",
              "    </tr>\n",
              "  </thead>\n",
              "  <tbody>\n",
              "    <tr>\n",
              "      <th>Female</th>\n",
              "      <td>3</td>\n",
              "      <td>24</td>\n",
              "      <td>6</td>\n",
              "      <td>33</td>\n",
              "    </tr>\n",
              "    <tr>\n",
              "      <th>Male</th>\n",
              "      <td>7</td>\n",
              "      <td>19</td>\n",
              "      <td>3</td>\n",
              "      <td>29</td>\n",
              "    </tr>\n",
              "    <tr>\n",
              "      <th>All</th>\n",
              "      <td>10</td>\n",
              "      <td>43</td>\n",
              "      <td>9</td>\n",
              "      <td>62</td>\n",
              "    </tr>\n",
              "  </tbody>\n",
              "</table>\n",
              "</div>"
            ],
            "text/plain": [
              "Employment  Full-Time  Part-Time  Unemployed  All\n",
              "Gender                                           \n",
              "Female              3         24           6   33\n",
              "Male                7         19           3   29\n",
              "All                10         43           9   62"
            ]
          },
          "metadata": {
            "tags": []
          },
          "execution_count": 11
        }
      ]
    },
    {
      "cell_type": "markdown",
      "metadata": {
        "id": "MTAB_Qc9wY-Y"
      },
      "source": [
        "2.1.4. Gender and Computer\n"
      ]
    },
    {
      "cell_type": "code",
      "metadata": {
        "id": "AkiSDL_6ypLh",
        "colab": {
          "base_uri": "https://localhost:8080/",
          "height": 173
        },
        "outputId": "e52d883b-e19f-40cf-e710-5b9bd1bc1e54"
      },
      "source": [
        "data_con4 = pd.crosstab(df['Gender'],  \n",
        "                            df['Computer'], \n",
        "                                margins = True) \n",
        "data_con4"
      ],
      "execution_count": null,
      "outputs": [
        {
          "output_type": "execute_result",
          "data": {
            "text/html": [
              "<div>\n",
              "<style scoped>\n",
              "    .dataframe tbody tr th:only-of-type {\n",
              "        vertical-align: middle;\n",
              "    }\n",
              "\n",
              "    .dataframe tbody tr th {\n",
              "        vertical-align: top;\n",
              "    }\n",
              "\n",
              "    .dataframe thead th {\n",
              "        text-align: right;\n",
              "    }\n",
              "</style>\n",
              "<table border=\"1\" class=\"dataframe\">\n",
              "  <thead>\n",
              "    <tr style=\"text-align: right;\">\n",
              "      <th>Computer</th>\n",
              "      <th>Desktop</th>\n",
              "      <th>Laptop</th>\n",
              "      <th>Tablet</th>\n",
              "      <th>All</th>\n",
              "    </tr>\n",
              "    <tr>\n",
              "      <th>Gender</th>\n",
              "      <th></th>\n",
              "      <th></th>\n",
              "      <th></th>\n",
              "      <th></th>\n",
              "    </tr>\n",
              "  </thead>\n",
              "  <tbody>\n",
              "    <tr>\n",
              "      <th>Female</th>\n",
              "      <td>2</td>\n",
              "      <td>29</td>\n",
              "      <td>2</td>\n",
              "      <td>33</td>\n",
              "    </tr>\n",
              "    <tr>\n",
              "      <th>Male</th>\n",
              "      <td>3</td>\n",
              "      <td>26</td>\n",
              "      <td>0</td>\n",
              "      <td>29</td>\n",
              "    </tr>\n",
              "    <tr>\n",
              "      <th>All</th>\n",
              "      <td>5</td>\n",
              "      <td>55</td>\n",
              "      <td>2</td>\n",
              "      <td>62</td>\n",
              "    </tr>\n",
              "  </tbody>\n",
              "</table>\n",
              "</div>"
            ],
            "text/plain": [
              "Computer  Desktop  Laptop  Tablet  All\n",
              "Gender                                \n",
              "Female          2      29       2   33\n",
              "Male            3      26       0   29\n",
              "All             5      55       2   62"
            ]
          },
          "metadata": {
            "tags": []
          },
          "execution_count": 12
        }
      ]
    },
    {
      "cell_type": "markdown",
      "metadata": {
        "id": "x-Bs0fjLwbP_"
      },
      "source": [
        "# 2.2. Assume that the sample is a representative of the population of CMSU. Based on the data, answer the following questions:"
      ]
    },
    {
      "cell_type": "markdown",
      "metadata": {
        "id": "Fd96l1yDweRR"
      },
      "source": [
        "2.2.1. What is the probability that a randomly selected CMSU student will be male?"
      ]
    },
    {
      "cell_type": "code",
      "metadata": {
        "id": "gQ9_VpgWyv1K",
        "colab": {
          "base_uri": "https://localhost:8080/",
          "height": 51
        },
        "outputId": "def48917-5b8d-45d6-d3e8-190023c85842"
      },
      "source": [
        "df1 = df.query(\"Gender=='Male'\")\n",
        "mpro=df1['Gender'].value_counts()/len(df)\n",
        "mpro"
      ],
      "execution_count": null,
      "outputs": [
        {
          "output_type": "execute_result",
          "data": {
            "text/plain": [
              "Male    0.467742\n",
              "Name: Gender, dtype: float64"
            ]
          },
          "metadata": {
            "tags": []
          },
          "execution_count": 13
        }
      ]
    },
    {
      "cell_type": "markdown",
      "metadata": {
        "id": "5i31-vTEwzl0"
      },
      "source": [
        "What is the probability that a randomly selected CMSU student will be female?"
      ]
    },
    {
      "cell_type": "code",
      "metadata": {
        "id": "q2I6peAWw1ik",
        "colab": {
          "base_uri": "https://localhost:8080/",
          "height": 51
        },
        "outputId": "9c1eaab5-5ad8-496a-aa0f-23b87a5fd289"
      },
      "source": [
        "df2 = df.query(\"Gender=='Female'\")\n",
        "fpro=df2['Gender'].value_counts()/len(df)\n",
        "fpro"
      ],
      "execution_count": null,
      "outputs": [
        {
          "output_type": "execute_result",
          "data": {
            "text/plain": [
              "Female    0.532258\n",
              "Name: Gender, dtype: float64"
            ]
          },
          "metadata": {
            "tags": []
          },
          "execution_count": 14
        }
      ]
    },
    {
      "cell_type": "markdown",
      "metadata": {
        "id": "MZDSH80Ow8Hw"
      },
      "source": [
        "2.2.2. Find the conditional probability of different majors among the male students in CMSU."
      ]
    },
    {
      "cell_type": "code",
      "metadata": {
        "id": "QfN7DCGEpSb7",
        "colab": {
          "base_uri": "https://localhost:8080/",
          "height": 187
        },
        "outputId": "17bc369d-34d8-41aa-fee2-c18f10ea18d8"
      },
      "source": [
        "malemajor = df.query(\"Gender=='Male'\")\n",
        "malemajor.groupby(['Major','Gender']).size().div(len(malemajor))"
      ],
      "execution_count": null,
      "outputs": [
        {
          "output_type": "execute_result",
          "data": {
            "text/plain": [
              "Major                   Gender\n",
              "Accounting              Male      0.137931\n",
              "CIS                     Male      0.034483\n",
              "Economics/Finance       Male      0.137931\n",
              "International Business  Male      0.068966\n",
              "Management              Male      0.206897\n",
              "Other                   Male      0.137931\n",
              "Retailing/Marketing     Male      0.172414\n",
              "Undecided               Male      0.103448\n",
              "dtype: float64"
            ]
          },
          "metadata": {
            "tags": []
          },
          "execution_count": 15
        }
      ]
    },
    {
      "cell_type": "markdown",
      "metadata": {
        "id": "SprpBfyXxKZU"
      },
      "source": [
        "Find the conditional probability of different majors among the female students of CMSU."
      ]
    },
    {
      "cell_type": "code",
      "metadata": {
        "id": "bIGvna6tsPfi",
        "colab": {
          "base_uri": "https://localhost:8080/",
          "height": 170
        },
        "outputId": "265e85d9-0b3b-44bb-f995-9cb812f1ba73"
      },
      "source": [
        "femalemajor = df.query(\"Gender=='Female'\")\n",
        "femalemajor.groupby(['Major','Gender']).size().div(len(femalemajor))"
      ],
      "execution_count": null,
      "outputs": [
        {
          "output_type": "execute_result",
          "data": {
            "text/plain": [
              "Major                   Gender\n",
              "Accounting              Female    0.090909\n",
              "CIS                     Female    0.090909\n",
              "Economics/Finance       Female    0.212121\n",
              "International Business  Female    0.121212\n",
              "Management              Female    0.121212\n",
              "Other                   Female    0.090909\n",
              "Retailing/Marketing     Female    0.272727\n",
              "dtype: float64"
            ]
          },
          "metadata": {
            "tags": []
          },
          "execution_count": 16
        }
      ]
    },
    {
      "cell_type": "markdown",
      "metadata": {
        "id": "g4NYBZnOxpcK"
      },
      "source": [
        "2.2.3. Find the conditional probability of intent to graduate, given that the student is a male."
      ]
    },
    {
      "cell_type": "code",
      "metadata": {
        "id": "kqFCJDl3Z7-Q",
        "colab": {
          "base_uri": "https://localhost:8080/",
          "height": 102
        },
        "outputId": "a959312d-6a6b-4c5a-9b08-f971622144f0"
      },
      "source": [
        "malegrad = df.query(\"Gender=='Male'\")\n",
        "malegrad.groupby(['Grad Intention','Gender']).size().div(len(malegrad))"
      ],
      "execution_count": null,
      "outputs": [
        {
          "output_type": "execute_result",
          "data": {
            "text/plain": [
              "Grad Intention  Gender\n",
              "No              Male      0.103448\n",
              "Undecided       Male      0.310345\n",
              "Yes             Male      0.586207\n",
              "dtype: float64"
            ]
          },
          "metadata": {
            "tags": []
          },
          "execution_count": 17
        }
      ]
    },
    {
      "cell_type": "markdown",
      "metadata": {
        "id": "pnn0mejsxuze"
      },
      "source": [
        "Find the conditional probability of intent to graduate, given that the student is a female."
      ]
    },
    {
      "cell_type": "code",
      "metadata": {
        "id": "QTvQW4aXtEoS",
        "colab": {
          "base_uri": "https://localhost:8080/",
          "height": 102
        },
        "outputId": "a7dedc12-c184-49f8-9b39-9afae310ac29"
      },
      "source": [
        "femalegrad = df.query(\"Gender=='Female'\")\n",
        "femalegrad.groupby(['Grad Intention','Gender']).size().div(len(femalegrad))"
      ],
      "execution_count": null,
      "outputs": [
        {
          "output_type": "execute_result",
          "data": {
            "text/plain": [
              "Grad Intention  Gender\n",
              "No              Female    0.272727\n",
              "Undecided       Female    0.393939\n",
              "Yes             Female    0.333333\n",
              "dtype: float64"
            ]
          },
          "metadata": {
            "tags": []
          },
          "execution_count": 18
        }
      ]
    },
    {
      "cell_type": "markdown",
      "metadata": {
        "id": "kNjUurmSx0Nv"
      },
      "source": [
        "2.2.4. Find the conditional probability of employment status for the male students as well as for the female students."
      ]
    },
    {
      "cell_type": "code",
      "metadata": {
        "id": "awuDrAWftcI9",
        "colab": {
          "base_uri": "https://localhost:8080/",
          "height": 153
        },
        "outputId": "3fe0b518-b198-4e2b-f6d4-9d6791ab5fe2"
      },
      "source": [
        "gender_probs=df.groupby('Gender').size().div(len(df))\n",
        "cond1=df.groupby(['Employment', 'Gender']).size().div(len(df)).div(gender_probs, axis=0, level='Gender')   #Used this code because the question says to find out for men and women in one line. \n",
        "cond1"
      ],
      "execution_count": null,
      "outputs": [
        {
          "output_type": "execute_result",
          "data": {
            "text/plain": [
              "Employment  Gender\n",
              "Full-Time   Female    0.090909\n",
              "            Male      0.241379\n",
              "Part-Time   Female    0.727273\n",
              "            Male      0.655172\n",
              "Unemployed  Female    0.181818\n",
              "            Male      0.103448\n",
              "dtype: float64"
            ]
          },
          "metadata": {
            "tags": []
          },
          "execution_count": 19
        }
      ]
    },
    {
      "cell_type": "markdown",
      "metadata": {
        "id": "fdMq3f8RvNnc"
      },
      "source": [
        "2.2.5. Find the conditional probability of laptop preference among the male students as well as among the female students."
      ]
    },
    {
      "cell_type": "code",
      "metadata": {
        "id": "O37-sYpbm0Tn",
        "colab": {
          "base_uri": "https://localhost:8080/",
          "height": 85
        },
        "outputId": "e4f324fe-1626-41f1-993a-a24cb30f919b"
      },
      "source": [
        "laptoppref = df.query(\"Computer=='Laptop'\")\n",
        "laptoppref.groupby(['Computer','Gender']).size().div(len(laptoppref))"
      ],
      "execution_count": null,
      "outputs": [
        {
          "output_type": "execute_result",
          "data": {
            "text/plain": [
              "Computer  Gender\n",
              "Laptop    Female    0.527273\n",
              "          Male      0.472727\n",
              "dtype: float64"
            ]
          },
          "metadata": {
            "tags": []
          },
          "execution_count": 20
        }
      ]
    },
    {
      "cell_type": "markdown",
      "metadata": {
        "id": "0dfh7Uq4TZnE"
      },
      "source": [
        "# 2.3. Based on the above probabilities, do you think that the column variable in each case is independent of Gender? Justify your comment in each case."
      ]
    },
    {
      "cell_type": "code",
      "metadata": {
        "id": "0rhaMWYvTaoS",
        "colab": {
          "base_uri": "https://localhost:8080/",
          "height": 51
        },
        "outputId": "9db6387d-80c3-4292-c2c0-5095b1054cae"
      },
      "source": [
        "acc= df.query(\"Major=='Accounting'\")\n",
        "accpro=acc['Major'].value_counts()/len(df)\n",
        "accpro                                               #P(Accounting)"
      ],
      "execution_count": null,
      "outputs": [
        {
          "output_type": "execute_result",
          "data": {
            "text/plain": [
              "Accounting    0.112903\n",
              "Name: Major, dtype: float64"
            ]
          },
          "metadata": {
            "tags": []
          },
          "execution_count": 21
        }
      ]
    },
    {
      "cell_type": "code",
      "metadata": {
        "id": "DPB5aGeMVG5D",
        "colab": {
          "base_uri": "https://localhost:8080/",
          "height": 51
        },
        "outputId": "699d292a-7b2a-4f4b-fd76-68df8a7d463e"
      },
      "source": [
        "cis= df.query(\"Major=='CIS'\")\n",
        "cispro=cis['Major'].value_counts()/len(df)\n",
        "cispro                                               #P(CIS)                     "
      ],
      "execution_count": null,
      "outputs": [
        {
          "output_type": "execute_result",
          "data": {
            "text/plain": [
              "CIS    0.064516\n",
              "Name: Major, dtype: float64"
            ]
          },
          "metadata": {
            "tags": []
          },
          "execution_count": 22
        }
      ]
    },
    {
      "cell_type": "code",
      "metadata": {
        "id": "LyBDp68iWDjX",
        "colab": {
          "base_uri": "https://localhost:8080/",
          "height": 51
        },
        "outputId": "6d96f2e3-a80b-412d-de17-0639919f2354"
      },
      "source": [
        "eco= df.query(\"Major=='Economics/Finance'\")\n",
        "ecopro=eco['Major'].value_counts()/len(df)\n",
        "ecopro                                                #P(Economics/Finance)"
      ],
      "execution_count": null,
      "outputs": [
        {
          "output_type": "execute_result",
          "data": {
            "text/plain": [
              "Economics/Finance    0.177419\n",
              "Name: Major, dtype: float64"
            ]
          },
          "metadata": {
            "tags": []
          },
          "execution_count": 23
        }
      ]
    },
    {
      "cell_type": "code",
      "metadata": {
        "id": "7yUM6qvDWwYb",
        "colab": {
          "base_uri": "https://localhost:8080/",
          "height": 51
        },
        "outputId": "29ad83ed-1320-4cf6-b86c-5b7447f35e21"
      },
      "source": [
        "IBs= df.query(\"Major=='International Business'\")\n",
        "IBspro=IBs['Major'].value_counts()/len(df)\n",
        "IBspro                                                #P(International Business)"
      ],
      "execution_count": null,
      "outputs": [
        {
          "output_type": "execute_result",
          "data": {
            "text/plain": [
              "International Business    0.096774\n",
              "Name: Major, dtype: float64"
            ]
          },
          "metadata": {
            "tags": []
          },
          "execution_count": 24
        }
      ]
    },
    {
      "cell_type": "code",
      "metadata": {
        "id": "rIZ2JPF2Xlcb",
        "colab": {
          "base_uri": "https://localhost:8080/",
          "height": 51
        },
        "outputId": "c43b9d6d-5202-407c-dc69-cdc7ef93f8a8"
      },
      "source": [
        "mgmt= df.query(\"Major=='Management'\")\n",
        "mgmtpro=mgmt['Major'].value_counts()/len(df)\n",
        "mgmtpro                                               #P(Management)"
      ],
      "execution_count": null,
      "outputs": [
        {
          "output_type": "execute_result",
          "data": {
            "text/plain": [
              "Management    0.16129\n",
              "Name: Major, dtype: float64"
            ]
          },
          "metadata": {
            "tags": []
          },
          "execution_count": 25
        }
      ]
    },
    {
      "cell_type": "code",
      "metadata": {
        "id": "sv5Wj15aXz2e",
        "colab": {
          "base_uri": "https://localhost:8080/",
          "height": 51
        },
        "outputId": "4a691e5e-135e-407e-a8d5-7defb993faf2"
      },
      "source": [
        "other= df.query(\"Major=='Other'\")\n",
        "otherpro=other['Major'].value_counts()/len(df)\n",
        "otherpro                                              #P(Other)"
      ],
      "execution_count": null,
      "outputs": [
        {
          "output_type": "execute_result",
          "data": {
            "text/plain": [
              "Other    0.112903\n",
              "Name: Major, dtype: float64"
            ]
          },
          "metadata": {
            "tags": []
          },
          "execution_count": 26
        }
      ]
    },
    {
      "cell_type": "code",
      "metadata": {
        "id": "LItQk8_5YITf",
        "colab": {
          "base_uri": "https://localhost:8080/",
          "height": 51
        },
        "outputId": "a5caae90-037b-413d-b905-c71ec0a0da65"
      },
      "source": [
        "retmar= df.query(\"Major=='Retailing/Marketing'\")\n",
        "retmarpro=retmar['Major'].value_counts()/len(df)\n",
        "retmarpro                                                #P(Retailing/Marketing)"
      ],
      "execution_count": null,
      "outputs": [
        {
          "output_type": "execute_result",
          "data": {
            "text/plain": [
              "Retailing/Marketing    0.225806\n",
              "Name: Major, dtype: float64"
            ]
          },
          "metadata": {
            "tags": []
          },
          "execution_count": 27
        }
      ]
    },
    {
      "cell_type": "markdown",
      "metadata": {
        "id": "9FuSFwISHlBj"
      },
      "source": [
        "# Part II\n",
        "\n",
        "2.4. Note that there are three numerical (continuous) variables in the data set, Salary, Spending and Text Messages. For each of them comment whether they follow a normal distribution.\n",
        "Write a note summarizing your conclusions.\n",
        "[Recall that symmetric histogram does not necessarily mean that the underlying distribution is symmetric]"
      ]
    },
    {
      "cell_type": "code",
      "metadata": {
        "id": "7DgAuiNfnAaa",
        "colab": {
          "base_uri": "https://localhost:8080/",
          "height": 296
        },
        "outputId": "b2938f8a-18ab-4533-d095-09e9842d2ff7"
      },
      "source": [
        "sns.distplot(df['Salary'])"
      ],
      "execution_count": null,
      "outputs": [
        {
          "output_type": "execute_result",
          "data": {
            "text/plain": [
              "<matplotlib.axes._subplots.AxesSubplot at 0x7fa2f8ee7ba8>"
            ]
          },
          "metadata": {
            "tags": []
          },
          "execution_count": 28
        },
        {
          "output_type": "display_data",
          "data": {
            "image/png": "[encoded data removed]",
            "text/plain": [
              "<Figure size 432x288 with 1 Axes>"
            ]
          },
          "metadata": {
            "tags": []
          }
        }
      ]
    },
    {
      "cell_type": "markdown",
      "metadata": {
        "id": "-sr1JywLROmM"
      },
      "source": [
        "The graph does not give us a clear picture of the data, hence we should go for Shapiro test"
      ]
    },
    {
      "cell_type": "code",
      "metadata": {
        "id": "KBjnq8R0RRti",
        "colab": {
          "base_uri": "https://localhost:8080/",
          "height": 34
        },
        "outputId": "2cf555c8-73f2-4d3c-9966-394c3ac492fd"
      },
      "source": [
        "a=py.stats.shapiro(df['Salary'])\n",
        "a"
      ],
      "execution_count": null,
      "outputs": [
        {
          "output_type": "execute_result",
          "data": {
            "text/plain": [
              "(0.9565857648849487, 0.028001394122838974)"
            ]
          },
          "metadata": {
            "tags": []
          },
          "execution_count": 29
        }
      ]
    },
    {
      "cell_type": "markdown",
      "metadata": {
        "id": "w4HJCzd7RYdR"
      },
      "source": [
        "Here, since the p value is less than 0.05, hence we can clearly say that the distribution for the above data is not normal."
      ]
    },
    {
      "cell_type": "code",
      "metadata": {
        "id": "3LObCOQUIXJu",
        "colab": {
          "base_uri": "https://localhost:8080/",
          "height": 296
        },
        "outputId": "b34fb400-f75e-489d-96aa-b7dd6ed63a31"
      },
      "source": [
        "sns.distplot(df['Spending'])"
      ],
      "execution_count": null,
      "outputs": [
        {
          "output_type": "execute_result",
          "data": {
            "text/plain": [
              "<matplotlib.axes._subplots.AxesSubplot at 0x7fa2f8e3f940>"
            ]
          },
          "metadata": {
            "tags": []
          },
          "execution_count": 30
        },
        {
          "output_type": "display_data",
          "data": {
            "image/png": "[encoded data removed]",
            "text/plain": [
              "<Figure size 432x288 with 1 Axes>"
            ]
          },
          "metadata": {
            "tags": []
          }
        }
      ]
    },
    {
      "cell_type": "markdown",
      "metadata": {
        "id": "bOgkSJONQk6L"
      },
      "source": [
        "The graph does not give us a clear picture of the data, hence we should go for Shapiro test\n"
      ]
    },
    {
      "cell_type": "code",
      "metadata": {
        "id": "zrQb-lxPQjzF",
        "colab": {
          "base_uri": "https://localhost:8080/",
          "height": 34
        },
        "outputId": "237db333-d462-4680-cae5-fb5e0a7b8acc"
      },
      "source": [
        "b=py.stats.shapiro(df['Spending'])\n",
        "b    "
      ],
      "execution_count": null,
      "outputs": [
        {
          "output_type": "execute_result",
          "data": {
            "text/plain": [
              "(0.8777452111244202, 1.6854661225806922e-05)"
            ]
          },
          "metadata": {
            "tags": []
          },
          "execution_count": 31
        }
      ]
    },
    {
      "cell_type": "markdown",
      "metadata": {
        "id": "gOZSOpoOQrq7"
      },
      "source": [
        "Here, since the p value is much less than 0.05, hence we can clearly say that the distribution for the above data is not normal. "
      ]
    },
    {
      "cell_type": "code",
      "metadata": {
        "id": "RXgS4VIdJhPA",
        "colab": {
          "base_uri": "https://localhost:8080/",
          "height": 296
        },
        "outputId": "783b627a-1b1e-45b5-9cb6-c02e02abe9a6"
      },
      "source": [
        "sns.distplot(df['Text Messages'])"
      ],
      "execution_count": null,
      "outputs": [
        {
          "output_type": "execute_result",
          "data": {
            "text/plain": [
              "<matplotlib.axes._subplots.AxesSubplot at 0x7fa2f8e3f908>"
            ]
          },
          "metadata": {
            "tags": []
          },
          "execution_count": 32
        },
        {
          "output_type": "display_data",
          "data": {
            "image/png": "[encoded data removed]",
            "text/plain": [
              "<Figure size 432x288 with 1 Axes>"
            ]
          },
          "metadata": {
            "tags": []
          }
        }
      ]
    },
    {
      "cell_type": "markdown",
      "metadata": {
        "id": "PMk_xk02Q9XV"
      },
      "source": [
        "The graph does not give us a clear picture of the data, hence we should go for Shapiro test"
      ]
    },
    {
      "cell_type": "code",
      "metadata": {
        "id": "LP3-UmYhQ-GU",
        "colab": {
          "base_uri": "https://localhost:8080/",
          "height": 34
        },
        "outputId": "31dfe22e-89a2-4c78-db52-bf532e3afd70"
      },
      "source": [
        "c=py.stats.shapiro(df['Text Messages'])\n",
        "c"
      ],
      "execution_count": null,
      "outputs": [
        {
          "output_type": "execute_result",
          "data": {
            "text/plain": [
              "(0.8594191074371338, 4.324040673964191e-06)"
            ]
          },
          "metadata": {
            "tags": []
          },
          "execution_count": 33
        }
      ]
    }
  ]
}