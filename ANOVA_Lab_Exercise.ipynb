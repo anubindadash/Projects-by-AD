{
  "nbformat": 4,
  "nbformat_minor": 0,
  "metadata": {
    "kernelspec": {
      "display_name": "Python 3",
      "language": "python",
      "name": "python3"
    },
    "language_info": {
      "codemirror_mode": {
        "name": "ipython",
        "version": 3
      },
      "file_extension": ".py",
      "mimetype": "text/x-python",
      "name": "python",
      "nbconvert_exporter": "python",
      "pygments_lexer": "ipython3",
      "version": "3.7.4"
    },
    "toc": {
      "base_numbering": 1,
      "nav_menu": {},
      "number_sections": true,
      "sideBar": true,
      "skip_h1_title": false,
      "title_cell": "Table of Contents",
      "title_sidebar": "Contents",
      "toc_cell": false,
      "toc_position": {},
      "toc_section_display": true,
      "toc_window_display": false
    },
    "varInspector": {
      "cols": {
        "lenName": 16,
        "lenType": 16,
        "lenVar": 40
      },
      "kernels_config": {
        "python": {
          "delete_cmd_postfix": "",
          "delete_cmd_prefix": "del ",
          "library": "var_list.py",
          "varRefreshCmd": "print(var_dic_list())"
        },
        "r": {
          "delete_cmd_postfix": ") ",
          "delete_cmd_prefix": "rm(",
          "library": "var_list.r",
          "varRefreshCmd": "cat(var_dic_list()) "
        }
      },
      "types_to_exclude": [
        "module",
        "function",
        "builtin_function_or_method",
        "instance",
        "_Feature"
      ],
      "window_display": false
    },
    "colab": {
      "name": "ANOVA Lab Exercise.ipynb",
      "provenance": [],
      "toc_visible": true,
      "include_colab_link": true
    }
  },
  "cells": [
    {
      "cell_type": "markdown",
      "metadata": {
        "id": "view-in-github",
        "colab_type": "text"
      },
      "source": [
        "<a href=\"https://colab.research.google.com/github/anubindadash/Projects-by-AD/blob/main/ANOVA_Lab_Exercise.ipynb\" target=\"_parent\"><img src=\"https://colab.research.google.com/assets/colab-badge.svg\" alt=\"Open In Colab\"/></a>"
      ]
    },
    {
      "cell_type": "markdown",
      "metadata": {
        "id": "hdK4ad47gW-J"
      },
      "source": [
        "<span style=\"font-family: Arial; font-weight:bold;font-size:1.5em;\">Problem Statement\n",
        "    \n",
        "__The staff of a service center for electrical appliances include three technicians who specialize in\n",
        "repairing three widely used electrical appliances by three different manufacturers. It was desired\n",
        "to study the effects of Technician and Manufacturer on the service time. Each technician was\n",
        "randomly assigned five repair jobs on each manufacturer's appliance and the time to complete\n",
        "each job (in minutes) was recorded.The data for this particular experiment is thus attached.__"
      ]
    },
    {
      "cell_type": "markdown",
      "metadata": {
        "id": "vp3xYui1gW-K"
      },
      "source": [
        "#### Note: Assume the data satisfies all the assumptions of ANOVA."
      ]
    },
    {
      "cell_type": "markdown",
      "metadata": {
        "id": "QJRF6j7SgW-M"
      },
      "source": [
        "<span style=\"font-family: Arial; font-weight:bold;font-size:1.5em;\"> Import all the required libraries "
      ]
    },
    {
      "cell_type": "code",
      "metadata": {
        "ExecuteTime": {
          "end_time": "2020-06-09T05:26:26.623930Z",
          "start_time": "2020-06-09T05:26:26.593345Z"
        },
        "id": "ttETe2VngW-M"
      },
      "source": [
        "import numpy as np\n",
        "import pandas as pd\n",
        "import matplotlib.pyplot as plt\n",
        "import seaborn as sns\n",
        "import scipy as py\n",
        "import io\n",
        "import math\n",
        "import statistics\n",
        "import statsmodels.api as sm"
      ],
      "execution_count": null,
      "outputs": []
    },
    {
      "cell_type": "markdown",
      "metadata": {
        "id": "MBvNzirggW-P"
      },
      "source": [
        "<span style=\"font-family: Arial; font-weight:bold;font-size:1.5em;\"> Load the dataset. "
      ]
    },
    {
      "cell_type": "code",
      "metadata": {
        "id": "NzfSWWYvgW-P"
      },
      "source": [
        "df = pd.read_csv('Service.csv')"
      ],
      "execution_count": null,
      "outputs": []
    },
    {
      "cell_type": "markdown",
      "metadata": {
        "id": "Ptr-tPs2gW-S"
      },
      "source": [
        "<span style=\"font-family: Arial; font-weight:bold;font-size:1.5em;\"> Question 1\n",
        "\n",
        "**Check the data types of variables, basic measures of descriptive statistics and the occurrence of each of the categories in the corresponding variables of interest.**"
      ]
    },
    {
      "cell_type": "code",
      "metadata": {
        "id": "xyv_VFMmgW-T",
        "colab": {
          "base_uri": "https://localhost:8080/",
          "height": 204
        },
        "outputId": "f4c02ce9-cbe5-49fc-85bb-bd3d5aa603b3"
      },
      "source": [
        "df.info()"
      ],
      "execution_count": null,
      "outputs": [
        {
          "output_type": "stream",
          "text": [
            "<class 'pandas.core.frame.DataFrame'>\n",
            "RangeIndex: 45 entries, 0 to 44\n",
            "Data columns (total 4 columns):\n",
            " #   Column        Non-Null Count  Dtype\n",
            "---  ------        --------------  -----\n",
            " 0   Technician    45 non-null     int64\n",
            " 1   Manufacturer  45 non-null     int64\n",
            " 2   Job           45 non-null     int64\n",
            " 3   Service Time  45 non-null     int64\n",
            "dtypes: int64(4)\n",
            "memory usage: 1.5 KB\n"
          ],
          "name": "stdout"
        }
      ]
    },
    {
      "cell_type": "markdown",
      "metadata": {
        "id": "N1cboSbKgW-V"
      },
      "source": [
        "<span style=\"font-family: Arial; font-weight:bold;font-size:1.5em;\"> Question 2\n",
        "    \n",
        "**Make the boxplot for service variable.**"
      ]
    },
    {
      "cell_type": "code",
      "metadata": {
        "id": "t1a666IjgW-W"
      },
      "source": [
        ""
      ],
      "execution_count": null,
      "outputs": []
    },
    {
      "cell_type": "markdown",
      "metadata": {
        "ExecuteTime": {
          "end_time": "2020-06-07T21:17:18.264669Z",
          "start_time": "2020-06-07T21:17:18.258684Z"
        },
        "id": "1w0WHkMJgW-Y"
      },
      "source": [
        "<span style=\"font-family: Arial; font-weight:bold;font-size:1.5em;\"> Question 3\n",
        " \n",
        " Plot the density graph and overlay mean and median scores for Service Time?\n",
        " 1. Create distplot or a histogram for Service Time. [distplot is optional]\n",
        " 2. Create a green line plot for mean for the plot of part 1.\n",
        " 3. create a red line plot for median for the plot of part 1.\n",
        " \n",
        "  **Do Bivariate Analysis also**\n",
        "\n"
      ]
    },
    {
      "cell_type": "code",
      "metadata": {
        "id": "eYsXc2logW-Z"
      },
      "source": [
        ""
      ],
      "execution_count": null,
      "outputs": []
    },
    {
      "cell_type": "markdown",
      "metadata": {
        "id": "ys4ciel-gW-c"
      },
      "source": [
        "**Plot a boxplot of 'Service Time' with respect to the different levels of 'Manufacturer'**"
      ]
    },
    {
      "cell_type": "code",
      "metadata": {
        "id": "jpR3ZXMtgW-c",
        "colab": {
          "base_uri": "https://localhost:8080/",
          "height": 279
        },
        "outputId": "cfeee6e5-309a-44f9-c37b-6265abfede2d"
      },
      "source": [
        "sns.boxplot(x=df['Manufacturer'],y=df['Service Time'])\n",
        "plt.show()"
      ],
      "execution_count": null,
      "outputs": [
        {
          "output_type": "display_data",
          "data": {
            "image/png": "[encoded data removed]",
            "text/plain": [
              "<Figure size 432x288 with 1 Axes>"
            ]
          },
          "metadata": {
            "tags": [],
            "needs_background": "light"
          }
        }
      ]
    },
    {
      "cell_type": "markdown",
      "metadata": {
        "id": "5UcJnouSgW-g"
      },
      "source": [
        "**Plot a boxplot of 'Service Time' with respect to the different levels of 'Technician'**"
      ]
    },
    {
      "cell_type": "code",
      "metadata": {
        "scrolled": true,
        "id": "yLKA9xYZgW-g",
        "colab": {
          "base_uri": "https://localhost:8080/",
          "height": 279
        },
        "outputId": "7d4cdbb7-bb1b-4ec3-f19a-afe82104dbf6"
      },
      "source": [
        "sns.boxplot(x=df['Technician'],y=df['Service Time'])\n",
        "plt.show()"
      ],
      "execution_count": null,
      "outputs": [
        {
          "output_type": "display_data",
          "data": {
            "image/png": "[encoded data removed]",
            "text/plain": [
              "<Figure size 432x288 with 1 Axes>"
            ]
          },
          "metadata": {
            "tags": [],
            "needs_background": "light"
          }
        }
      ]
    },
    {
      "cell_type": "markdown",
      "metadata": {
        "id": "uU_rT6zKgW-i"
      },
      "source": [
        "<span style=\"font-family: Arial; font-weight:bold;font-size:1.5em;\"> Question 4\n",
        "\n",
        "**State the Null and Alternate Hypothesis for conducting one-way ANOVA for both the variables ‘Manufacturer’ and ‘Technician’ individually.**"
      ]
    },
    {
      "cell_type": "code",
      "metadata": {
        "id": "RYIHw7TpgW-j"
      },
      "source": [
        "#HM0 : There is no significant difference between the mean service time of Manufacturer and Technician\n",
        "#HT0 : There is no significant difference between the mean service time of Service Time and Technician\n",
        "#HM1 : There is    significant difference between the mean service time of Manufacturer levels\n",
        "#HT1 : There is    significant difference between the mean service time of Technician levels"
      ],
      "execution_count": null,
      "outputs": []
    },
    {
      "cell_type": "markdown",
      "metadata": {
        "id": "E6hBdLH-gW-l"
      },
      "source": [
        "<span style=\"font-family: Arial; font-weight:bold;font-size:1.5em;\">Question 5\n",
        "\n",
        "**Perform one-way ANOVA for variable ‘Manufacturer’ with respect to the variable ‘Service Time’. State whether the Null Hypothesis is accepted or rejected based on the ANOVA results.**\n",
        "    \n",
        "[Hint: Take care of the appropriate data types and names of the variables]"
      ]
    },
    {
      "cell_type": "markdown",
      "metadata": {
        "id": "pGI3VgOHgW-m"
      },
      "source": [
        "<span style=\"font-family: Arial; font-weight:bold;font-size:1.5em;\"> Level of significance:\n",
        "\n",
        "$\\alpha$ = 0.05 "
      ]
    },
    {
      "cell_type": "code",
      "metadata": {
        "id": "dxyTk2WCgW-n"
      },
      "source": [
        ""
      ],
      "execution_count": null,
      "outputs": []
    },
    {
      "cell_type": "markdown",
      "metadata": {
        "id": "dAQTBr85gW-q"
      },
      "source": [
        "<span style=\"font-family: Arial; font-weight:bold;font-size:1.5em;\">Question 6\n",
        "    \n",
        "**Perform one-way ANOVA for variable ‘Technician’ with respect to the variable ‘Service Time’. State whether the Null Hypothesis is accepted or rejected based on the ANOVA results.**\n",
        "    \n",
        "[Hint: Take care of the appropriate data types and names of the variables]"
      ]
    },
    {
      "cell_type": "code",
      "metadata": {
        "id": "9hD3DxTlgW-r",
        "colab": {
          "base_uri": "https://localhost:8080/",
          "height": 216
        },
        "outputId": "ae2a4427-b1a1-47fd-913b-2876729262ae"
      },
      "source": [
        "formula = 'Service_Time ~ C(Manufacturer)'\n",
        "model = sm.ols(formula,df).fit()\n",
        "aov_table = anova_lm(model)\n",
        "print(aov_table)"
      ],
      "execution_count": null,
      "outputs": [
        {
          "output_type": "error",
          "ename": "AttributeError",
          "evalue": "ignored",
          "traceback": [
            "\u001b[0;31m---------------------------------------------------------------------------\u001b[0m",
            "\u001b[0;31mAttributeError\u001b[0m                            Traceback (most recent call last)",
            "\u001b[0;32m<ipython-input-21-e15427062df4>\u001b[0m in \u001b[0;36m<module>\u001b[0;34m()\u001b[0m\n\u001b[1;32m      1\u001b[0m \u001b[0mformula\u001b[0m \u001b[0;34m=\u001b[0m \u001b[0;34m'Service_Time ~ C(Manufacturer)'\u001b[0m\u001b[0;34m\u001b[0m\u001b[0;34m\u001b[0m\u001b[0m\n\u001b[0;32m----> 2\u001b[0;31m \u001b[0mmodel\u001b[0m \u001b[0;34m=\u001b[0m \u001b[0msm\u001b[0m\u001b[0;34m.\u001b[0m\u001b[0mols\u001b[0m\u001b[0;34m(\u001b[0m\u001b[0mformula\u001b[0m\u001b[0;34m,\u001b[0m\u001b[0mdf\u001b[0m\u001b[0;34m)\u001b[0m\u001b[0;34m.\u001b[0m\u001b[0mfit\u001b[0m\u001b[0;34m(\u001b[0m\u001b[0;34m)\u001b[0m\u001b[0;34m\u001b[0m\u001b[0;34m\u001b[0m\u001b[0m\n\u001b[0m\u001b[1;32m      3\u001b[0m \u001b[0maov_table\u001b[0m \u001b[0;34m=\u001b[0m \u001b[0manova_lm\u001b[0m\u001b[0;34m(\u001b[0m\u001b[0mmodel\u001b[0m\u001b[0;34m)\u001b[0m\u001b[0;34m\u001b[0m\u001b[0;34m\u001b[0m\u001b[0m\n\u001b[1;32m      4\u001b[0m \u001b[0mprint\u001b[0m\u001b[0;34m(\u001b[0m\u001b[0maov_table\u001b[0m\u001b[0;34m)\u001b[0m\u001b[0;34m\u001b[0m\u001b[0;34m\u001b[0m\u001b[0m\n",
            "\u001b[0;31mAttributeError\u001b[0m: module 'statsmodels.api' has no attribute 'ols'"
          ]
        }
      ]
    },
    {
      "cell_type": "markdown",
      "metadata": {
        "id": "aQrIkSwLgW-w"
      },
      "source": [
        "<span style=\"font-family: Arial; font-weight:bold;font-size:1.5em;\">Question 7\n",
        "    \n",
        "**Analyze the effects of one variable on another with the help of an interaction plot with and without the confidence interval. What is an interaction between two treatments?**\n",
        "\n",
        "[hint: use the ‘pointplot’ function from the ‘seaborn’ graphical subroutine in Python]"
      ]
    },
    {
      "cell_type": "code",
      "metadata": {
        "id": "VekTzRjKgW-x",
        "colab": {
          "base_uri": "https://localhost:8080/",
          "height": 279
        },
        "outputId": "3e35f386-9a87-421e-b15a-c3afb6f1458f"
      },
      "source": [
        "sns.pointplot(x=df[\"Technician\"],y=df[\"Service Time\"],hue=df[\"Manufacturer\"],ci=None)\n",
        "plt.show()"
      ],
      "execution_count": null,
      "outputs": [
        {
          "output_type": "display_data",
          "data": {
            "image/png": "[encoded data removed]",
            "text/plain": [
              "<Figure size 432x288 with 1 Axes>"
            ]
          },
          "metadata": {
            "tags": [],
            "needs_background": "light"
          }
        }
      ]
    },
    {
      "cell_type": "markdown",
      "metadata": {
        "id": "eYEaTJHDgW-1"
      },
      "source": [
        "<span style=\"font-family: Arial; font-weight:bold;font-size:1.5em;\">Question 8\n",
        "    \n",
        "**Perform a two-way ANOVA based on the variables ‘Manufacturer’ & ‘Technician’ with respect to the variable ‘Service Time’ and state your results.**"
      ]
    },
    {
      "cell_type": "code",
      "metadata": {
        "id": "TQ_OMAcCgW-1",
        "colab": {
          "base_uri": "https://localhost:8080/",
          "height": 216
        },
        "outputId": "4b6a6fd0-43f3-452a-b062-81905bf0262d"
      },
      "source": [
        "formula = 'Service_Time ~ C(Technician)+C(Manufacturer)'\n",
        "model = ols(formula,df).fit()\n",
        "aov_table = anova_lm(model)\n",
        "print(aov_table)"
      ],
      "execution_count": null,
      "outputs": [
        {
          "output_type": "error",
          "ename": "NameError",
          "evalue": "ignored",
          "traceback": [
            "\u001b[0;31m---------------------------------------------------------------------------\u001b[0m",
            "\u001b[0;31mNameError\u001b[0m                                 Traceback (most recent call last)",
            "\u001b[0;32m<ipython-input-22-bfc0d3b1fd7d>\u001b[0m in \u001b[0;36m<module>\u001b[0;34m()\u001b[0m\n\u001b[1;32m      1\u001b[0m \u001b[0mformula\u001b[0m \u001b[0;34m=\u001b[0m \u001b[0;34m'Service_Time ~ C(Technician)+C(Manufacturer)'\u001b[0m\u001b[0;34m\u001b[0m\u001b[0;34m\u001b[0m\u001b[0m\n\u001b[0;32m----> 2\u001b[0;31m \u001b[0mmodel\u001b[0m \u001b[0;34m=\u001b[0m \u001b[0mols\u001b[0m\u001b[0;34m(\u001b[0m\u001b[0mformula\u001b[0m\u001b[0;34m,\u001b[0m\u001b[0mdf\u001b[0m\u001b[0;34m)\u001b[0m\u001b[0;34m.\u001b[0m\u001b[0mfit\u001b[0m\u001b[0;34m(\u001b[0m\u001b[0;34m)\u001b[0m\u001b[0;34m\u001b[0m\u001b[0;34m\u001b[0m\u001b[0m\n\u001b[0m\u001b[1;32m      3\u001b[0m \u001b[0maov_table\u001b[0m \u001b[0;34m=\u001b[0m \u001b[0manova_lm\u001b[0m\u001b[0;34m(\u001b[0m\u001b[0mmodel\u001b[0m\u001b[0;34m)\u001b[0m\u001b[0;34m\u001b[0m\u001b[0;34m\u001b[0m\u001b[0m\n\u001b[1;32m      4\u001b[0m \u001b[0mprint\u001b[0m\u001b[0;34m(\u001b[0m\u001b[0maov_table\u001b[0m\u001b[0;34m)\u001b[0m\u001b[0;34m\u001b[0m\u001b[0;34m\u001b[0m\u001b[0m\n",
            "\u001b[0;31mNameError\u001b[0m: name 'ols' is not defined"
          ]
        }
      ]
    },
    {
      "cell_type": "markdown",
      "metadata": {
        "id": "0MBX79QQgW-6"
      },
      "source": [
        "<span style=\"font-family: Arial; font-weight:bold;font-size:1.5em;\">Question 9\n",
        "\n",
        "**Perform a two-way ANOVA based on the variables ‘Manufacturer’ & ‘Technician’ along with the interaction of the variables ‘Manufacturer’ & ‘Technician’ with respect to the variable ‘Service Time’ and state your results.**"
      ]
    },
    {
      "cell_type": "code",
      "metadata": {
        "id": "Py84naIBgW-9",
        "colab": {
          "base_uri": "https://localhost:8080/",
          "height": 216
        },
        "outputId": "f846aeda-87be-4a0c-ca3d-e5d46bc2f33b"
      },
      "source": [
        "formula = 'Service_Time ~ C(Technician)+C(Manufacturer)+C(Technician):C{Manufacturer)'\n",
        "model = ols(formula,df).fit()\n",
        "aov_table = anova_lm(model)\n",
        "print(aov_table)in interactive\n",
        "\n",
        "#There is a significant difference "
      ],
      "execution_count": null,
      "outputs": [
        {
          "output_type": "error",
          "ename": "NameError",
          "evalue": "ignored",
          "traceback": [
            "\u001b[0;31m---------------------------------------------------------------------------\u001b[0m",
            "\u001b[0;31mNameError\u001b[0m                                 Traceback (most recent call last)",
            "\u001b[0;32m<ipython-input-23-0ca788285d4a>\u001b[0m in \u001b[0;36m<module>\u001b[0;34m()\u001b[0m\n\u001b[1;32m      1\u001b[0m \u001b[0mformula\u001b[0m \u001b[0;34m=\u001b[0m \u001b[0;34m'Service_Time ~ C(Technician)+C(Manufacturer)+C(Technician):C{Manufacturer)'\u001b[0m\u001b[0;34m\u001b[0m\u001b[0;34m\u001b[0m\u001b[0m\n\u001b[0;32m----> 2\u001b[0;31m \u001b[0mmodel\u001b[0m \u001b[0;34m=\u001b[0m \u001b[0mols\u001b[0m\u001b[0;34m(\u001b[0m\u001b[0mformula\u001b[0m\u001b[0;34m,\u001b[0m\u001b[0mdf\u001b[0m\u001b[0;34m)\u001b[0m\u001b[0;34m.\u001b[0m\u001b[0mfit\u001b[0m\u001b[0;34m(\u001b[0m\u001b[0;34m)\u001b[0m\u001b[0;34m\u001b[0m\u001b[0;34m\u001b[0m\u001b[0m\n\u001b[0m\u001b[1;32m      3\u001b[0m \u001b[0maov_table\u001b[0m \u001b[0;34m=\u001b[0m \u001b[0manova_lm\u001b[0m\u001b[0;34m(\u001b[0m\u001b[0mmodel\u001b[0m\u001b[0;34m)\u001b[0m\u001b[0;34m\u001b[0m\u001b[0;34m\u001b[0m\u001b[0m\n\u001b[1;32m      4\u001b[0m \u001b[0mprint\u001b[0m\u001b[0;34m(\u001b[0m\u001b[0maov_table\u001b[0m\u001b[0;34m)\u001b[0m\u001b[0;34m\u001b[0m\u001b[0;34m\u001b[0m\u001b[0m\n",
            "\u001b[0;31mNameError\u001b[0m: name 'ols' is not defined"
          ]
        }
      ]
    },
    {
      "cell_type": "markdown",
      "metadata": {
        "id": "QoN06iX2gW_A"
      },
      "source": [
        "<span style=\"font-family: Arial; font-weight:bold;font-size:1.5em;\">THE END"
      ]
    }
  ]
}