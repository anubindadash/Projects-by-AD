{
  "nbformat": 4,
  "nbformat_minor": 0,
  "metadata": {
    "kernelspec": {
      "display_name": "Python 3",
      "language": "python",
      "name": "python3"
    },
    "language_info": {
      "codemirror_mode": {
        "name": "ipython",
        "version": 3
      },
      "file_extension": ".py",
      "mimetype": "text/x-python",
      "name": "python",
      "nbconvert_exporter": "python",
      "pygments_lexer": "ipython3",
      "version": "3.7.4"
    },
    "toc": {
      "base_numbering": 1,
      "nav_menu": {},
      "number_sections": true,
      "sideBar": true,
      "skip_h1_title": false,
      "title_cell": "Table of Contents",
      "title_sidebar": "Contents",
      "toc_cell": false,
      "toc_position": {},
      "toc_section_display": true,
      "toc_window_display": false
    },
    "varInspector": {
      "cols": {
        "lenName": 16,
        "lenType": 16,
        "lenVar": 40
      },
      "kernels_config": {
        "python": {
          "delete_cmd_postfix": "",
          "delete_cmd_prefix": "del ",
          "library": "var_list.py",
          "varRefreshCmd": "print(var_dic_list())"
        },
        "r": {
          "delete_cmd_postfix": ") ",
          "delete_cmd_prefix": "rm(",
          "library": "var_list.r",
          "varRefreshCmd": "cat(var_dic_list()) "
        }
      },
      "types_to_exclude": [
        "module",
        "function",
        "builtin_function_or_method",
        "instance",
        "_Feature"
      ],
      "window_display": false
    },
    "colab": {
      "name": "Predictive Modelling - Logistic Regression LDA -Student Version -Anubinda.ipynb",
      "provenance": [],
      "include_colab_link": true
    }
  },
  "cells": [
    {
      "cell_type": "markdown",
      "metadata": {
        "id": "view-in-github",
        "colab_type": "text"
      },
      "source": [
        "<a href=\"https://colab.research.google.com/github/anubindadash/anubinda/blob/main/Predictive_Modelling_Logistic_Regression_LDA_Student_Version_Anubinda.ipynb\" target=\"_parent\"><img src=\"https://colab.research.google.com/assets/colab-badge.svg\" alt=\"Open In Colab\"/></a>"
      ]
    },
    {
      "cell_type": "markdown",
      "metadata": {
        "id": "YypiTLir66KW"
      },
      "source": [
        "# Problem Statement"
      ]
    },
    {
      "cell_type": "markdown",
      "metadata": {
        "id": "-g0UwP2z66KY"
      },
      "source": [
        "WHO is a specialized agency of the UN which is concerned with the world population health. Based upon the various parameters, WHO allocates budget for various areas to conduct various campaigns/initiatives to improve healthcare. Annual salary is an important variable which is considered to decide budget to be allocated for an area.  \n",
        "  \n",
        "We have a data which contains information about 32561 samples and 15 continuous and categorical variables. Extraction of data was done from 1994 Census dataset.  \n",
        "  \n",
        "The goal here is to build a binary model to predict whether the salary is >50K or <50K."
      ]
    },
    {
      "cell_type": "markdown",
      "metadata": {
        "id": "UGJP_mxB66KZ"
      },
      "source": [
        "## Data Dictionary"
      ]
    },
    {
      "cell_type": "markdown",
      "metadata": {
        "id": "36OETvPF66Ka"
      },
      "source": [
        "1. <b>age:</b> age  \n",
        "2. <b>workclass:</b> workclass  \n",
        "3. <b>education:</b> highest education  \n",
        "4. <b>marrital status:</b> marital status  \n",
        "5. <b>occupation:</b> occupation  \n",
        "6. <b>sex:</b> sex  \n",
        "7. <b>capital gain:</b> income from investment sources other than salary/wages  \n",
        "8. <b>capital loss:</b> income from investment sources other than salary/wages  \n",
        "9. <b>working hours:</b> nummber of working hours per week  \n",
        "10. <b>salary:</b> salary  "
      ]
    },
    {
      "cell_type": "markdown",
      "metadata": {
        "id": "900js9TY66Kb"
      },
      "source": [
        "###### Note: The Exploratory Data Analysis (EDA) part has already been done in the notebook. However, you can choose to do more or different EDA for this problem for your practice.  This particular laboratory exercise is for the coding of Logistic Regression and Linear Discriminant Analysis and then evaluating the same using various model performance measures. Please do carefully take note of the questions which will not be discussed in the within laboratory session but is being given as a take-home assignment."
      ]
    },
    {
      "cell_type": "markdown",
      "metadata": {
        "id": "DK9p7rRC66Kb"
      },
      "source": [
        "# Import the necessary libraries and load the dataset."
      ]
    },
    {
      "cell_type": "code",
      "metadata": {
        "ExecuteTime": {
          "end_time": "2020-08-11T06:26:10.180672Z",
          "start_time": "2020-08-11T06:26:09.097569Z"
        },
        "id": "jataEQmI66Kd"
      },
      "source": [
        "import numpy as np\n",
        "import pandas as pd\n",
        "import matplotlib.pyplot as plt\n",
        "import seaborn as sns"
      ],
      "execution_count": null,
      "outputs": []
    },
    {
      "cell_type": "code",
      "metadata": {
        "ExecuteTime": {
          "end_time": "2020-08-11T06:26:10.251482Z",
          "start_time": "2020-08-11T06:26:10.182667Z"
        },
        "id": "Prt-RwL866Kn",
        "outputId": "54e92902-b424-48ff-85be-b8dbe09d9a3f"
      },
      "source": [
        "adult_data = pd.read_csv('adult.data.csv')\n",
        "adult_data.head()"
      ],
      "execution_count": null,
      "outputs": [
        {
          "output_type": "execute_result",
          "data": {
            "text/html": [
              "<div>\n",
              "<style scoped>\n",
              "    .dataframe tbody tr th:only-of-type {\n",
              "        vertical-align: middle;\n",
              "    }\n",
              "\n",
              "    .dataframe tbody tr th {\n",
              "        vertical-align: top;\n",
              "    }\n",
              "\n",
              "    .dataframe thead th {\n",
              "        text-align: right;\n",
              "    }\n",
              "</style>\n",
              "<table border=\"1\" class=\"dataframe\">\n",
              "  <thead>\n",
              "    <tr style=\"text-align: right;\">\n",
              "      <th></th>\n",
              "      <th>age</th>\n",
              "      <th>workclass</th>\n",
              "      <th>education</th>\n",
              "      <th>marrital status</th>\n",
              "      <th>occupation</th>\n",
              "      <th>sex</th>\n",
              "      <th>capital gain</th>\n",
              "      <th>capital loss</th>\n",
              "      <th>working hours per week</th>\n",
              "      <th>salary</th>\n",
              "    </tr>\n",
              "  </thead>\n",
              "  <tbody>\n",
              "    <tr>\n",
              "      <td>0</td>\n",
              "      <td>39</td>\n",
              "      <td>State-gov</td>\n",
              "      <td>Bachelors</td>\n",
              "      <td>Never-married</td>\n",
              "      <td>Adm-clerical</td>\n",
              "      <td>Male</td>\n",
              "      <td>2174</td>\n",
              "      <td>0</td>\n",
              "      <td>40</td>\n",
              "      <td>&lt;=50K</td>\n",
              "    </tr>\n",
              "    <tr>\n",
              "      <td>1</td>\n",
              "      <td>50</td>\n",
              "      <td>Self-emp-not-inc</td>\n",
              "      <td>Bachelors</td>\n",
              "      <td>Married-civ-spouse</td>\n",
              "      <td>Exec-managerial</td>\n",
              "      <td>Male</td>\n",
              "      <td>0</td>\n",
              "      <td>0</td>\n",
              "      <td>13</td>\n",
              "      <td>&lt;=50K</td>\n",
              "    </tr>\n",
              "    <tr>\n",
              "      <td>2</td>\n",
              "      <td>38</td>\n",
              "      <td>Private</td>\n",
              "      <td>HS-grad</td>\n",
              "      <td>Divorced</td>\n",
              "      <td>Handlers-cleaners</td>\n",
              "      <td>Male</td>\n",
              "      <td>0</td>\n",
              "      <td>0</td>\n",
              "      <td>40</td>\n",
              "      <td>&lt;=50K</td>\n",
              "    </tr>\n",
              "    <tr>\n",
              "      <td>3</td>\n",
              "      <td>53</td>\n",
              "      <td>Private</td>\n",
              "      <td>11th</td>\n",
              "      <td>Married-civ-spouse</td>\n",
              "      <td>Handlers-cleaners</td>\n",
              "      <td>Male</td>\n",
              "      <td>0</td>\n",
              "      <td>0</td>\n",
              "      <td>40</td>\n",
              "      <td>&lt;=50K</td>\n",
              "    </tr>\n",
              "    <tr>\n",
              "      <td>4</td>\n",
              "      <td>28</td>\n",
              "      <td>Private</td>\n",
              "      <td>Bachelors</td>\n",
              "      <td>Married-civ-spouse</td>\n",
              "      <td>Prof-specialty</td>\n",
              "      <td>Female</td>\n",
              "      <td>0</td>\n",
              "      <td>0</td>\n",
              "      <td>40</td>\n",
              "      <td>&lt;=50K</td>\n",
              "    </tr>\n",
              "  </tbody>\n",
              "</table>\n",
              "</div>"
            ],
            "text/plain": [
              "   age         workclass  education     marrital status         occupation  \\\n",
              "0   39         State-gov  Bachelors       Never-married       Adm-clerical   \n",
              "1   50  Self-emp-not-inc  Bachelors  Married-civ-spouse    Exec-managerial   \n",
              "2   38           Private    HS-grad            Divorced  Handlers-cleaners   \n",
              "3   53           Private       11th  Married-civ-spouse  Handlers-cleaners   \n",
              "4   28           Private  Bachelors  Married-civ-spouse     Prof-specialty   \n",
              "\n",
              "      sex  capital gain  capital loss  working hours per week  salary  \n",
              "0    Male          2174             0                      40   <=50K  \n",
              "1    Male             0             0                      13   <=50K  \n",
              "2    Male             0             0                      40   <=50K  \n",
              "3    Male             0             0                      40   <=50K  \n",
              "4  Female             0             0                      40   <=50K  "
            ]
          },
          "metadata": {
            "tags": []
          },
          "execution_count": 237
        }
      ]
    },
    {
      "cell_type": "markdown",
      "metadata": {
        "id": "78ivABmV66Kw"
      },
      "source": [
        "# Basic Exploratory Data Analysis"
      ]
    },
    {
      "cell_type": "markdown",
      "metadata": {
        "id": "GOOL0Mcb66Ky"
      },
      "source": [
        "### Check for duplicate data across columns and drop those"
      ]
    },
    {
      "cell_type": "code",
      "metadata": {
        "ExecuteTime": {
          "end_time": "2020-08-11T06:26:10.592570Z",
          "start_time": "2020-08-11T06:26:10.253478Z"
        },
        "id": "3wRPh7HF66Kz",
        "outputId": "58ebe98f-6c36-4b36-aaa3-1817e0ebb8e6"
      },
      "source": [
        "dups = adult_data.duplicated()\n",
        "print('Number of duplicate rows = %d' % (dups.sum()))\n",
        "print(adult_data.shape)"
      ],
      "execution_count": null,
      "outputs": [
        {
          "output_type": "stream",
          "text": [
            "Number of duplicate rows = 5864\n",
            "(32561, 10)\n"
          ],
          "name": "stdout"
        }
      ]
    },
    {
      "cell_type": "code",
      "metadata": {
        "ExecuteTime": {
          "end_time": "2020-08-11T06:26:10.964574Z",
          "start_time": "2020-08-11T06:26:10.594566Z"
        },
        "id": "kpVvv8aL66K7"
      },
      "source": [
        "adult_data.drop_duplicates(inplace=True) "
      ],
      "execution_count": null,
      "outputs": []
    },
    {
      "cell_type": "code",
      "metadata": {
        "ExecuteTime": {
          "end_time": "2020-08-11T06:26:11.374480Z",
          "start_time": "2020-08-11T06:26:10.966570Z"
        },
        "id": "DqiumOVM66LE",
        "outputId": "993d4163-1f9e-435e-9856-d8e5b8acbe18"
      },
      "source": [
        "dups = adult_data.duplicated()\n",
        "print('Number of duplicate rows = %d' % (dups.sum()))\n",
        "print(adult_data.shape)"
      ],
      "execution_count": null,
      "outputs": [
        {
          "output_type": "stream",
          "text": [
            "Number of duplicate rows = 0\n",
            "(26697, 10)\n"
          ],
          "name": "stdout"
        }
      ]
    },
    {
      "cell_type": "markdown",
      "metadata": {
        "id": "Pag6N7t466LJ"
      },
      "source": [
        "### Check for missing values and impute the missing values, if any is present."
      ]
    },
    {
      "cell_type": "code",
      "metadata": {
        "ExecuteTime": {
          "end_time": "2020-08-11T06:26:11.895087Z",
          "start_time": "2020-08-11T06:26:11.376474Z"
        },
        "id": "jiBffAib66LK",
        "outputId": "02aa2ab8-3eb7-414a-9599-ec871ee26f89"
      },
      "source": [
        "adult_data.isna().sum()"
      ],
      "execution_count": null,
      "outputs": [
        {
          "output_type": "execute_result",
          "data": {
            "text/plain": [
              "age                       0\n",
              "workclass                 0\n",
              "education                 0\n",
              "marrital status           0\n",
              "occupation                0\n",
              "sex                       0\n",
              "capital gain              0\n",
              "capital loss              0\n",
              "working hours per week    0\n",
              "salary                    0\n",
              "dtype: int64"
            ]
          },
          "metadata": {
            "tags": []
          },
          "execution_count": 241
        }
      ]
    },
    {
      "cell_type": "markdown",
      "metadata": {
        "id": "f5f81T-R66LT"
      },
      "source": [
        "### Check the data types of all the variables and get the unique counts of all the 'Object' type variables."
      ]
    },
    {
      "cell_type": "code",
      "metadata": {
        "ExecuteTime": {
          "end_time": "2020-08-11T06:26:12.145473Z",
          "start_time": "2020-08-11T06:26:11.896084Z"
        },
        "scrolled": true,
        "id": "B57m8XPD66LU",
        "outputId": "ef23d229-ebf8-4a25-8f67-5c64a78d89e8"
      },
      "source": [
        "for feature in adult_data.columns: \n",
        "    if adult_data[feature].dtype == 'object': \n",
        "        print(feature)\n",
        "        print(adult_data[feature].value_counts())\n",
        "        print('\\n')"
      ],
      "execution_count": null,
      "outputs": [
        {
          "output_type": "stream",
          "text": [
            "workclass\n",
            "Private             17474\n",
            "Self-emp-not-inc     2447\n",
            "Local-gov            1980\n",
            "?                    1519\n",
            "State-gov            1246\n",
            "Self-emp-inc         1089\n",
            "Federal-gov           921\n",
            "Without-pay            14\n",
            "Never-worked            7\n",
            "Name: workclass, dtype: int64\n",
            "\n",
            "\n",
            "education\n",
            "HS-grad         7815\n",
            "Some-college    5692\n",
            "Bachelors       4461\n",
            "Masters         1606\n",
            "Assoc-voc       1281\n",
            "Assoc-acdm      1036\n",
            "11th             987\n",
            "10th             820\n",
            "7th-8th          611\n",
            "Prof-school      562\n",
            "9th              502\n",
            "Doctorate        399\n",
            "12th             397\n",
            "5th-6th          315\n",
            "1st-4th          164\n",
            "Preschool         49\n",
            "Name: education, dtype: int64\n",
            "\n",
            "\n",
            "marrital status\n",
            "Married-civ-spouse       12679\n",
            "Never-married             7698\n",
            "Divorced                  3930\n",
            "Separated                  978\n",
            "Widowed                    971\n",
            "Married-spouse-absent      418\n",
            "Married-AF-spouse           23\n",
            "Name: marrital status, dtype: int64\n",
            "\n",
            "\n",
            "occupation\n",
            "Prof-specialty       3703\n",
            "Exec-managerial      3531\n",
            "Sales                3009\n",
            "Craft-repair         2970\n",
            "Adm-clerical         2884\n",
            "Other-service        2626\n",
            "?                    1526\n",
            "Machine-op-inspct    1483\n",
            "Transport-moving     1372\n",
            "Handlers-cleaners    1033\n",
            "Farming-fishing       951\n",
            "Tech-support          841\n",
            "Protective-serv       614\n",
            "Priv-house-serv       145\n",
            "Armed-Forces            9\n",
            "Name: occupation, dtype: int64\n",
            "\n",
            "\n",
            "sex\n",
            "Male      17862\n",
            "Female     8835\n",
            "Name: sex, dtype: int64\n",
            "\n",
            "\n",
            "salary\n",
            " <=50K    19673\n",
            " >50K      7024\n",
            "Name: salary, dtype: int64\n",
            "\n",
            "\n"
          ],
          "name": "stdout"
        }
      ]
    },
    {
      "cell_type": "markdown",
      "metadata": {
        "id": "J6h894yi66LY"
      },
      "source": [
        "#### Since there are a lot of values which are question marks ('?'), we can choose to encode them into a  new category or we can drop rows which have these unknown question marks ('?'). \n",
        "For this exercise we have converted them into a different category and have called it 'unknown'."
      ]
    },
    {
      "cell_type": "code",
      "metadata": {
        "ExecuteTime": {
          "end_time": "2020-08-11T06:26:12.510474Z",
          "start_time": "2020-08-11T06:26:12.147411Z"
        },
        "id": "te5c_Rx966La"
      },
      "source": [
        "# Replace ? to new unknown category\n",
        "adult_data.workclass=adult_data.workclass.str.replace('?', 'unknown')\n",
        "adult_data.occupation = adult_data.occupation.str.replace('?', 'unknown')"
      ],
      "execution_count": null,
      "outputs": []
    },
    {
      "cell_type": "code",
      "metadata": {
        "ExecuteTime": {
          "end_time": "2020-08-11T06:26:12.729853Z",
          "start_time": "2020-08-11T06:26:12.512435Z"
        },
        "scrolled": true,
        "id": "1JzRwiN566Lm",
        "outputId": "edc60985-312a-457f-a3c0-1e060385a8e8"
      },
      "source": [
        "for feature in adult_data.columns: \n",
        "    if adult_data[feature].dtype == 'object': \n",
        "        print(feature)\n",
        "        print(adult_data[feature].value_counts())\n",
        "        print('\\n')"
      ],
      "execution_count": null,
      "outputs": [
        {
          "output_type": "stream",
          "text": [
            "workclass\n",
            "Private             17474\n",
            "Self-emp-not-inc     2447\n",
            "Local-gov            1980\n",
            "unknown              1519\n",
            "State-gov            1246\n",
            "Self-emp-inc         1089\n",
            "Federal-gov           921\n",
            "Without-pay            14\n",
            "Never-worked            7\n",
            "Name: workclass, dtype: int64\n",
            "\n",
            "\n",
            "education\n",
            "HS-grad         7815\n",
            "Some-college    5692\n",
            "Bachelors       4461\n",
            "Masters         1606\n",
            "Assoc-voc       1281\n",
            "Assoc-acdm      1036\n",
            "11th             987\n",
            "10th             820\n",
            "7th-8th          611\n",
            "Prof-school      562\n",
            "9th              502\n",
            "Doctorate        399\n",
            "12th             397\n",
            "5th-6th          315\n",
            "1st-4th          164\n",
            "Preschool         49\n",
            "Name: education, dtype: int64\n",
            "\n",
            "\n",
            "marrital status\n",
            "Married-civ-spouse       12679\n",
            "Never-married             7698\n",
            "Divorced                  3930\n",
            "Separated                  978\n",
            "Widowed                    971\n",
            "Married-spouse-absent      418\n",
            "Married-AF-spouse           23\n",
            "Name: marrital status, dtype: int64\n",
            "\n",
            "\n",
            "occupation\n",
            "Prof-specialty       3703\n",
            "Exec-managerial      3531\n",
            "Sales                3009\n",
            "Craft-repair         2970\n",
            "Adm-clerical         2884\n",
            "Other-service        2626\n",
            "unknown              1526\n",
            "Machine-op-inspct    1483\n",
            "Transport-moving     1372\n",
            "Handlers-cleaners    1033\n",
            "Farming-fishing       951\n",
            "Tech-support          841\n",
            "Protective-serv       614\n",
            "Priv-house-serv       145\n",
            "Armed-Forces            9\n",
            "Name: occupation, dtype: int64\n",
            "\n",
            "\n",
            "sex\n",
            "Male      17862\n",
            "Female     8835\n",
            "Name: sex, dtype: int64\n",
            "\n",
            "\n",
            "salary\n",
            " <=50K    19673\n",
            " >50K      7024\n",
            "Name: salary, dtype: int64\n",
            "\n",
            "\n"
          ],
          "name": "stdout"
        }
      ]
    },
    {
      "cell_type": "code",
      "metadata": {
        "ExecuteTime": {
          "end_time": "2020-08-11T06:26:12.945315Z",
          "start_time": "2020-08-11T06:26:12.730851Z"
        },
        "scrolled": true,
        "id": "Mu8axOdd66L3"
      },
      "source": [
        "# ## Code to drop the rows containing ' ?' symbol\n",
        "\n",
        "\n",
        "# # Copying the original data frame into a new frame\n",
        "# df_1 = adult_data.copy(deep=True)\n",
        "# print('Rows and Columns before dropping the ? symbol',df_1.shape,'\\n')\n",
        "# # Dropping the rows which has the ' ?' character\n",
        "# df_1.drop(df_1[(df_1.workclass == ' ?')].index,inplace=True)\n",
        "# df_1.drop(df_1[(df_1.occupation == ' ?')].index,inplace=True) \n",
        "\n",
        "# print('Rows and Columns after dropping the ? symbol',df_1.shape,'\\n')\n",
        "\n",
        "# # Checking whether the corresponding rows have been dropped or not\n",
        "# for feature in df_1.columns: \n",
        "#     if df_1[feature].dtype == 'object': \n",
        "#         print(feature)\n",
        "#         print(df_1[feature].value_counts())\n",
        "#         print('\\n')\n",
        "        \n",
        "# # print(df_1.head())"
      ],
      "execution_count": null,
      "outputs": []
    },
    {
      "cell_type": "markdown",
      "metadata": {
        "id": "PwAV6eGe66L_"
      },
      "source": [
        "### Check for the basic measures of descriptive statistics."
      ]
    },
    {
      "cell_type": "code",
      "metadata": {
        "ExecuteTime": {
          "end_time": "2020-08-11T06:26:13.726360Z",
          "start_time": "2020-08-11T06:26:12.946274Z"
        },
        "id": "rHZZhd9066MB",
        "outputId": "2d60d805-0310-43eb-d877-4124612d9265"
      },
      "source": [
        "adult_data.describe()"
      ],
      "execution_count": null,
      "outputs": [
        {
          "output_type": "execute_result",
          "data": {
            "text/html": [
              "<div>\n",
              "<style scoped>\n",
              "    .dataframe tbody tr th:only-of-type {\n",
              "        vertical-align: middle;\n",
              "    }\n",
              "\n",
              "    .dataframe tbody tr th {\n",
              "        vertical-align: top;\n",
              "    }\n",
              "\n",
              "    .dataframe thead th {\n",
              "        text-align: right;\n",
              "    }\n",
              "</style>\n",
              "<table border=\"1\" class=\"dataframe\">\n",
              "  <thead>\n",
              "    <tr style=\"text-align: right;\">\n",
              "      <th></th>\n",
              "      <th>age</th>\n",
              "      <th>capital gain</th>\n",
              "      <th>capital loss</th>\n",
              "      <th>working hours per week</th>\n",
              "    </tr>\n",
              "  </thead>\n",
              "  <tbody>\n",
              "    <tr>\n",
              "      <td>count</td>\n",
              "      <td>26697.000000</td>\n",
              "      <td>26697.000000</td>\n",
              "      <td>26697.000000</td>\n",
              "      <td>26697.000000</td>\n",
              "    </tr>\n",
              "    <tr>\n",
              "      <td>mean</td>\n",
              "      <td>39.987489</td>\n",
              "      <td>1304.600929</td>\n",
              "      <td>105.699330</td>\n",
              "      <td>40.852530</td>\n",
              "    </tr>\n",
              "    <tr>\n",
              "      <td>std</td>\n",
              "      <td>13.691269</td>\n",
              "      <td>8111.031099</td>\n",
              "      <td>441.214823</td>\n",
              "      <td>13.114255</td>\n",
              "    </tr>\n",
              "    <tr>\n",
              "      <td>min</td>\n",
              "      <td>17.000000</td>\n",
              "      <td>0.000000</td>\n",
              "      <td>0.000000</td>\n",
              "      <td>1.000000</td>\n",
              "    </tr>\n",
              "    <tr>\n",
              "      <td>25%</td>\n",
              "      <td>29.000000</td>\n",
              "      <td>0.000000</td>\n",
              "      <td>0.000000</td>\n",
              "      <td>38.000000</td>\n",
              "    </tr>\n",
              "    <tr>\n",
              "      <td>50%</td>\n",
              "      <td>39.000000</td>\n",
              "      <td>0.000000</td>\n",
              "      <td>0.000000</td>\n",
              "      <td>40.000000</td>\n",
              "    </tr>\n",
              "    <tr>\n",
              "      <td>75%</td>\n",
              "      <td>49.000000</td>\n",
              "      <td>0.000000</td>\n",
              "      <td>0.000000</td>\n",
              "      <td>46.000000</td>\n",
              "    </tr>\n",
              "    <tr>\n",
              "      <td>max</td>\n",
              "      <td>90.000000</td>\n",
              "      <td>99999.000000</td>\n",
              "      <td>4356.000000</td>\n",
              "      <td>99.000000</td>\n",
              "    </tr>\n",
              "  </tbody>\n",
              "</table>\n",
              "</div>"
            ],
            "text/plain": [
              "                age  capital gain  capital loss  working hours per week\n",
              "count  26697.000000  26697.000000  26697.000000            26697.000000\n",
              "mean      39.987489   1304.600929    105.699330               40.852530\n",
              "std       13.691269   8111.031099    441.214823               13.114255\n",
              "min       17.000000      0.000000      0.000000                1.000000\n",
              "25%       29.000000      0.000000      0.000000               38.000000\n",
              "50%       39.000000      0.000000      0.000000               40.000000\n",
              "75%       49.000000      0.000000      0.000000               46.000000\n",
              "max       90.000000  99999.000000   4356.000000               99.000000"
            ]
          },
          "metadata": {
            "tags": []
          },
          "execution_count": 246
        }
      ]
    },
    {
      "cell_type": "markdown",
      "metadata": {
        "id": "63CIAs6w66ML"
      },
      "source": [
        "### Check the spread of the data using boxplot for the continuous variables."
      ]
    },
    {
      "cell_type": "code",
      "metadata": {
        "ExecuteTime": {
          "end_time": "2020-08-11T06:26:14.956576Z",
          "start_time": "2020-08-11T06:26:13.727357Z"
        },
        "scrolled": true,
        "id": "_A_ajvQV66MM",
        "outputId": "20d86e16-26c5-469a-edd4-899d2597d824"
      },
      "source": [
        "cols = ['age','capital gain','capital loss','working hours per week']\n",
        "for i in cols:\n",
        "    sns.boxplot(adult_data[i],whis=1.5)\n",
        "    plt.grid()\n",
        "    plt.show();"
      ],
      "execution_count": null,
      "outputs": [
        {
          "output_type": "display_data",
          "data": {
            "image/png": "[encoded data removed]",
            "text/plain": [
              "<Figure size 1080x288 with 1 Axes>"
            ]
          },
          "metadata": {
            "tags": [],
            "needs_background": "light"
          }
        },
        {
          "output_type": "display_data",
          "data": {
            "image/png": "[encoded data removed]",
            "text/plain": [
              "<Figure size 1080x288 with 1 Axes>"
            ]
          },
          "metadata": {
            "tags": [],
            "needs_background": "light"
          }
        },
        {
          "output_type": "display_data",
          "data": {
            "image/png": "[encoded data removed]",
            "text/plain": [
              "<Figure size 1080x288 with 1 Axes>"
            ]
          },
          "metadata": {
            "tags": [],
            "needs_background": "light"
          }
        },
        {
          "output_type": "display_data",
          "data": {
            "image/png": "[encoded data removed]",
            "text/plain": [
              "<Figure size 1080x288 with 1 Axes>"
            ]
          },
          "metadata": {
            "tags": [],
            "needs_background": "light"
          }
        }
      ]
    },
    {
      "cell_type": "markdown",
      "metadata": {
        "id": "jvS8MC4J66MP"
      },
      "source": [
        "Dropping the variables of capital gain and capital loss as the majority of the values are zero."
      ]
    },
    {
      "cell_type": "code",
      "metadata": {
        "ExecuteTime": {
          "end_time": "2020-08-11T06:26:14.979515Z",
          "start_time": "2020-08-11T06:26:14.958572Z"
        },
        "id": "LTovNGey66MQ",
        "outputId": "7941fc80-f656-42e9-e086-5857bcee525b"
      },
      "source": [
        "adult_data.drop(labels=['capital gain','capital loss'],axis=1,inplace=True)\n",
        "adult_data.head()"
      ],
      "execution_count": null,
      "outputs": [
        {
          "output_type": "execute_result",
          "data": {
            "text/html": [
              "<div>\n",
              "<style scoped>\n",
              "    .dataframe tbody tr th:only-of-type {\n",
              "        vertical-align: middle;\n",
              "    }\n",
              "\n",
              "    .dataframe tbody tr th {\n",
              "        vertical-align: top;\n",
              "    }\n",
              "\n",
              "    .dataframe thead th {\n",
              "        text-align: right;\n",
              "    }\n",
              "</style>\n",
              "<table border=\"1\" class=\"dataframe\">\n",
              "  <thead>\n",
              "    <tr style=\"text-align: right;\">\n",
              "      <th></th>\n",
              "      <th>age</th>\n",
              "      <th>workclass</th>\n",
              "      <th>education</th>\n",
              "      <th>marrital status</th>\n",
              "      <th>occupation</th>\n",
              "      <th>sex</th>\n",
              "      <th>working hours per week</th>\n",
              "      <th>salary</th>\n",
              "    </tr>\n",
              "  </thead>\n",
              "  <tbody>\n",
              "    <tr>\n",
              "      <td>0</td>\n",
              "      <td>39</td>\n",
              "      <td>State-gov</td>\n",
              "      <td>Bachelors</td>\n",
              "      <td>Never-married</td>\n",
              "      <td>Adm-clerical</td>\n",
              "      <td>Male</td>\n",
              "      <td>40</td>\n",
              "      <td>&lt;=50K</td>\n",
              "    </tr>\n",
              "    <tr>\n",
              "      <td>1</td>\n",
              "      <td>50</td>\n",
              "      <td>Self-emp-not-inc</td>\n",
              "      <td>Bachelors</td>\n",
              "      <td>Married-civ-spouse</td>\n",
              "      <td>Exec-managerial</td>\n",
              "      <td>Male</td>\n",
              "      <td>13</td>\n",
              "      <td>&lt;=50K</td>\n",
              "    </tr>\n",
              "    <tr>\n",
              "      <td>2</td>\n",
              "      <td>38</td>\n",
              "      <td>Private</td>\n",
              "      <td>HS-grad</td>\n",
              "      <td>Divorced</td>\n",
              "      <td>Handlers-cleaners</td>\n",
              "      <td>Male</td>\n",
              "      <td>40</td>\n",
              "      <td>&lt;=50K</td>\n",
              "    </tr>\n",
              "    <tr>\n",
              "      <td>3</td>\n",
              "      <td>53</td>\n",
              "      <td>Private</td>\n",
              "      <td>11th</td>\n",
              "      <td>Married-civ-spouse</td>\n",
              "      <td>Handlers-cleaners</td>\n",
              "      <td>Male</td>\n",
              "      <td>40</td>\n",
              "      <td>&lt;=50K</td>\n",
              "    </tr>\n",
              "    <tr>\n",
              "      <td>4</td>\n",
              "      <td>28</td>\n",
              "      <td>Private</td>\n",
              "      <td>Bachelors</td>\n",
              "      <td>Married-civ-spouse</td>\n",
              "      <td>Prof-specialty</td>\n",
              "      <td>Female</td>\n",
              "      <td>40</td>\n",
              "      <td>&lt;=50K</td>\n",
              "    </tr>\n",
              "  </tbody>\n",
              "</table>\n",
              "</div>"
            ],
            "text/plain": [
              "   age         workclass  education     marrital status         occupation  \\\n",
              "0   39         State-gov  Bachelors       Never-married       Adm-clerical   \n",
              "1   50  Self-emp-not-inc  Bachelors  Married-civ-spouse    Exec-managerial   \n",
              "2   38           Private    HS-grad            Divorced  Handlers-cleaners   \n",
              "3   53           Private       11th  Married-civ-spouse  Handlers-cleaners   \n",
              "4   28           Private  Bachelors  Married-civ-spouse     Prof-specialty   \n",
              "\n",
              "      sex  working hours per week  salary  \n",
              "0    Male                      40   <=50K  \n",
              "1    Male                      13   <=50K  \n",
              "2    Male                      40   <=50K  \n",
              "3    Male                      40   <=50K  \n",
              "4  Female                      40   <=50K  "
            ]
          },
          "metadata": {
            "tags": []
          },
          "execution_count": 248
        }
      ]
    },
    {
      "cell_type": "markdown",
      "metadata": {
        "id": "S2-iJdqh66MV"
      },
      "source": [
        "### Treating the outliers at 1.5 * IQR (Inter-Quartile Range). \n",
        "For this exercises, we are not treating the outliers. But please do play around with the data and try out such treatments."
      ]
    },
    {
      "cell_type": "code",
      "metadata": {
        "ExecuteTime": {
          "end_time": "2020-08-11T06:26:15.463255Z",
          "start_time": "2020-08-11T06:26:14.981510Z"
        },
        "scrolled": true,
        "id": "_FwPH5s266MW"
      },
      "source": [
        "# # Defining a function for getting the Upper and Lower limt acceptance of the outliers at 1.5*IQR. \n",
        "# # We can choose to treat the outliers at 3*IQR as well\n",
        "\n",
        "# def remove_outlier(col):\n",
        "#     sorted(col)\n",
        "#     Q1,Q3=np.percentile(col,[25,75])\n",
        "#     IQR=Q3-Q1\n",
        "#     lower_range= Q1-(1.5 * IQR)\n",
        "#     upper_range= Q3+(1.5 * IQR)\n",
        "#     return lower_range, upper_range"
      ],
      "execution_count": null,
      "outputs": []
    },
    {
      "cell_type": "code",
      "metadata": {
        "ExecuteTime": {
          "end_time": "2020-08-11T06:26:16.393723Z",
          "start_time": "2020-08-11T06:26:15.464218Z"
        },
        "id": "5hhAc_AV66MZ"
      },
      "source": [
        "## This is a loop to treat outliers for all the non-'object' type varible\n",
        "\n",
        "# for column in adult_data.columns:\n",
        "#     if adult_data[column].dtype != 'object': \n",
        "#         lr,ur=remove_outlier(adult_data[column])\n",
        "#         adult_data[column]=np.where(adult_data[column]>ur,ur,adult_data[column])\n",
        "#         adult_data[column]=np.where(adult_data[column]<lr,lr,adult_data[column])"
      ],
      "execution_count": null,
      "outputs": []
    },
    {
      "cell_type": "markdown",
      "metadata": {
        "id": "mVe6ANQC66Md"
      },
      "source": [
        "### Checking for Correlations. Print the correlation matrix and the correlation heatmap."
      ]
    },
    {
      "cell_type": "code",
      "metadata": {
        "ExecuteTime": {
          "end_time": "2020-08-11T06:26:16.590198Z",
          "start_time": "2020-08-11T06:26:16.394720Z"
        },
        "id": "FKWk78CG66Me",
        "outputId": "53411cc3-7661-44be-9ff1-44e63208919b"
      },
      "source": [
        "adult_data.corr()"
      ],
      "execution_count": null,
      "outputs": [
        {
          "output_type": "execute_result",
          "data": {
            "text/html": [
              "<div>\n",
              "<style scoped>\n",
              "    .dataframe tbody tr th:only-of-type {\n",
              "        vertical-align: middle;\n",
              "    }\n",
              "\n",
              "    .dataframe tbody tr th {\n",
              "        vertical-align: top;\n",
              "    }\n",
              "\n",
              "    .dataframe thead th {\n",
              "        text-align: right;\n",
              "    }\n",
              "</style>\n",
              "<table border=\"1\" class=\"dataframe\">\n",
              "  <thead>\n",
              "    <tr style=\"text-align: right;\">\n",
              "      <th></th>\n",
              "      <th>age</th>\n",
              "      <th>working hours per week</th>\n",
              "    </tr>\n",
              "  </thead>\n",
              "  <tbody>\n",
              "    <tr>\n",
              "      <td>age</td>\n",
              "      <td>1.000000</td>\n",
              "      <td>0.019571</td>\n",
              "    </tr>\n",
              "    <tr>\n",
              "      <td>working hours per week</td>\n",
              "      <td>0.019571</td>\n",
              "      <td>1.000000</td>\n",
              "    </tr>\n",
              "  </tbody>\n",
              "</table>\n",
              "</div>"
            ],
            "text/plain": [
              "                             age  working hours per week\n",
              "age                     1.000000                0.019571\n",
              "working hours per week  0.019571                1.000000"
            ]
          },
          "metadata": {
            "tags": []
          },
          "execution_count": 251
        }
      ]
    },
    {
      "cell_type": "code",
      "metadata": {
        "ExecuteTime": {
          "end_time": "2020-08-11T06:26:16.938266Z",
          "start_time": "2020-08-11T06:26:16.592193Z"
        },
        "id": "JzwCV9QO66Mh",
        "outputId": "fa8b0821-b3d2-46c1-c29b-99e7a9a4e946"
      },
      "source": [
        "sns.heatmap(adult_data.corr(), annot=True,mask=np.triu(adult_data.corr(),+1));"
      ],
      "execution_count": null,
      "outputs": [
        {
          "output_type": "display_data",
          "data": {
            "image/png": "[encoded data removed]",
            "text/plain": [
              "<Figure size 1080x288 with 2 Axes>"
            ]
          },
          "metadata": {
            "tags": [],
            "needs_background": "light"
          }
        }
      ]
    },
    {
      "cell_type": "markdown",
      "metadata": {
        "id": "9dL0W_ec66Mk"
      },
      "source": [
        "### Plot a series of scatterplots between the continuous independent variables keeping the target variable as a hue."
      ]
    },
    {
      "cell_type": "code",
      "metadata": {
        "ExecuteTime": {
          "end_time": "2020-08-11T06:26:18.769401Z",
          "start_time": "2020-08-11T06:26:16.940262Z"
        },
        "id": "DA_P4QwG66Ml",
        "outputId": "71474ba1-c9d7-4cec-9ff2-461df0dfad67"
      },
      "source": [
        "# Pairplot using sns\n",
        "sns.pairplot(adult_data ,diag_kind='kde' ,hue='salary');"
      ],
      "execution_count": null,
      "outputs": [
        {
          "output_type": "display_data",
          "data": {
            "image/png": "[encoded data removed]",
            "text/plain": [
              "<Figure size 434.875x360 with 6 Axes>"
            ]
          },
          "metadata": {
            "tags": [],
            "needs_background": "light"
          }
        }
      ]
    },
    {
      "cell_type": "markdown",
      "metadata": {
        "id": "vPx0qV_c66Mq"
      },
      "source": [
        "### Change the names of the variables in a suitable way for building the logistic regression model."
      ]
    },
    {
      "cell_type": "code",
      "metadata": {
        "ExecuteTime": {
          "end_time": "2020-08-11T06:26:18.778345Z",
          "start_time": "2020-08-11T06:26:18.771363Z"
        },
        "id": "qTyMHIPo66Ms"
      },
      "source": [
        "## Removing the spaces from the variables\n",
        "\n",
        "adult_data.rename(columns = {'working hours per week':'working_hours_per_week','marrital status':'marritalstatus'}, inplace = True)"
      ],
      "execution_count": null,
      "outputs": []
    },
    {
      "cell_type": "markdown",
      "metadata": {
        "id": "_s9PX45d66My"
      },
      "source": [
        "### Treat the object variables appropriately by either creating dummy variables (One-Hot Encoding) or coding it up in an ordinal manner."
      ]
    },
    {
      "cell_type": "code",
      "metadata": {
        "ExecuteTime": {
          "end_time": "2020-08-11T06:26:19.194288Z",
          "start_time": "2020-08-11T06:26:18.780342Z"
        },
        "id": "PBpYpbhN66M3",
        "outputId": "fd121cee-c913-49d0-cbf3-085761fbb0de"
      },
      "source": [
        "adult_data.head()"
      ],
      "execution_count": null,
      "outputs": [
        {
          "output_type": "execute_result",
          "data": {
            "text/html": [
              "<div>\n",
              "<style scoped>\n",
              "    .dataframe tbody tr th:only-of-type {\n",
              "        vertical-align: middle;\n",
              "    }\n",
              "\n",
              "    .dataframe tbody tr th {\n",
              "        vertical-align: top;\n",
              "    }\n",
              "\n",
              "    .dataframe thead th {\n",
              "        text-align: right;\n",
              "    }\n",
              "</style>\n",
              "<table border=\"1\" class=\"dataframe\">\n",
              "  <thead>\n",
              "    <tr style=\"text-align: right;\">\n",
              "      <th></th>\n",
              "      <th>age</th>\n",
              "      <th>workclass</th>\n",
              "      <th>education</th>\n",
              "      <th>marritalstatus</th>\n",
              "      <th>occupation</th>\n",
              "      <th>sex</th>\n",
              "      <th>working_hours_per_week</th>\n",
              "      <th>salary</th>\n",
              "    </tr>\n",
              "  </thead>\n",
              "  <tbody>\n",
              "    <tr>\n",
              "      <td>0</td>\n",
              "      <td>39</td>\n",
              "      <td>State-gov</td>\n",
              "      <td>Bachelors</td>\n",
              "      <td>Never-married</td>\n",
              "      <td>Adm-clerical</td>\n",
              "      <td>Male</td>\n",
              "      <td>40</td>\n",
              "      <td>&lt;=50K</td>\n",
              "    </tr>\n",
              "    <tr>\n",
              "      <td>1</td>\n",
              "      <td>50</td>\n",
              "      <td>Self-emp-not-inc</td>\n",
              "      <td>Bachelors</td>\n",
              "      <td>Married-civ-spouse</td>\n",
              "      <td>Exec-managerial</td>\n",
              "      <td>Male</td>\n",
              "      <td>13</td>\n",
              "      <td>&lt;=50K</td>\n",
              "    </tr>\n",
              "    <tr>\n",
              "      <td>2</td>\n",
              "      <td>38</td>\n",
              "      <td>Private</td>\n",
              "      <td>HS-grad</td>\n",
              "      <td>Divorced</td>\n",
              "      <td>Handlers-cleaners</td>\n",
              "      <td>Male</td>\n",
              "      <td>40</td>\n",
              "      <td>&lt;=50K</td>\n",
              "    </tr>\n",
              "    <tr>\n",
              "      <td>3</td>\n",
              "      <td>53</td>\n",
              "      <td>Private</td>\n",
              "      <td>11th</td>\n",
              "      <td>Married-civ-spouse</td>\n",
              "      <td>Handlers-cleaners</td>\n",
              "      <td>Male</td>\n",
              "      <td>40</td>\n",
              "      <td>&lt;=50K</td>\n",
              "    </tr>\n",
              "    <tr>\n",
              "      <td>4</td>\n",
              "      <td>28</td>\n",
              "      <td>Private</td>\n",
              "      <td>Bachelors</td>\n",
              "      <td>Married-civ-spouse</td>\n",
              "      <td>Prof-specialty</td>\n",
              "      <td>Female</td>\n",
              "      <td>40</td>\n",
              "      <td>&lt;=50K</td>\n",
              "    </tr>\n",
              "  </tbody>\n",
              "</table>\n",
              "</div>"
            ],
            "text/plain": [
              "   age         workclass  education      marritalstatus         occupation  \\\n",
              "0   39         State-gov  Bachelors       Never-married       Adm-clerical   \n",
              "1   50  Self-emp-not-inc  Bachelors  Married-civ-spouse    Exec-managerial   \n",
              "2   38           Private    HS-grad            Divorced  Handlers-cleaners   \n",
              "3   53           Private       11th  Married-civ-spouse  Handlers-cleaners   \n",
              "4   28           Private  Bachelors  Married-civ-spouse     Prof-specialty   \n",
              "\n",
              "      sex  working_hours_per_week  salary  \n",
              "0    Male                      40   <=50K  \n",
              "1    Male                      13   <=50K  \n",
              "2    Male                      40   <=50K  \n",
              "3    Male                      40   <=50K  \n",
              "4  Female                      40   <=50K  "
            ]
          },
          "metadata": {
            "tags": []
          },
          "execution_count": 255
        }
      ]
    },
    {
      "cell_type": "code",
      "metadata": {
        "ExecuteTime": {
          "end_time": "2020-08-11T06:26:19.423712Z",
          "start_time": "2020-08-11T06:26:19.195285Z"
        },
        "id": "6R7ahyJL66M_"
      },
      "source": [
        "## We are coding up the 'education' variable in an ordinal manner\n",
        "\n",
        "adult_data['education']=np.where(adult_data['education'] =='Preschool', '1', adult_data['education'])\n",
        "adult_data['education']=np.where(adult_data['education'] =='1st-4th', '2', adult_data['education'])\n",
        "adult_data['education']=np.where(adult_data['education'] =='5th-6th', '3', adult_data['education'])\n",
        "adult_data['education']=np.where(adult_data['education'] =='7th-8th', '4', adult_data['education'])\n",
        "adult_data['education']=np.where(adult_data['education'] =='9th', '5', adult_data['education'])\n",
        "adult_data['education']=np.where(adult_data['education'] =='10th', '6', adult_data['education'])\n",
        "adult_data['education']=np.where(adult_data['education'] =='11th', '7', adult_data['education'])\n",
        "adult_data['education']=np.where(adult_data['education'] =='12th', '8', adult_data['education'])\n",
        "adult_data['education']=np.where(adult_data['education'] =='HS-grad', '9', adult_data['education'])\n",
        "adult_data['education']=np.where(adult_data['education'] =='Prof-school', '9', adult_data['education'])\n",
        "adult_data['education']=np.where(adult_data['education'] =='Assoc-acdm', '10', adult_data['education'])\n",
        "adult_data['education']=np.where(adult_data['education'] =='Assoc-voc', '11', adult_data['education'])\n",
        "adult_data['education']=np.where(adult_data['education'] =='Some-college', '12', adult_data['education'])\n",
        "adult_data['education']=np.where(adult_data['education'] =='Bachelors', '13', adult_data['education'])\n",
        "adult_data['education']=np.where(adult_data['education'] =='Masters', '14', adult_data['education'])\n",
        "adult_data['education']=np.where(adult_data['education'] =='Doctorate', '15', adult_data['education'])"
      ],
      "execution_count": null,
      "outputs": []
    },
    {
      "cell_type": "code",
      "metadata": {
        "ExecuteTime": {
          "end_time": "2020-08-11T06:26:19.644966Z",
          "start_time": "2020-08-11T06:26:19.424716Z"
        },
        "id": "gpYrSchG66NH"
      },
      "source": [
        "## We are grouping certain types of 'workclass' under different categories\n",
        "\n",
        "adult_data['workclass']=np.where(adult_data['workclass'] =='Federal-gov', 'Government', adult_data['workclass'])\n",
        "adult_data['workclass']=np.where(adult_data['workclass'] =='Local-gov', 'Government', adult_data['workclass'])\n",
        "adult_data['workclass']=np.where(adult_data['workclass'] =='State-gov', 'Government', adult_data['workclass'])\n",
        "\n",
        "adult_data['workclass']=np.where(adult_data['workclass'] =='Self-emp-inc', 'Others', adult_data['workclass'])\n",
        "adult_data['workclass']=np.where(adult_data['workclass'] =='Self-emp-not-inc', 'Others', adult_data['workclass'])\n",
        "adult_data['workclass']=np.where(adult_data['workclass'] =='unknown', 'Others', adult_data['workclass'])\n",
        "adult_data['workclass']=np.where(adult_data['workclass'] =='Without-pay', 'Others', adult_data['workclass'])\n",
        "adult_data['workclass']=np.where(adult_data['workclass'] =='Never-worked', 'Others', adult_data['workclass'])"
      ],
      "execution_count": null,
      "outputs": []
    },
    {
      "cell_type": "code",
      "metadata": {
        "ExecuteTime": {
          "end_time": "2020-08-11T06:26:19.940138Z",
          "start_time": "2020-08-11T06:26:19.648957Z"
        },
        "id": "NWdpWNte66NO"
      },
      "source": [
        "## We are grouping certain types of 'marritalstatus' under different categories\n",
        "\n",
        "adult_data['marritalstatus']=np.where(adult_data['marritalstatus'] =='Divorced', 'CurrentlySingle', adult_data['marritalstatus'])\n",
        "adult_data['marritalstatus']=np.where(adult_data['marritalstatus'] =='Separated', 'CurrentlySingle', adult_data['marritalstatus'])\n",
        "adult_data['marritalstatus']=np.where(adult_data['marritalstatus'] =='Never-married', 'CurrentlySingle', adult_data['marritalstatus'])\n",
        "adult_data['marritalstatus']=np.where(adult_data['marritalstatus'] =='Widowed', 'CurrentlySingle', adult_data['marritalstatus'])\n",
        "\n",
        "adult_data['marritalstatus']=np.where(adult_data['marritalstatus'] =='Married-civ-spouse', 'Married', adult_data['marritalstatus'])\n",
        "adult_data['marritalstatus']=np.where(adult_data['marritalstatus'] =='Married-spouse-absent', 'Married', adult_data['marritalstatus'])\n",
        "adult_data['marritalstatus']=np.where(adult_data['marritalstatus'] =='Married-AF-absent', 'Married', adult_data['marritalstatus'])\n",
        "adult_data['marritalstatus']=np.where(adult_data['marritalstatus'] =='Married-AF-spouse', 'Married', adult_data['marritalstatus'])"
      ],
      "execution_count": null,
      "outputs": []
    },
    {
      "cell_type": "code",
      "metadata": {
        "ExecuteTime": {
          "end_time": "2020-08-11T06:26:20.142619Z",
          "start_time": "2020-08-11T06:26:19.943125Z"
        },
        "id": "QWUIqfcc66NY"
      },
      "source": [
        "## We are grouping certain types of 'occupation' under different categories\n",
        "\n",
        "adult_data['occupation']=np.where(adult_data['occupation'] =='Adm-clerical', 'WhiteCollar', adult_data['occupation'])\n",
        "adult_data['occupation']=np.where(adult_data['occupation'] =='Exec-managerial', 'WhiteCollar', adult_data['occupation'])\n",
        "\n",
        "adult_data['occupation']=np.where(adult_data['occupation'] =='Craft-repair', 'BlueCollar', adult_data['occupation'])\n",
        "adult_data['occupation']=np.where(adult_data['occupation'] =='Handlers-cleaners', 'BlueCollar', adult_data['occupation'])\n",
        "adult_data['occupation']=np.where(adult_data['occupation'] =='Transport-moving', 'BlueCollar', adult_data['occupation'])\n",
        "adult_data['occupation']=np.where(adult_data['occupation'] =='Farming-fishing', 'BlueCollar', adult_data['occupation'])\n",
        "adult_data['occupation']=np.where(adult_data['occupation'] =='Machine-op-inspct', 'BlueCollar', adult_data['occupation'])\n",
        "\n",
        "adult_data['occupation']=np.where(adult_data['occupation'] =='Tech-support', 'Service', adult_data['occupation'])\n",
        "adult_data['occupation']=np.where(adult_data['occupation'] =='Other-service', 'Service', adult_data['occupation'])\n",
        "adult_data['occupation']=np.where(adult_data['occupation'] =='Protective-serv', 'Service', adult_data['occupation'])\n",
        "adult_data['occupation']=np.where(adult_data['occupation'] =='Priv-house-serv', 'Service', adult_data['occupation'])\n",
        "adult_data['occupation']=np.where(adult_data['occupation'] =='Prof-specialty', 'Service', adult_data['occupation'])\n",
        "\n",
        "adult_data['occupation']=np.where(adult_data['occupation'] =='unknown', 'Unknown_Others', adult_data['occupation'])\n",
        "adult_data['occupation']=np.where(adult_data['occupation'] =='Armed-Forces', 'Unknown_Others', adult_data['occupation'])"
      ],
      "execution_count": null,
      "outputs": []
    },
    {
      "cell_type": "code",
      "metadata": {
        "ExecuteTime": {
          "end_time": "2020-08-11T06:26:20.392889Z",
          "start_time": "2020-08-11T06:26:20.143588Z"
        },
        "id": "4pEziOoM66Nk",
        "outputId": "d695fcbe-d0d8-4249-8364-e6c10a9957b6"
      },
      "source": [
        "adult_data.head()"
      ],
      "execution_count": null,
      "outputs": [
        {
          "output_type": "execute_result",
          "data": {
            "text/html": [
              "<div>\n",
              "<style scoped>\n",
              "    .dataframe tbody tr th:only-of-type {\n",
              "        vertical-align: middle;\n",
              "    }\n",
              "\n",
              "    .dataframe tbody tr th {\n",
              "        vertical-align: top;\n",
              "    }\n",
              "\n",
              "    .dataframe thead th {\n",
              "        text-align: right;\n",
              "    }\n",
              "</style>\n",
              "<table border=\"1\" class=\"dataframe\">\n",
              "  <thead>\n",
              "    <tr style=\"text-align: right;\">\n",
              "      <th></th>\n",
              "      <th>age</th>\n",
              "      <th>workclass</th>\n",
              "      <th>education</th>\n",
              "      <th>marritalstatus</th>\n",
              "      <th>occupation</th>\n",
              "      <th>sex</th>\n",
              "      <th>working_hours_per_week</th>\n",
              "      <th>salary</th>\n",
              "    </tr>\n",
              "  </thead>\n",
              "  <tbody>\n",
              "    <tr>\n",
              "      <td>0</td>\n",
              "      <td>39</td>\n",
              "      <td>Government</td>\n",
              "      <td>13</td>\n",
              "      <td>CurrentlySingle</td>\n",
              "      <td>WhiteCollar</td>\n",
              "      <td>Male</td>\n",
              "      <td>40</td>\n",
              "      <td>&lt;=50K</td>\n",
              "    </tr>\n",
              "    <tr>\n",
              "      <td>1</td>\n",
              "      <td>50</td>\n",
              "      <td>Others</td>\n",
              "      <td>13</td>\n",
              "      <td>Married</td>\n",
              "      <td>WhiteCollar</td>\n",
              "      <td>Male</td>\n",
              "      <td>13</td>\n",
              "      <td>&lt;=50K</td>\n",
              "    </tr>\n",
              "    <tr>\n",
              "      <td>2</td>\n",
              "      <td>38</td>\n",
              "      <td>Private</td>\n",
              "      <td>9</td>\n",
              "      <td>CurrentlySingle</td>\n",
              "      <td>BlueCollar</td>\n",
              "      <td>Male</td>\n",
              "      <td>40</td>\n",
              "      <td>&lt;=50K</td>\n",
              "    </tr>\n",
              "    <tr>\n",
              "      <td>3</td>\n",
              "      <td>53</td>\n",
              "      <td>Private</td>\n",
              "      <td>7</td>\n",
              "      <td>Married</td>\n",
              "      <td>BlueCollar</td>\n",
              "      <td>Male</td>\n",
              "      <td>40</td>\n",
              "      <td>&lt;=50K</td>\n",
              "    </tr>\n",
              "    <tr>\n",
              "      <td>4</td>\n",
              "      <td>28</td>\n",
              "      <td>Private</td>\n",
              "      <td>13</td>\n",
              "      <td>Married</td>\n",
              "      <td>Service</td>\n",
              "      <td>Female</td>\n",
              "      <td>40</td>\n",
              "      <td>&lt;=50K</td>\n",
              "    </tr>\n",
              "  </tbody>\n",
              "</table>\n",
              "</div>"
            ],
            "text/plain": [
              "   age   workclass education   marritalstatus   occupation     sex  \\\n",
              "0   39  Government        13  CurrentlySingle  WhiteCollar    Male   \n",
              "1   50      Others        13          Married  WhiteCollar    Male   \n",
              "2   38     Private         9  CurrentlySingle   BlueCollar    Male   \n",
              "3   53     Private         7          Married   BlueCollar    Male   \n",
              "4   28     Private        13          Married      Service  Female   \n",
              "\n",
              "   working_hours_per_week  salary  \n",
              "0                      40   <=50K  \n",
              "1                      13   <=50K  \n",
              "2                      40   <=50K  \n",
              "3                      40   <=50K  \n",
              "4                      40   <=50K  "
            ]
          },
          "metadata": {
            "tags": []
          },
          "execution_count": 260
        }
      ]
    },
    {
      "cell_type": "code",
      "metadata": {
        "ExecuteTime": {
          "end_time": "2020-08-11T06:26:20.601330Z",
          "start_time": "2020-08-11T06:26:20.393886Z"
        },
        "id": "r_2qufrF66Np",
        "outputId": "91353041-f19f-44bd-e9bc-6c0c55e61894"
      },
      "source": [
        "adult_data.info()"
      ],
      "execution_count": null,
      "outputs": [
        {
          "output_type": "stream",
          "text": [
            "<class 'pandas.core.frame.DataFrame'>\n",
            "Int64Index: 26697 entries, 0 to 32560\n",
            "Data columns (total 8 columns):\n",
            "age                       26697 non-null int64\n",
            "workclass                 26697 non-null object\n",
            "education                 26697 non-null object\n",
            "marritalstatus            26697 non-null object\n",
            "occupation                26697 non-null object\n",
            "sex                       26697 non-null object\n",
            "working_hours_per_week    26697 non-null int64\n",
            "salary                    26697 non-null object\n",
            "dtypes: int64(2), object(6)\n",
            "memory usage: 1.8+ MB\n"
          ],
          "name": "stdout"
        }
      ]
    },
    {
      "cell_type": "code",
      "metadata": {
        "ExecuteTime": {
          "end_time": "2020-08-11T06:26:20.768882Z",
          "start_time": "2020-08-11T06:26:20.603327Z"
        },
        "id": "Vj0tx3v-66Nt",
        "outputId": "8ea6251e-99c0-4878-d3f7-e3831b449676"
      },
      "source": [
        "## Converting the education variable to numeric\n",
        "\n",
        "adult_data['education'] = adult_data['education'].astype('int64')\n",
        "adult_data.info()"
      ],
      "execution_count": null,
      "outputs": [
        {
          "output_type": "stream",
          "text": [
            "<class 'pandas.core.frame.DataFrame'>\n",
            "Int64Index: 26697 entries, 0 to 32560\n",
            "Data columns (total 8 columns):\n",
            "age                       26697 non-null int64\n",
            "workclass                 26697 non-null object\n",
            "education                 26697 non-null int64\n",
            "marritalstatus            26697 non-null object\n",
            "occupation                26697 non-null object\n",
            "sex                       26697 non-null object\n",
            "working_hours_per_week    26697 non-null int64\n",
            "salary                    26697 non-null object\n",
            "dtypes: int64(3), object(5)\n",
            "memory usage: 1.8+ MB\n"
          ],
          "name": "stdout"
        }
      ]
    },
    {
      "cell_type": "code",
      "metadata": {
        "ExecuteTime": {
          "end_time": "2020-08-11T06:26:20.966354Z",
          "start_time": "2020-08-11T06:26:20.769880Z"
        },
        "id": "cniGzS9L66Nx"
      },
      "source": [
        "## Converting the 'salary' Variable into numeric by using the LabelEncoder functionality inside sklearn.\n",
        "from sklearn.preprocessing import LabelEncoder\n",
        "\n",
        "## Defining a Label Encoder object instance\n",
        "LE = LabelEncoder()"
      ],
      "execution_count": null,
      "outputs": []
    },
    {
      "cell_type": "code",
      "metadata": {
        "ExecuteTime": {
          "end_time": "2020-08-11T06:26:21.371272Z",
          "start_time": "2020-08-11T06:26:20.967351Z"
        },
        "id": "6lU5OBkr66N0",
        "outputId": "73f90a0a-3f90-430c-a5c0-37cae90cccee"
      },
      "source": [
        "## Applying the created Label Encoder object for the target class\n",
        "## Assigning the 0 to <=50k and 1 to >50k\n",
        "\n",
        "adult_data['salary'] = LE.fit_transform(adult_data['salary'])\n",
        "adult_data.head()"
      ],
      "execution_count": null,
      "outputs": [
        {
          "output_type": "execute_result",
          "data": {
            "text/html": [
              "<div>\n",
              "<style scoped>\n",
              "    .dataframe tbody tr th:only-of-type {\n",
              "        vertical-align: middle;\n",
              "    }\n",
              "\n",
              "    .dataframe tbody tr th {\n",
              "        vertical-align: top;\n",
              "    }\n",
              "\n",
              "    .dataframe thead th {\n",
              "        text-align: right;\n",
              "    }\n",
              "</style>\n",
              "<table border=\"1\" class=\"dataframe\">\n",
              "  <thead>\n",
              "    <tr style=\"text-align: right;\">\n",
              "      <th></th>\n",
              "      <th>age</th>\n",
              "      <th>workclass</th>\n",
              "      <th>education</th>\n",
              "      <th>marritalstatus</th>\n",
              "      <th>occupation</th>\n",
              "      <th>sex</th>\n",
              "      <th>working_hours_per_week</th>\n",
              "      <th>salary</th>\n",
              "    </tr>\n",
              "  </thead>\n",
              "  <tbody>\n",
              "    <tr>\n",
              "      <td>0</td>\n",
              "      <td>39</td>\n",
              "      <td>Government</td>\n",
              "      <td>13</td>\n",
              "      <td>CurrentlySingle</td>\n",
              "      <td>WhiteCollar</td>\n",
              "      <td>Male</td>\n",
              "      <td>40</td>\n",
              "      <td>0</td>\n",
              "    </tr>\n",
              "    <tr>\n",
              "      <td>1</td>\n",
              "      <td>50</td>\n",
              "      <td>Others</td>\n",
              "      <td>13</td>\n",
              "      <td>Married</td>\n",
              "      <td>WhiteCollar</td>\n",
              "      <td>Male</td>\n",
              "      <td>13</td>\n",
              "      <td>0</td>\n",
              "    </tr>\n",
              "    <tr>\n",
              "      <td>2</td>\n",
              "      <td>38</td>\n",
              "      <td>Private</td>\n",
              "      <td>9</td>\n",
              "      <td>CurrentlySingle</td>\n",
              "      <td>BlueCollar</td>\n",
              "      <td>Male</td>\n",
              "      <td>40</td>\n",
              "      <td>0</td>\n",
              "    </tr>\n",
              "    <tr>\n",
              "      <td>3</td>\n",
              "      <td>53</td>\n",
              "      <td>Private</td>\n",
              "      <td>7</td>\n",
              "      <td>Married</td>\n",
              "      <td>BlueCollar</td>\n",
              "      <td>Male</td>\n",
              "      <td>40</td>\n",
              "      <td>0</td>\n",
              "    </tr>\n",
              "    <tr>\n",
              "      <td>4</td>\n",
              "      <td>28</td>\n",
              "      <td>Private</td>\n",
              "      <td>13</td>\n",
              "      <td>Married</td>\n",
              "      <td>Service</td>\n",
              "      <td>Female</td>\n",
              "      <td>40</td>\n",
              "      <td>0</td>\n",
              "    </tr>\n",
              "  </tbody>\n",
              "</table>\n",
              "</div>"
            ],
            "text/plain": [
              "   age   workclass  education   marritalstatus   occupation     sex  \\\n",
              "0   39  Government         13  CurrentlySingle  WhiteCollar    Male   \n",
              "1   50      Others         13          Married  WhiteCollar    Male   \n",
              "2   38     Private          9  CurrentlySingle   BlueCollar    Male   \n",
              "3   53     Private          7          Married   BlueCollar    Male   \n",
              "4   28     Private         13          Married      Service  Female   \n",
              "\n",
              "   working_hours_per_week  salary  \n",
              "0                      40       0  \n",
              "1                      13       0  \n",
              "2                      40       0  \n",
              "3                      40       0  \n",
              "4                      40       0  "
            ]
          },
          "metadata": {
            "tags": []
          },
          "execution_count": 264
        }
      ]
    },
    {
      "cell_type": "code",
      "metadata": {
        "ExecuteTime": {
          "end_time": "2020-08-11T06:26:21.580714Z",
          "start_time": "2020-08-11T06:26:21.373266Z"
        },
        "id": "-P25rhTw66N6",
        "outputId": "3d2241d3-d840-4264-fa18-51104a8a8fe5"
      },
      "source": [
        "adult_data.info()"
      ],
      "execution_count": null,
      "outputs": [
        {
          "output_type": "stream",
          "text": [
            "<class 'pandas.core.frame.DataFrame'>\n",
            "Int64Index: 26697 entries, 0 to 32560\n",
            "Data columns (total 8 columns):\n",
            "age                       26697 non-null int64\n",
            "workclass                 26697 non-null object\n",
            "education                 26697 non-null int64\n",
            "marritalstatus            26697 non-null object\n",
            "occupation                26697 non-null object\n",
            "sex                       26697 non-null object\n",
            "working_hours_per_week    26697 non-null int64\n",
            "salary                    26697 non-null int32\n",
            "dtypes: int32(1), int64(3), object(4)\n",
            "memory usage: 1.7+ MB\n"
          ],
          "name": "stdout"
        }
      ]
    },
    {
      "cell_type": "code",
      "metadata": {
        "ExecuteTime": {
          "end_time": "2020-08-11T06:26:21.827054Z",
          "start_time": "2020-08-11T06:26:21.582715Z"
        },
        "id": "dgRiNH-266N-",
        "outputId": "0f346e01-1661-4724-93c6-4b4f37a1fe74"
      },
      "source": [
        "## Converting the other 'object' type variables as dummy variables\n",
        "\n",
        "adult_data_dummy = pd.get_dummies(adult_data,drop_first=True)\n",
        "adult_data_dummy.head()"
      ],
      "execution_count": null,
      "outputs": [
        {
          "output_type": "execute_result",
          "data": {
            "text/html": [
              "<div>\n",
              "<style scoped>\n",
              "    .dataframe tbody tr th:only-of-type {\n",
              "        vertical-align: middle;\n",
              "    }\n",
              "\n",
              "    .dataframe tbody tr th {\n",
              "        vertical-align: top;\n",
              "    }\n",
              "\n",
              "    .dataframe thead th {\n",
              "        text-align: right;\n",
              "    }\n",
              "</style>\n",
              "<table border=\"1\" class=\"dataframe\">\n",
              "  <thead>\n",
              "    <tr style=\"text-align: right;\">\n",
              "      <th></th>\n",
              "      <th>age</th>\n",
              "      <th>education</th>\n",
              "      <th>working_hours_per_week</th>\n",
              "      <th>salary</th>\n",
              "      <th>workclass_Others</th>\n",
              "      <th>workclass_Private</th>\n",
              "      <th>marritalstatus_Married</th>\n",
              "      <th>occupation_Sales</th>\n",
              "      <th>occupation_Service</th>\n",
              "      <th>occupation_Unknown_Others</th>\n",
              "      <th>occupation_WhiteCollar</th>\n",
              "      <th>sex_Male</th>\n",
              "    </tr>\n",
              "  </thead>\n",
              "  <tbody>\n",
              "    <tr>\n",
              "      <td>0</td>\n",
              "      <td>39</td>\n",
              "      <td>13</td>\n",
              "      <td>40</td>\n",
              "      <td>0</td>\n",
              "      <td>0</td>\n",
              "      <td>0</td>\n",
              "      <td>0</td>\n",
              "      <td>0</td>\n",
              "      <td>0</td>\n",
              "      <td>0</td>\n",
              "      <td>1</td>\n",
              "      <td>1</td>\n",
              "    </tr>\n",
              "    <tr>\n",
              "      <td>1</td>\n",
              "      <td>50</td>\n",
              "      <td>13</td>\n",
              "      <td>13</td>\n",
              "      <td>0</td>\n",
              "      <td>1</td>\n",
              "      <td>0</td>\n",
              "      <td>1</td>\n",
              "      <td>0</td>\n",
              "      <td>0</td>\n",
              "      <td>0</td>\n",
              "      <td>1</td>\n",
              "      <td>1</td>\n",
              "    </tr>\n",
              "    <tr>\n",
              "      <td>2</td>\n",
              "      <td>38</td>\n",
              "      <td>9</td>\n",
              "      <td>40</td>\n",
              "      <td>0</td>\n",
              "      <td>0</td>\n",
              "      <td>1</td>\n",
              "      <td>0</td>\n",
              "      <td>0</td>\n",
              "      <td>0</td>\n",
              "      <td>0</td>\n",
              "      <td>0</td>\n",
              "      <td>1</td>\n",
              "    </tr>\n",
              "    <tr>\n",
              "      <td>3</td>\n",
              "      <td>53</td>\n",
              "      <td>7</td>\n",
              "      <td>40</td>\n",
              "      <td>0</td>\n",
              "      <td>0</td>\n",
              "      <td>1</td>\n",
              "      <td>1</td>\n",
              "      <td>0</td>\n",
              "      <td>0</td>\n",
              "      <td>0</td>\n",
              "      <td>0</td>\n",
              "      <td>1</td>\n",
              "    </tr>\n",
              "    <tr>\n",
              "      <td>4</td>\n",
              "      <td>28</td>\n",
              "      <td>13</td>\n",
              "      <td>40</td>\n",
              "      <td>0</td>\n",
              "      <td>0</td>\n",
              "      <td>1</td>\n",
              "      <td>1</td>\n",
              "      <td>0</td>\n",
              "      <td>1</td>\n",
              "      <td>0</td>\n",
              "      <td>0</td>\n",
              "      <td>0</td>\n",
              "    </tr>\n",
              "  </tbody>\n",
              "</table>\n",
              "</div>"
            ],
            "text/plain": [
              "   age  education  working_hours_per_week  salary  workclass_Others  \\\n",
              "0   39         13                      40       0                 0   \n",
              "1   50         13                      13       0                 1   \n",
              "2   38          9                      40       0                 0   \n",
              "3   53          7                      40       0                 0   \n",
              "4   28         13                      40       0                 0   \n",
              "\n",
              "   workclass_Private  marritalstatus_Married  occupation_Sales  \\\n",
              "0                  0                       0                 0   \n",
              "1                  0                       1                 0   \n",
              "2                  1                       0                 0   \n",
              "3                  1                       1                 0   \n",
              "4                  1                       1                 0   \n",
              "\n",
              "   occupation_Service  occupation_Unknown_Others  occupation_WhiteCollar  \\\n",
              "0                   0                          0                       1   \n",
              "1                   0                          0                       1   \n",
              "2                   0                          0                       0   \n",
              "3                   0                          0                       0   \n",
              "4                   1                          0                       0   \n",
              "\n",
              "   sex_Male  \n",
              "0         1  \n",
              "1         1  \n",
              "2         1  \n",
              "3         1  \n",
              "4         0  "
            ]
          },
          "metadata": {
            "tags": []
          },
          "execution_count": 266
        }
      ]
    },
    {
      "cell_type": "code",
      "metadata": {
        "ExecuteTime": {
          "end_time": "2020-08-11T06:26:22.015548Z",
          "start_time": "2020-08-11T06:26:21.829048Z"
        },
        "id": "E6oqeqps66OD",
        "outputId": "767d6459-e4ad-4698-cbb7-819dc06f4fae"
      },
      "source": [
        "adult_data_dummy.info()"
      ],
      "execution_count": null,
      "outputs": [
        {
          "output_type": "stream",
          "text": [
            "<class 'pandas.core.frame.DataFrame'>\n",
            "Int64Index: 26697 entries, 0 to 32560\n",
            "Data columns (total 12 columns):\n",
            "age                          26697 non-null int64\n",
            "education                    26697 non-null int64\n",
            "working_hours_per_week       26697 non-null int64\n",
            "salary                       26697 non-null int32\n",
            "workclass_Others             26697 non-null uint8\n",
            "workclass_Private            26697 non-null uint8\n",
            "marritalstatus_Married       26697 non-null uint8\n",
            "occupation_Sales             26697 non-null uint8\n",
            "occupation_Service           26697 non-null uint8\n",
            "occupation_Unknown_Others    26697 non-null uint8\n",
            "occupation_WhiteCollar       26697 non-null uint8\n",
            "sex_Male                     26697 non-null uint8\n",
            "dtypes: int32(1), int64(3), uint8(8)\n",
            "memory usage: 1.1 MB\n"
          ],
          "name": "stdout"
        }
      ]
    },
    {
      "cell_type": "markdown",
      "metadata": {
        "id": "OQanN1W366OH"
      },
      "source": [
        "# Q1. Model 1 - Build the Logistic Regression Model using all the variables on the full data and check the summary statistics of the model. Check for multicollinearity in the predictor variables using Variance Inflation Factor (VIF). - 1 point."
      ]
    },
    {
      "cell_type": "code",
      "metadata": {
        "id": "cRVjaQId66OI"
      },
      "source": [
        "import statsmodels.formula.api as sm"
      ],
      "execution_count": null,
      "outputs": []
    },
    {
      "cell_type": "code",
      "metadata": {
        "id": "oyF9SQIH66ON",
        "outputId": "c66ce3c2-d858-412a-e09e-c4a95f8f2723"
      },
      "source": [
        "adult_data_dummy.columns"
      ],
      "execution_count": null,
      "outputs": [
        {
          "output_type": "execute_result",
          "data": {
            "text/plain": [
              "Index(['age', 'education', 'working_hours_per_week', 'salary',\n",
              "       'workclass_Others', 'workclass_Private', 'marritalstatus_Married',\n",
              "       'occupation_Sales', 'occupation_Service', 'occupation_Unknown_Others',\n",
              "       'occupation_WhiteCollar', 'sex_Male'],\n",
              "      dtype='object')"
            ]
          },
          "metadata": {
            "tags": []
          },
          "execution_count": 269
        }
      ]
    },
    {
      "cell_type": "code",
      "metadata": {
        "id": "aXMhJaby66OS"
      },
      "source": [
        "formula_1='salary~ age + education + working_hours_per_week + workclass_Others + workclass_Private + marritalstatus_Married + occupation_Sales + occupation_Service + occupation_Unknown_Others + occupation_WhiteCollar + sex_Male'"
      ],
      "execution_count": null,
      "outputs": []
    },
    {
      "cell_type": "code",
      "metadata": {
        "id": "Rcwjrt4q66OW",
        "outputId": "d3bc4621-22bd-45a2-d9b9-6d5244a2836a"
      },
      "source": [
        "Logistic_1 = sm.logit(formula=formula_1,data=adult_data_dummy).fit()"
      ],
      "execution_count": null,
      "outputs": [
        {
          "output_type": "stream",
          "text": [
            "Optimization terminated successfully.\n",
            "         Current function value: 0.414212\n",
            "         Iterations 7\n"
          ],
          "name": "stdout"
        }
      ]
    },
    {
      "cell_type": "code",
      "metadata": {
        "id": "MvLmG8af66Oa",
        "outputId": "597eda13-884d-4036-ebe8-21ce98e839da"
      },
      "source": [
        "Logistic_1.summary()"
      ],
      "execution_count": null,
      "outputs": [
        {
          "output_type": "execute_result",
          "data": {
            "text/html": [
              "<table class=\"simpletable\">\n",
              "<caption>Logit Regression Results</caption>\n",
              "<tr>\n",
              "  <th>Dep. Variable:</th>        <td>salary</td>      <th>  No. Observations:  </th>  <td> 26697</td> \n",
              "</tr>\n",
              "<tr>\n",
              "  <th>Model:</th>                 <td>Logit</td>      <th>  Df Residuals:      </th>  <td> 26685</td> \n",
              "</tr>\n",
              "<tr>\n",
              "  <th>Method:</th>                 <td>MLE</td>       <th>  Df Model:          </th>  <td>    11</td> \n",
              "</tr>\n",
              "<tr>\n",
              "  <th>Date:</th>            <td>Tue, 20 Oct 2020</td> <th>  Pseudo R-squ.:     </th>  <td>0.2812</td> \n",
              "</tr>\n",
              "<tr>\n",
              "  <th>Time:</th>                <td>10:03:19</td>     <th>  Log-Likelihood:    </th> <td> -11058.</td>\n",
              "</tr>\n",
              "<tr>\n",
              "  <th>converged:</th>             <td>True</td>       <th>  LL-Null:           </th> <td> -15385.</td>\n",
              "</tr>\n",
              "<tr>\n",
              "  <th>Covariance Type:</th>     <td>nonrobust</td>    <th>  LLR p-value:       </th>  <td> 0.000</td> \n",
              "</tr>\n",
              "</table>\n",
              "<table class=\"simpletable\">\n",
              "<tr>\n",
              "              <td></td>                 <th>coef</th>     <th>std err</th>      <th>z</th>      <th>P>|z|</th>  <th>[0.025</th>    <th>0.975]</th>  \n",
              "</tr>\n",
              "<tr>\n",
              "  <th>Intercept</th>                 <td>   -8.4738</td> <td>    0.142</td> <td>  -59.616</td> <td> 0.000</td> <td>   -8.752</td> <td>   -8.195</td>\n",
              "</tr>\n",
              "<tr>\n",
              "  <th>age</th>                       <td>    0.0285</td> <td>    0.001</td> <td>   20.352</td> <td> 0.000</td> <td>    0.026</td> <td>    0.031</td>\n",
              "</tr>\n",
              "<tr>\n",
              "  <th>education</th>                 <td>    0.2561</td> <td>    0.008</td> <td>   33.473</td> <td> 0.000</td> <td>    0.241</td> <td>    0.271</td>\n",
              "</tr>\n",
              "<tr>\n",
              "  <th>working_hours_per_week</th>    <td>    0.0321</td> <td>    0.001</td> <td>   22.749</td> <td> 0.000</td> <td>    0.029</td> <td>    0.035</td>\n",
              "</tr>\n",
              "<tr>\n",
              "  <th>workclass_Others</th>          <td>   -0.0352</td> <td>    0.060</td> <td>   -0.586</td> <td> 0.558</td> <td>   -0.153</td> <td>    0.083</td>\n",
              "</tr>\n",
              "<tr>\n",
              "  <th>workclass_Private</th>         <td>    0.0870</td> <td>    0.047</td> <td>    1.841</td> <td> 0.066</td> <td>   -0.006</td> <td>    0.180</td>\n",
              "</tr>\n",
              "<tr>\n",
              "  <th>marritalstatus_Married</th>    <td>    2.0895</td> <td>    0.042</td> <td>   49.888</td> <td> 0.000</td> <td>    2.007</td> <td>    2.172</td>\n",
              "</tr>\n",
              "<tr>\n",
              "  <th>occupation_Sales</th>          <td>    0.4917</td> <td>    0.059</td> <td>    8.289</td> <td> 0.000</td> <td>    0.375</td> <td>    0.608</td>\n",
              "</tr>\n",
              "<tr>\n",
              "  <th>occupation_Service</th>        <td>    0.7207</td> <td>    0.048</td> <td>   14.896</td> <td> 0.000</td> <td>    0.626</td> <td>    0.816</td>\n",
              "</tr>\n",
              "<tr>\n",
              "  <th>occupation_Unknown_Others</th> <td>   -0.1461</td> <td>    0.104</td> <td>   -1.404</td> <td> 0.160</td> <td>   -0.350</td> <td>    0.058</td>\n",
              "</tr>\n",
              "<tr>\n",
              "  <th>occupation_WhiteCollar</th>    <td>    0.8179</td> <td>    0.049</td> <td>   16.684</td> <td> 0.000</td> <td>    0.722</td> <td>    0.914</td>\n",
              "</tr>\n",
              "<tr>\n",
              "  <th>sex_Male</th>                  <td>    0.3943</td> <td>    0.045</td> <td>    8.744</td> <td> 0.000</td> <td>    0.306</td> <td>    0.483</td>\n",
              "</tr>\n",
              "</table>"
            ],
            "text/plain": [
              "<class 'statsmodels.iolib.summary.Summary'>\n",
              "\"\"\"\n",
              "                           Logit Regression Results                           \n",
              "==============================================================================\n",
              "Dep. Variable:                 salary   No. Observations:                26697\n",
              "Model:                          Logit   Df Residuals:                    26685\n",
              "Method:                           MLE   Df Model:                           11\n",
              "Date:                Tue, 20 Oct 2020   Pseudo R-squ.:                  0.2812\n",
              "Time:                        10:03:19   Log-Likelihood:                -11058.\n",
              "converged:                       True   LL-Null:                       -15385.\n",
              "Covariance Type:            nonrobust   LLR p-value:                     0.000\n",
              "=============================================================================================\n",
              "                                coef    std err          z      P>|z|      [0.025      0.975]\n",
              "---------------------------------------------------------------------------------------------\n",
              "Intercept                    -8.4738      0.142    -59.616      0.000      -8.752      -8.195\n",
              "age                           0.0285      0.001     20.352      0.000       0.026       0.031\n",
              "education                     0.2561      0.008     33.473      0.000       0.241       0.271\n",
              "working_hours_per_week        0.0321      0.001     22.749      0.000       0.029       0.035\n",
              "workclass_Others             -0.0352      0.060     -0.586      0.558      -0.153       0.083\n",
              "workclass_Private             0.0870      0.047      1.841      0.066      -0.006       0.180\n",
              "marritalstatus_Married        2.0895      0.042     49.888      0.000       2.007       2.172\n",
              "occupation_Sales              0.4917      0.059      8.289      0.000       0.375       0.608\n",
              "occupation_Service            0.7207      0.048     14.896      0.000       0.626       0.816\n",
              "occupation_Unknown_Others    -0.1461      0.104     -1.404      0.160      -0.350       0.058\n",
              "occupation_WhiteCollar        0.8179      0.049     16.684      0.000       0.722       0.914\n",
              "sex_Male                      0.3943      0.045      8.744      0.000       0.306       0.483\n",
              "=============================================================================================\n",
              "\"\"\""
            ]
          },
          "metadata": {
            "tags": []
          },
          "execution_count": 272
        }
      ]
    },
    {
      "cell_type": "markdown",
      "metadata": {
        "id": "JQeD31xX66Oh"
      },
      "source": [
        "### Check for multicollinearity in the predictor variables using VIF."
      ]
    },
    {
      "cell_type": "code",
      "metadata": {
        "id": "uYX_svyU66Oi"
      },
      "source": [
        "def vif_cal(input_data):\n",
        "    x_vars=input_data\n",
        "    xvar_names=input_data.columns\n",
        "    for i in range(0,xvar_names.shape[0]):\n",
        "        y=x_vars[xvar_names[i]] \n",
        "        x=x_vars[xvar_names.drop(xvar_names[i])]\n",
        "        rsq=sm.ols(formula=\"y~x\", data=x_vars).fit().rsquared  \n",
        "        vif=round(1/(1-rsq),2)\n",
        "        print (xvar_names[i], \" VIF = \" , vif)"
      ],
      "execution_count": null,
      "outputs": []
    },
    {
      "cell_type": "code",
      "metadata": {
        "id": "A1Ywh2qP66On",
        "outputId": "30aa9b1e-fdef-4d67-97d9-19b667e1874d"
      },
      "source": [
        "vif_cal(input_data=adult_data_dummy.drop('salary',axis=1))"
      ],
      "execution_count": null,
      "outputs": [
        {
          "output_type": "stream",
          "text": [
            "age  VIF =  1.12\n",
            "education  VIF =  1.16\n",
            "working_hours_per_week  VIF =  1.12\n",
            "workclass_Others  VIF =  2.32\n",
            "workclass_Private  VIF =  1.96\n",
            "marritalstatus_Married  VIF =  1.31\n",
            "occupation_Sales  VIF =  1.31\n",
            "occupation_Service  VIF =  1.69\n",
            "occupation_Unknown_Others  VIF =  1.58\n",
            "occupation_WhiteCollar  VIF =  1.65\n",
            "sex_Male  VIF =  1.34\n"
          ],
          "name": "stdout"
        }
      ]
    },
    {
      "cell_type": "markdown",
      "metadata": {
        "id": "WuJhgK3K66Ot"
      },
      "source": [
        "# Q2. Model 2 - Drop the variable which has the highest VIF value. Build a second iteration of the model on the full data. Check the VIF values of the predictor variables. - 1 point"
      ]
    },
    {
      "cell_type": "code",
      "metadata": {
        "id": "_WgiZZTF66Ou"
      },
      "source": [
        "formula_2='salary~ age + education + working_hours_per_week + workclass_Private + marritalstatus_Married + occupation_Sales + occupation_Service + occupation_Unknown_Others + occupation_WhiteCollar + sex_Male'"
      ],
      "execution_count": null,
      "outputs": []
    },
    {
      "cell_type": "code",
      "metadata": {
        "id": "SzY9RH7r66Ox",
        "outputId": "eda9f9e8-51c2-4e3a-9f64-08927c5991d2"
      },
      "source": [
        "Logistic_2 = sm.logit(formula=formula_2,data=adult_data_dummy).fit()"
      ],
      "execution_count": null,
      "outputs": [
        {
          "output_type": "stream",
          "text": [
            "Optimization terminated successfully.\n",
            "         Current function value: 0.414219\n",
            "         Iterations 7\n"
          ],
          "name": "stdout"
        }
      ]
    },
    {
      "cell_type": "code",
      "metadata": {
        "id": "LbEFX4MC66O2",
        "outputId": "7963f3ba-3aa9-4ee4-c5ba-a68394c09974"
      },
      "source": [
        "Logistic_2.summary()"
      ],
      "execution_count": null,
      "outputs": [
        {
          "output_type": "execute_result",
          "data": {
            "text/html": [
              "<table class=\"simpletable\">\n",
              "<caption>Logit Regression Results</caption>\n",
              "<tr>\n",
              "  <th>Dep. Variable:</th>        <td>salary</td>      <th>  No. Observations:  </th>  <td> 26697</td> \n",
              "</tr>\n",
              "<tr>\n",
              "  <th>Model:</th>                 <td>Logit</td>      <th>  Df Residuals:      </th>  <td> 26686</td> \n",
              "</tr>\n",
              "<tr>\n",
              "  <th>Method:</th>                 <td>MLE</td>       <th>  Df Model:          </th>  <td>    10</td> \n",
              "</tr>\n",
              "<tr>\n",
              "  <th>Date:</th>            <td>Tue, 20 Oct 2020</td> <th>  Pseudo R-squ.:     </th>  <td>0.2812</td> \n",
              "</tr>\n",
              "<tr>\n",
              "  <th>Time:</th>                <td>10:03:20</td>     <th>  Log-Likelihood:    </th> <td> -11058.</td>\n",
              "</tr>\n",
              "<tr>\n",
              "  <th>converged:</th>             <td>True</td>       <th>  LL-Null:           </th> <td> -15385.</td>\n",
              "</tr>\n",
              "<tr>\n",
              "  <th>Covariance Type:</th>     <td>nonrobust</td>    <th>  LLR p-value:       </th>  <td> 0.000</td> \n",
              "</tr>\n",
              "</table>\n",
              "<table class=\"simpletable\">\n",
              "<tr>\n",
              "              <td></td>                 <th>coef</th>     <th>std err</th>      <th>z</th>      <th>P>|z|</th>  <th>[0.025</th>    <th>0.975]</th>  \n",
              "</tr>\n",
              "<tr>\n",
              "  <th>Intercept</th>                 <td>   -8.4877</td> <td>    0.140</td> <td>  -60.544</td> <td> 0.000</td> <td>   -8.762</td> <td>   -8.213</td>\n",
              "</tr>\n",
              "<tr>\n",
              "  <th>age</th>                       <td>    0.0284</td> <td>    0.001</td> <td>   20.370</td> <td> 0.000</td> <td>    0.026</td> <td>    0.031</td>\n",
              "</tr>\n",
              "<tr>\n",
              "  <th>education</th>                 <td>    0.2563</td> <td>    0.008</td> <td>   33.567</td> <td> 0.000</td> <td>    0.241</td> <td>    0.271</td>\n",
              "</tr>\n",
              "<tr>\n",
              "  <th>working_hours_per_week</th>    <td>    0.0320</td> <td>    0.001</td> <td>   22.828</td> <td> 0.000</td> <td>    0.029</td> <td>    0.035</td>\n",
              "</tr>\n",
              "<tr>\n",
              "  <th>workclass_Private</th>         <td>    0.1045</td> <td>    0.037</td> <td>    2.853</td> <td> 0.004</td> <td>    0.033</td> <td>    0.176</td>\n",
              "</tr>\n",
              "<tr>\n",
              "  <th>marritalstatus_Married</th>    <td>    2.0886</td> <td>    0.042</td> <td>   49.902</td> <td> 0.000</td> <td>    2.007</td> <td>    2.171</td>\n",
              "</tr>\n",
              "<tr>\n",
              "  <th>occupation_Sales</th>          <td>    0.4886</td> <td>    0.059</td> <td>    8.269</td> <td> 0.000</td> <td>    0.373</td> <td>    0.604</td>\n",
              "</tr>\n",
              "<tr>\n",
              "  <th>occupation_Service</th>        <td>    0.7249</td> <td>    0.048</td> <td>   15.154</td> <td> 0.000</td> <td>    0.631</td> <td>    0.819</td>\n",
              "</tr>\n",
              "<tr>\n",
              "  <th>occupation_Unknown_Others</th> <td>   -0.1622</td> <td>    0.100</td> <td>   -1.616</td> <td> 0.106</td> <td>   -0.359</td> <td>    0.035</td>\n",
              "</tr>\n",
              "<tr>\n",
              "  <th>occupation_WhiteCollar</th>    <td>    0.8198</td> <td>    0.049</td> <td>   16.756</td> <td> 0.000</td> <td>    0.724</td> <td>    0.916</td>\n",
              "</tr>\n",
              "<tr>\n",
              "  <th>sex_Male</th>                  <td>    0.3934</td> <td>    0.045</td> <td>    8.730</td> <td> 0.000</td> <td>    0.305</td> <td>    0.482</td>\n",
              "</tr>\n",
              "</table>"
            ],
            "text/plain": [
              "<class 'statsmodels.iolib.summary.Summary'>\n",
              "\"\"\"\n",
              "                           Logit Regression Results                           \n",
              "==============================================================================\n",
              "Dep. Variable:                 salary   No. Observations:                26697\n",
              "Model:                          Logit   Df Residuals:                    26686\n",
              "Method:                           MLE   Df Model:                           10\n",
              "Date:                Tue, 20 Oct 2020   Pseudo R-squ.:                  0.2812\n",
              "Time:                        10:03:20   Log-Likelihood:                -11058.\n",
              "converged:                       True   LL-Null:                       -15385.\n",
              "Covariance Type:            nonrobust   LLR p-value:                     0.000\n",
              "=============================================================================================\n",
              "                                coef    std err          z      P>|z|      [0.025      0.975]\n",
              "---------------------------------------------------------------------------------------------\n",
              "Intercept                    -8.4877      0.140    -60.544      0.000      -8.762      -8.213\n",
              "age                           0.0284      0.001     20.370      0.000       0.026       0.031\n",
              "education                     0.2563      0.008     33.567      0.000       0.241       0.271\n",
              "working_hours_per_week        0.0320      0.001     22.828      0.000       0.029       0.035\n",
              "workclass_Private             0.1045      0.037      2.853      0.004       0.033       0.176\n",
              "marritalstatus_Married        2.0886      0.042     49.902      0.000       2.007       2.171\n",
              "occupation_Sales              0.4886      0.059      8.269      0.000       0.373       0.604\n",
              "occupation_Service            0.7249      0.048     15.154      0.000       0.631       0.819\n",
              "occupation_Unknown_Others    -0.1622      0.100     -1.616      0.106      -0.359       0.035\n",
              "occupation_WhiteCollar        0.8198      0.049     16.756      0.000       0.724       0.916\n",
              "sex_Male                      0.3934      0.045      8.730      0.000       0.305       0.482\n",
              "=============================================================================================\n",
              "\"\"\""
            ]
          },
          "metadata": {
            "tags": []
          },
          "execution_count": 277
        }
      ]
    },
    {
      "cell_type": "code",
      "metadata": {
        "id": "nwuCRelN66O7",
        "outputId": "73b31bdb-195b-4d6d-8c52-d9dad1b293a7"
      },
      "source": [
        "vif_cal(input_data=adult_data_dummy.drop(['salary','workclass_Others'],axis=1))"
      ],
      "execution_count": null,
      "outputs": [
        {
          "output_type": "stream",
          "text": [
            "age  VIF =  1.11\n",
            "education  VIF =  1.16\n",
            "working_hours_per_week  VIF =  1.12\n",
            "workclass_Private  VIF =  1.21\n",
            "marritalstatus_Married  VIF =  1.31\n",
            "occupation_Sales  VIF =  1.3\n",
            "occupation_Service  VIF =  1.66\n",
            "occupation_Unknown_Others  VIF =  1.38\n",
            "occupation_WhiteCollar  VIF =  1.64\n",
            "sex_Male  VIF =  1.33\n"
          ],
          "name": "stdout"
        }
      ]
    },
    {
      "cell_type": "markdown",
      "metadata": {
        "id": "rri6rBL366PA"
      },
      "source": [
        "# Q3. Model 3 - Drop the variable which has the highest p-value (least significant variable) in the second iteration of the model. Build a third iteration of the model. Check the VIF values of the predictor variables. - 1 point"
      ]
    },
    {
      "cell_type": "code",
      "metadata": {
        "id": "c4MD6tlq66PA"
      },
      "source": [
        "formula_3='salary~ age + education + working_hours_per_week + workclass_Private + marritalstatus_Married + occupation_Sales + occupation_Service + occupation_WhiteCollar + sex_Male'"
      ],
      "execution_count": null,
      "outputs": []
    },
    {
      "cell_type": "code",
      "metadata": {
        "id": "rSSC4oJ366PE",
        "outputId": "0a490add-e0a7-41ff-be4a-8c7ce3f0717e"
      },
      "source": [
        "Logistic_3 = sm.logit(formula=formula_3,data=adult_data_dummy).fit()"
      ],
      "execution_count": null,
      "outputs": [
        {
          "output_type": "stream",
          "text": [
            "Optimization terminated successfully.\n",
            "         Current function value: 0.414268\n",
            "         Iterations 7\n"
          ],
          "name": "stdout"
        }
      ]
    },
    {
      "cell_type": "code",
      "metadata": {
        "id": "Gql-VC1l66PJ",
        "outputId": "dc827438-26b4-4da0-ba78-9bc77de73bcd"
      },
      "source": [
        "Logistic_3.summary()"
      ],
      "execution_count": null,
      "outputs": [
        {
          "output_type": "execute_result",
          "data": {
            "text/html": [
              "<table class=\"simpletable\">\n",
              "<caption>Logit Regression Results</caption>\n",
              "<tr>\n",
              "  <th>Dep. Variable:</th>        <td>salary</td>      <th>  No. Observations:  </th>  <td> 26697</td> \n",
              "</tr>\n",
              "<tr>\n",
              "  <th>Model:</th>                 <td>Logit</td>      <th>  Df Residuals:      </th>  <td> 26687</td> \n",
              "</tr>\n",
              "<tr>\n",
              "  <th>Method:</th>                 <td>MLE</td>       <th>  Df Model:          </th>  <td>     9</td> \n",
              "</tr>\n",
              "<tr>\n",
              "  <th>Date:</th>            <td>Tue, 20 Oct 2020</td> <th>  Pseudo R-squ.:     </th>  <td>0.2811</td> \n",
              "</tr>\n",
              "<tr>\n",
              "  <th>Time:</th>                <td>10:03:21</td>     <th>  Log-Likelihood:    </th> <td> -11060.</td>\n",
              "</tr>\n",
              "<tr>\n",
              "  <th>converged:</th>             <td>True</td>       <th>  LL-Null:           </th> <td> -15385.</td>\n",
              "</tr>\n",
              "<tr>\n",
              "  <th>Covariance Type:</th>     <td>nonrobust</td>    <th>  LLR p-value:       </th>  <td> 0.000</td> \n",
              "</tr>\n",
              "</table>\n",
              "<table class=\"simpletable\">\n",
              "<tr>\n",
              "             <td></td>               <th>coef</th>     <th>std err</th>      <th>z</th>      <th>P>|z|</th>  <th>[0.025</th>    <th>0.975]</th>  \n",
              "</tr>\n",
              "<tr>\n",
              "  <th>Intercept</th>              <td>   -8.5208</td> <td>    0.139</td> <td>  -61.432</td> <td> 0.000</td> <td>   -8.793</td> <td>   -8.249</td>\n",
              "</tr>\n",
              "<tr>\n",
              "  <th>age</th>                    <td>    0.0282</td> <td>    0.001</td> <td>   20.332</td> <td> 0.000</td> <td>    0.025</td> <td>    0.031</td>\n",
              "</tr>\n",
              "<tr>\n",
              "  <th>education</th>              <td>    0.2557</td> <td>    0.008</td> <td>   33.550</td> <td> 0.000</td> <td>    0.241</td> <td>    0.271</td>\n",
              "</tr>\n",
              "<tr>\n",
              "  <th>working_hours_per_week</th> <td>    0.0323</td> <td>    0.001</td> <td>   23.327</td> <td> 0.000</td> <td>    0.030</td> <td>    0.035</td>\n",
              "</tr>\n",
              "<tr>\n",
              "  <th>workclass_Private</th>      <td>    0.1193</td> <td>    0.035</td> <td>    3.363</td> <td> 0.001</td> <td>    0.050</td> <td>    0.189</td>\n",
              "</tr>\n",
              "<tr>\n",
              "  <th>marritalstatus_Married</th> <td>    2.0898</td> <td>    0.042</td> <td>   49.951</td> <td> 0.000</td> <td>    2.008</td> <td>    2.172</td>\n",
              "</tr>\n",
              "<tr>\n",
              "  <th>occupation_Sales</th>       <td>    0.5078</td> <td>    0.058</td> <td>    8.766</td> <td> 0.000</td> <td>    0.394</td> <td>    0.621</td>\n",
              "</tr>\n",
              "<tr>\n",
              "  <th>occupation_Service</th>     <td>    0.7480</td> <td>    0.046</td> <td>   16.360</td> <td> 0.000</td> <td>    0.658</td> <td>    0.838</td>\n",
              "</tr>\n",
              "<tr>\n",
              "  <th>occupation_WhiteCollar</th> <td>    0.8421</td> <td>    0.047</td> <td>   17.918</td> <td> 0.000</td> <td>    0.750</td> <td>    0.934</td>\n",
              "</tr>\n",
              "<tr>\n",
              "  <th>sex_Male</th>               <td>    0.3990</td> <td>    0.045</td> <td>    8.891</td> <td> 0.000</td> <td>    0.311</td> <td>    0.487</td>\n",
              "</tr>\n",
              "</table>"
            ],
            "text/plain": [
              "<class 'statsmodels.iolib.summary.Summary'>\n",
              "\"\"\"\n",
              "                           Logit Regression Results                           \n",
              "==============================================================================\n",
              "Dep. Variable:                 salary   No. Observations:                26697\n",
              "Model:                          Logit   Df Residuals:                    26687\n",
              "Method:                           MLE   Df Model:                            9\n",
              "Date:                Tue, 20 Oct 2020   Pseudo R-squ.:                  0.2811\n",
              "Time:                        10:03:21   Log-Likelihood:                -11060.\n",
              "converged:                       True   LL-Null:                       -15385.\n",
              "Covariance Type:            nonrobust   LLR p-value:                     0.000\n",
              "==========================================================================================\n",
              "                             coef    std err          z      P>|z|      [0.025      0.975]\n",
              "------------------------------------------------------------------------------------------\n",
              "Intercept                 -8.5208      0.139    -61.432      0.000      -8.793      -8.249\n",
              "age                        0.0282      0.001     20.332      0.000       0.025       0.031\n",
              "education                  0.2557      0.008     33.550      0.000       0.241       0.271\n",
              "working_hours_per_week     0.0323      0.001     23.327      0.000       0.030       0.035\n",
              "workclass_Private          0.1193      0.035      3.363      0.001       0.050       0.189\n",
              "marritalstatus_Married     2.0898      0.042     49.951      0.000       2.008       2.172\n",
              "occupation_Sales           0.5078      0.058      8.766      0.000       0.394       0.621\n",
              "occupation_Service         0.7480      0.046     16.360      0.000       0.658       0.838\n",
              "occupation_WhiteCollar     0.8421      0.047     17.918      0.000       0.750       0.934\n",
              "sex_Male                   0.3990      0.045      8.891      0.000       0.311       0.487\n",
              "==========================================================================================\n",
              "\"\"\""
            ]
          },
          "metadata": {
            "tags": []
          },
          "execution_count": 281
        }
      ]
    },
    {
      "cell_type": "code",
      "metadata": {
        "id": "4ur-Cu__66PO",
        "outputId": "deecb68c-8182-4d12-f9bf-e97ea732bce4"
      },
      "source": [
        "vif_cal(input_data=adult_data_dummy.drop(['salary','workclass_Others','occupation_Unknown_Others'],axis=1))"
      ],
      "execution_count": null,
      "outputs": [
        {
          "output_type": "stream",
          "text": [
            "age  VIF =  1.11\n",
            "education  VIF =  1.16\n",
            "working_hours_per_week  VIF =  1.08\n",
            "workclass_Private  VIF =  1.06\n",
            "marritalstatus_Married  VIF =  1.31\n",
            "occupation_Sales  VIF =  1.24\n",
            "occupation_Service  VIF =  1.47\n",
            "occupation_WhiteCollar  VIF =  1.49\n",
            "sex_Male  VIF =  1.31\n"
          ],
          "name": "stdout"
        }
      ]
    },
    {
      "cell_type": "markdown",
      "metadata": {
        "id": "Srey6VCC66PT"
      },
      "source": [
        "# Q4. Split the data into training (70%) and test (30%) in such a way that the uniformity in the training as well as test is maintained every time the code is run. Check the whether the proportion of the different classes within the target variable is same across train and test. - 0.5 point"
      ]
    },
    {
      "cell_type": "markdown",
      "metadata": {
        "id": "WuUvXsvP66PT"
      },
      "source": [
        "### Split the data into training (70%) and test (30%) with similar proportion of the target variable."
      ]
    },
    {
      "cell_type": "code",
      "metadata": {
        "id": "jQCITZoU66PU"
      },
      "source": [
        "from sklearn.model_selection import train_test_split"
      ],
      "execution_count": null,
      "outputs": []
    },
    {
      "cell_type": "code",
      "metadata": {
        "id": "d6l00m_666Pc"
      },
      "source": [
        "Train,Test = train_test_split(adult_data_dummy,test_size=0.3,stratify=adult_data_dummy['salary'])"
      ],
      "execution_count": null,
      "outputs": []
    },
    {
      "cell_type": "code",
      "metadata": {
        "id": "jLvOoivl66Ph",
        "outputId": "81df14fa-2789-48a6-c2e8-94d860f65cc6"
      },
      "source": [
        "Train.head()"
      ],
      "execution_count": null,
      "outputs": [
        {
          "output_type": "execute_result",
          "data": {
            "text/html": [
              "<div>\n",
              "<style scoped>\n",
              "    .dataframe tbody tr th:only-of-type {\n",
              "        vertical-align: middle;\n",
              "    }\n",
              "\n",
              "    .dataframe tbody tr th {\n",
              "        vertical-align: top;\n",
              "    }\n",
              "\n",
              "    .dataframe thead th {\n",
              "        text-align: right;\n",
              "    }\n",
              "</style>\n",
              "<table border=\"1\" class=\"dataframe\">\n",
              "  <thead>\n",
              "    <tr style=\"text-align: right;\">\n",
              "      <th></th>\n",
              "      <th>age</th>\n",
              "      <th>education</th>\n",
              "      <th>working_hours_per_week</th>\n",
              "      <th>salary</th>\n",
              "      <th>workclass_Others</th>\n",
              "      <th>workclass_Private</th>\n",
              "      <th>marritalstatus_Married</th>\n",
              "      <th>occupation_Sales</th>\n",
              "      <th>occupation_Service</th>\n",
              "      <th>occupation_Unknown_Others</th>\n",
              "      <th>occupation_WhiteCollar</th>\n",
              "      <th>sex_Male</th>\n",
              "    </tr>\n",
              "  </thead>\n",
              "  <tbody>\n",
              "    <tr>\n",
              "      <td>9771</td>\n",
              "      <td>24</td>\n",
              "      <td>12</td>\n",
              "      <td>40</td>\n",
              "      <td>0</td>\n",
              "      <td>0</td>\n",
              "      <td>1</td>\n",
              "      <td>1</td>\n",
              "      <td>0</td>\n",
              "      <td>0</td>\n",
              "      <td>0</td>\n",
              "      <td>0</td>\n",
              "      <td>1</td>\n",
              "    </tr>\n",
              "    <tr>\n",
              "      <td>11080</td>\n",
              "      <td>49</td>\n",
              "      <td>13</td>\n",
              "      <td>50</td>\n",
              "      <td>1</td>\n",
              "      <td>0</td>\n",
              "      <td>1</td>\n",
              "      <td>1</td>\n",
              "      <td>0</td>\n",
              "      <td>0</td>\n",
              "      <td>0</td>\n",
              "      <td>1</td>\n",
              "      <td>1</td>\n",
              "    </tr>\n",
              "    <tr>\n",
              "      <td>8616</td>\n",
              "      <td>23</td>\n",
              "      <td>13</td>\n",
              "      <td>15</td>\n",
              "      <td>0</td>\n",
              "      <td>0</td>\n",
              "      <td>1</td>\n",
              "      <td>0</td>\n",
              "      <td>1</td>\n",
              "      <td>0</td>\n",
              "      <td>0</td>\n",
              "      <td>0</td>\n",
              "      <td>1</td>\n",
              "    </tr>\n",
              "    <tr>\n",
              "      <td>16004</td>\n",
              "      <td>64</td>\n",
              "      <td>9</td>\n",
              "      <td>40</td>\n",
              "      <td>1</td>\n",
              "      <td>1</td>\n",
              "      <td>0</td>\n",
              "      <td>0</td>\n",
              "      <td>0</td>\n",
              "      <td>0</td>\n",
              "      <td>1</td>\n",
              "      <td>0</td>\n",
              "      <td>1</td>\n",
              "    </tr>\n",
              "    <tr>\n",
              "      <td>9662</td>\n",
              "      <td>32</td>\n",
              "      <td>12</td>\n",
              "      <td>35</td>\n",
              "      <td>0</td>\n",
              "      <td>0</td>\n",
              "      <td>1</td>\n",
              "      <td>0</td>\n",
              "      <td>1</td>\n",
              "      <td>0</td>\n",
              "      <td>0</td>\n",
              "      <td>0</td>\n",
              "      <td>1</td>\n",
              "    </tr>\n",
              "  </tbody>\n",
              "</table>\n",
              "</div>"
            ],
            "text/plain": [
              "       age  education  working_hours_per_week  salary  workclass_Others  \\\n",
              "9771    24         12                      40       0                 0   \n",
              "11080   49         13                      50       1                 0   \n",
              "8616    23         13                      15       0                 0   \n",
              "16004   64          9                      40       1                 1   \n",
              "9662    32         12                      35       0                 0   \n",
              "\n",
              "       workclass_Private  marritalstatus_Married  occupation_Sales  \\\n",
              "9771                   1                       1                 0   \n",
              "11080                  1                       1                 0   \n",
              "8616                   1                       0                 1   \n",
              "16004                  0                       0                 0   \n",
              "9662                   1                       0                 1   \n",
              "\n",
              "       occupation_Service  occupation_Unknown_Others  occupation_WhiteCollar  \\\n",
              "9771                    0                          0                       0   \n",
              "11080                   0                          0                       1   \n",
              "8616                    0                          0                       0   \n",
              "16004                   0                          1                       0   \n",
              "9662                    0                          0                       0   \n",
              "\n",
              "       sex_Male  \n",
              "9771          1  \n",
              "11080         1  \n",
              "8616          1  \n",
              "16004         1  \n",
              "9662          1  "
            ]
          },
          "metadata": {
            "tags": []
          },
          "execution_count": 285
        }
      ]
    },
    {
      "cell_type": "markdown",
      "metadata": {
        "id": "w7d13x5V66Po"
      },
      "source": [
        "### Check the proportion of the target variable in both train and test data."
      ]
    },
    {
      "cell_type": "code",
      "metadata": {
        "id": "_ftimuUd66Pp",
        "outputId": "81e24c16-023f-4d92-e23f-8178a72db5d0"
      },
      "source": [
        "Train.shape"
      ],
      "execution_count": null,
      "outputs": [
        {
          "output_type": "execute_result",
          "data": {
            "text/plain": [
              "(18687, 12)"
            ]
          },
          "metadata": {
            "tags": []
          },
          "execution_count": 286
        }
      ]
    },
    {
      "cell_type": "code",
      "metadata": {
        "id": "h5NB9qP-66Pt",
        "outputId": "28abcea4-595d-4d4e-cbc7-01dfadc1eacb"
      },
      "source": [
        "Test.shape"
      ],
      "execution_count": null,
      "outputs": [
        {
          "output_type": "execute_result",
          "data": {
            "text/plain": [
              "(8010, 12)"
            ]
          },
          "metadata": {
            "tags": []
          },
          "execution_count": 287
        }
      ]
    },
    {
      "cell_type": "code",
      "metadata": {
        "id": "Hc4QWz1t66Pz",
        "outputId": "6794dbf1-55b4-4674-fc11-675bbb0ff1a6"
      },
      "source": [
        "Train['salary'].value_counts(1)"
      ],
      "execution_count": null,
      "outputs": [
        {
          "output_type": "execute_result",
          "data": {
            "text/plain": [
              "0    0.736876\n",
              "1    0.263124\n",
              "Name: salary, dtype: float64"
            ]
          },
          "metadata": {
            "tags": []
          },
          "execution_count": 288
        }
      ]
    },
    {
      "cell_type": "code",
      "metadata": {
        "id": "8CyVNh1T66P1",
        "outputId": "a8b47727-f6f6-495f-8223-e5b531de3970"
      },
      "source": [
        "Test['salary'].value_counts(1)"
      ],
      "execution_count": null,
      "outputs": [
        {
          "output_type": "execute_result",
          "data": {
            "text/plain": [
              "0    0.736954\n",
              "1    0.263046\n",
              "Name: salary, dtype: float64"
            ]
          },
          "metadata": {
            "tags": []
          },
          "execution_count": 289
        }
      ]
    },
    {
      "cell_type": "markdown",
      "metadata": {
        "id": "NouKskJd66P4"
      },
      "source": [
        "# Q5. Build the models 1,2 and 3 on the training data, check the accuracy score of each of the models on the training data and use those models to predict the classes and the corresponding probabilities on the test data. - 1.5 points (0.5 point for each  model building and prediction)"
      ]
    },
    {
      "cell_type": "markdown",
      "metadata": {
        "id": "zcRXhoeK66P5"
      },
      "source": [
        "### Model 1 - Building the model on the Training Data and checking the Accuracy score on the training data."
      ]
    },
    {
      "cell_type": "code",
      "metadata": {
        "id": "7NSsnTy066P6"
      },
      "source": [
        "from sklearn.linear_model import LogisticRegression"
      ],
      "execution_count": null,
      "outputs": []
    },
    {
      "cell_type": "code",
      "metadata": {
        "id": "wMK8TFLE66QA"
      },
      "source": [
        "LR = LogisticRegression(solver='newton-cg',penalty='none')"
      ],
      "execution_count": null,
      "outputs": []
    },
    {
      "cell_type": "code",
      "metadata": {
        "id": "ywLYACzW66QF"
      },
      "source": [
        "model_1 = LR.fit(Train[['age','education','working_hours_per_week',\n",
        "                        'workclass_Others','workclass_Private',\n",
        "                        'marritalstatus_Married','occupation_Sales',\n",
        "                        'occupation_Service','occupation_Unknown_Others',\n",
        "                        'occupation_WhiteCollar','sex_Male']],Train['salary'])"
      ],
      "execution_count": null,
      "outputs": []
    },
    {
      "cell_type": "code",
      "metadata": {
        "id": "c5HosakV66QK",
        "outputId": "57ea3408-713f-477d-dc09-55b2ff67924c"
      },
      "source": [
        "print('Accuracy Score of Model 1:',model_1.score(Train[['age','education','working_hours_per_week',\n",
        "                        'workclass_Others','workclass_Private',\n",
        "                        'marritalstatus_Married','occupation_Sales',\n",
        "                        'occupation_Service','occupation_Unknown_Others',\n",
        "                        'occupation_WhiteCollar','sex_Male']],Train['salary']))"
      ],
      "execution_count": null,
      "outputs": [
        {
          "output_type": "stream",
          "text": [
            "Accuracy Score of Model 1: 0.7979879060309306\n"
          ],
          "name": "stdout"
        }
      ]
    },
    {
      "cell_type": "markdown",
      "metadata": {
        "id": "lEJgGMl466QN"
      },
      "source": [
        "### Model 1 - Predicting the classes and the probabilities on the Test Data"
      ]
    },
    {
      "cell_type": "code",
      "metadata": {
        "id": "vNCIavKZ66QO"
      },
      "source": [
        "model_1_test_class = model_1.predict(Test[['age','education',\n",
        "                                           'working_hours_per_week',\n",
        "                                           'workclass_Others',\n",
        "                                           'workclass_Private',\n",
        "                                           'marritalstatus_Married',\n",
        "                                           'occupation_Sales',\n",
        "                                           'occupation_Service',\n",
        "                                           'occupation_Unknown_Others',\n",
        "                                           'occupation_WhiteCollar',\n",
        "                                           'sex_Male']])\n",
        "model_1_test_probabilities = model_1.predict_proba(Test[['age','education',\n",
        "                                           'working_hours_per_week',\n",
        "                                           'workclass_Others',\n",
        "                                           'workclass_Private',\n",
        "                                           'marritalstatus_Married',\n",
        "                                           'occupation_Sales',\n",
        "                                           'occupation_Service',\n",
        "                                           'occupation_Unknown_Others',\n",
        "                                           'occupation_WhiteCollar',\n",
        "                                           'sex_Male']])"
      ],
      "execution_count": null,
      "outputs": []
    },
    {
      "cell_type": "markdown",
      "metadata": {
        "id": "LBQJpgLC66QT"
      },
      "source": [
        "### Model 2 - Building the model on the Training Data and checking the Accuracy score on the training data."
      ]
    },
    {
      "cell_type": "code",
      "metadata": {
        "id": "vgCHlvBU66QT"
      },
      "source": [
        "model_2 = LR.fit(Train[['age','education','working_hours_per_week',\n",
        "                        'workclass_Private',\n",
        "                        'marritalstatus_Married','occupation_Sales',\n",
        "                        'occupation_Service','occupation_Unknown_Others',\n",
        "                        'occupation_WhiteCollar','sex_Male']],Train['salary'])"
      ],
      "execution_count": null,
      "outputs": []
    },
    {
      "cell_type": "code",
      "metadata": {
        "id": "nI55UpIY66QW",
        "outputId": "c4482a4b-ecc9-42ac-8854-c8d6a82cc939"
      },
      "source": [
        "print('Accuracy Score of Model 2:',model_1.score(Train[['age','education','working_hours_per_week',\n",
        "                        'workclass_Private',\n",
        "                        'marritalstatus_Married','occupation_Sales',\n",
        "                        'occupation_Service','occupation_Unknown_Others',\n",
        "                        'occupation_WhiteCollar','sex_Male']],Train['salary']))"
      ],
      "execution_count": null,
      "outputs": [
        {
          "output_type": "stream",
          "text": [
            "Accuracy Score of Model 2: 0.7973457483812276\n"
          ],
          "name": "stdout"
        }
      ]
    },
    {
      "cell_type": "markdown",
      "metadata": {
        "id": "yvGCu2XG66QZ"
      },
      "source": [
        "### Model 2 - Predicting the classes and the probabilities on the Test Data"
      ]
    },
    {
      "cell_type": "code",
      "metadata": {
        "id": "oLpHGCQB66QZ"
      },
      "source": [
        "model_2_test_class = model_2.predict(Test[['age','education',\n",
        "                                           'working_hours_per_week',\n",
        "                                           'workclass_Private',\n",
        "                                           'marritalstatus_Married',\n",
        "                                           'occupation_Sales',\n",
        "                                           'occupation_Service',\n",
        "                                           'occupation_Unknown_Others',\n",
        "                                           'occupation_WhiteCollar',\n",
        "                                           'sex_Male']])\n",
        "model_2_test_probabilities = model_2.predict_proba(Test[['age','education',\n",
        "                                           'working_hours_per_week',\n",
        "                                           'workclass_Private',\n",
        "                                           'marritalstatus_Married',\n",
        "                                           'occupation_Sales',\n",
        "                                           'occupation_Service',\n",
        "                                           'occupation_Unknown_Others',\n",
        "                                           'occupation_WhiteCollar',\n",
        "                                           'sex_Male']])"
      ],
      "execution_count": null,
      "outputs": []
    },
    {
      "cell_type": "markdown",
      "metadata": {
        "id": "8tdyjGyF66Qb"
      },
      "source": [
        "### Model 3 - Building the model on the Training Data and checking the Accuracy score on the training data."
      ]
    },
    {
      "cell_type": "code",
      "metadata": {
        "id": "HQLgNb_I66Qe"
      },
      "source": [
        "model_3 = LR.fit(Train[['age','education','working_hours_per_week',\n",
        "                        'workclass_Private',\n",
        "                        'marritalstatus_Married','occupation_Sales',\n",
        "                        'occupation_Service',\n",
        "                        'occupation_WhiteCollar','sex_Male']],Train['salary'])"
      ],
      "execution_count": null,
      "outputs": []
    },
    {
      "cell_type": "code",
      "metadata": {
        "id": "sFIwJJGB66Qg",
        "outputId": "a3ce5e38-482a-4a15-a7e4-7264d6b5a59d"
      },
      "source": [
        "print('Accuracy Score of Model 3:',model_1.score(Train[['age','education','working_hours_per_week',\n",
        "                        'workclass_Private',\n",
        "                        'marritalstatus_Married','occupation_Sales',\n",
        "                        'occupation_Service',\n",
        "                        'occupation_WhiteCollar','sex_Male']],Train['salary']))"
      ],
      "execution_count": null,
      "outputs": [
        {
          "output_type": "stream",
          "text": [
            "Accuracy Score of Model 3: 0.7975062877936533\n"
          ],
          "name": "stdout"
        }
      ]
    },
    {
      "cell_type": "markdown",
      "metadata": {
        "id": "G88uPFAf66Qj"
      },
      "source": [
        "### Model 3 - Predicting the classes and the probabilities on the Test Data"
      ]
    },
    {
      "cell_type": "code",
      "metadata": {
        "id": "LB98riKW66Qk"
      },
      "source": [
        "model_3_test_class = model_3.predict(Test[['age','education',\n",
        "                                           'working_hours_per_week',\n",
        "                                           'workclass_Private',\n",
        "                                           'marritalstatus_Married',\n",
        "                                           'occupation_Sales',\n",
        "                                           'occupation_Service',\n",
        "                                           'occupation_WhiteCollar',\n",
        "                                           'sex_Male']])\n",
        "model_3_test_probabilities = model_3.predict_proba(Test[['age','education',\n",
        "                                           'working_hours_per_week',\n",
        "                                           'workclass_Private',\n",
        "                                           'marritalstatus_Married',\n",
        "                                           'occupation_Sales',\n",
        "                                           'occupation_Service',\n",
        "                                           'occupation_WhiteCollar',\n",
        "                                           'sex_Male']])"
      ],
      "execution_count": null,
      "outputs": []
    },
    {
      "cell_type": "code",
      "metadata": {
        "id": "IFizuUZ966Qp"
      },
      "source": [
        ""
      ],
      "execution_count": null,
      "outputs": []
    },
    {
      "cell_type": "markdown",
      "metadata": {
        "id": "MDwmGuVR66Qs"
      },
      "source": [
        "# Q6. Evaluate the three models on the test data using the various statistics of the confusion matrix. - 1 point"
      ]
    },
    {
      "cell_type": "markdown",
      "metadata": {
        "id": "ZZtNVuCi66Qs"
      },
      "source": [
        "### Confusion Matrix summary statistics Evaluation on the Test Data"
      ]
    },
    {
      "cell_type": "code",
      "metadata": {
        "id": "cE-PqPxF66Qt"
      },
      "source": [
        "from sklearn import metrics"
      ],
      "execution_count": null,
      "outputs": []
    },
    {
      "cell_type": "code",
      "metadata": {
        "id": "Y57wrvwo66Qx"
      },
      "source": [
        "from pylab import rcParams\n",
        "rcParams['figure.figsize'] = 15,4"
      ],
      "execution_count": null,
      "outputs": []
    },
    {
      "cell_type": "code",
      "metadata": {
        "id": "uSC9ugvz66Qz",
        "outputId": "cdc04071-cec8-4d08-cb08-a2c7db59556e"
      },
      "source": [
        "f,a = plt.subplots(1,3,sharex=True,sharey=True,squeeze=False)\n",
        "\n",
        "#Plotting Confusion Matrix for the different models for the Training Data\n",
        "\n",
        "plot_0 = sns.heatmap((metrics.confusion_matrix(Test['salary'],model_1_test_class)),\n",
        "                     annot=True,fmt='.5g',cmap='Greys',ax=a[0][0]);\n",
        "a[0][0].set_title('Model_1')\n",
        "\n",
        "plot_1 = sns.heatmap((metrics.confusion_matrix(Test['salary'],model_2_test_class)),\n",
        "                     annot=True,fmt='.5g',cmap='Greys',ax=a[0][1]);\n",
        "a[0][1].set_title('Model_2');\n",
        "\n",
        "plot_1 = sns.heatmap((metrics.confusion_matrix(Test['salary'],model_3_test_class)),\n",
        "                     annot=True,fmt='.5g',cmap='Greys',ax=a[0][2]);\n",
        "a[0][2].set_title('Model_3');\n",
        "\n"
      ],
      "execution_count": null,
      "outputs": [
        {
          "output_type": "display_data",
          "data": {
            "image/png": "[encoded data removed]",
            "text/plain": [
              "<Figure size 1080x288 with 6 Axes>"
            ]
          },
          "metadata": {
            "tags": [],
            "needs_background": "light"
          }
        }
      ]
    },
    {
      "cell_type": "code",
      "metadata": {
        "id": "bbdK6sYD66Q1",
        "outputId": "d7b48382-7daf-49a1-93bb-bb9c804f3448"
      },
      "source": [
        "print('Model 1')\n",
        "tn, fp, fn, tp = metrics.confusion_matrix(Test['salary'],model_1_test_class).ravel()\n",
        "print('True Negative:',tn,'\\n''False Positives:' ,fp,'\\n''False Negatives:', fn,'\\n''True Positives:', tp, '\\n\\n')\n",
        "\n",
        "print('Model 2')\n",
        "tn, fp, fn, tp = metrics.confusion_matrix(Test['salary'],model_2_test_class).ravel()\n",
        "print('True Negative:',tn,'\\n''False Positives:' ,fp,'\\n''False Negatives:', fn,'\\n''True Positives:', tp, '\\n\\n')\n",
        "\n",
        "print('Model 3')\n",
        "tn, fp, fn, tp = metrics.confusion_matrix(Test['salary'],model_3_test_class).ravel()\n",
        "print('True Negative:',tn,'\\n''False Positives:' ,fp,'\\n''False Negatives:', fn,'\\n''True Positives:', tp, '\\n\\n')"
      ],
      "execution_count": null,
      "outputs": [
        {
          "output_type": "stream",
          "text": [
            "Model 1\n",
            "True Negative: 5251 \n",
            "False Positives: 652 \n",
            "False Negatives: 1008 \n",
            "True Positives: 1099 \n",
            "\n",
            "\n",
            "Model 2\n",
            "True Negative: 5251 \n",
            "False Positives: 652 \n",
            "False Negatives: 1005 \n",
            "True Positives: 1102 \n",
            "\n",
            "\n",
            "Model 3\n",
            "True Negative: 5251 \n",
            "False Positives: 652 \n",
            "False Negatives: 1003 \n",
            "True Positives: 1104 \n",
            "\n",
            "\n"
          ],
          "name": "stdout"
        }
      ]
    },
    {
      "cell_type": "code",
      "metadata": {
        "id": "TBA6V34k66Q4",
        "outputId": "0befb6b0-e01e-42b4-c689-99def4be7918"
      },
      "source": [
        "print('Model 1')\n",
        "print(metrics.classification_report(Test['salary'],model_1_test_class), '\\n')\n",
        "\n",
        "print('Model 2')\n",
        "print(metrics.classification_report(Test['salary'],model_2_test_class), '\\n')\n",
        "\n",
        "print('Model 3')\n",
        "print(metrics.classification_report(Test['salary'],model_3_test_class), '\\n')"
      ],
      "execution_count": null,
      "outputs": [
        {
          "output_type": "stream",
          "text": [
            "Model 1\n",
            "              precision    recall  f1-score   support\n",
            "\n",
            "           0       0.84      0.89      0.86      5903\n",
            "           1       0.63      0.52      0.57      2107\n",
            "\n",
            "    accuracy                           0.79      8010\n",
            "   macro avg       0.73      0.71      0.72      8010\n",
            "weighted avg       0.78      0.79      0.79      8010\n",
            " \n",
            "\n",
            "Model 2\n",
            "              precision    recall  f1-score   support\n",
            "\n",
            "           0       0.84      0.89      0.86      5903\n",
            "           1       0.63      0.52      0.57      2107\n",
            "\n",
            "    accuracy                           0.79      8010\n",
            "   macro avg       0.73      0.71      0.72      8010\n",
            "weighted avg       0.78      0.79      0.79      8010\n",
            " \n",
            "\n",
            "Model 3\n",
            "              precision    recall  f1-score   support\n",
            "\n",
            "           0       0.84      0.89      0.86      5903\n",
            "           1       0.63      0.52      0.57      2107\n",
            "\n",
            "    accuracy                           0.79      8010\n",
            "   macro avg       0.73      0.71      0.72      8010\n",
            "weighted avg       0.78      0.79      0.79      8010\n",
            " \n",
            "\n"
          ],
          "name": "stdout"
        }
      ]
    },
    {
      "cell_type": "markdown",
      "metadata": {
        "id": "RWO0aV8i66Q-"
      },
      "source": [
        "# Q7. Check the summary statistics of the AUC-ROC curve for all the three Logistic Regression Models built. This is for the test data. - 1 point\n",
        "\n",
        "#### Note: This question is part of the take-home assignment. This question will not be discussed in the laboratory session. Please do solve this question and submit your laboratory assignment in the link provided by your Program Manager."
      ]
    },
    {
      "cell_type": "code",
      "metadata": {
        "id": "rNTgcbuH66RA"
      },
      "source": [
        "from pylab import rcParams\n",
        "rcParams ['figure.figsize'] = 15,8"
      ],
      "execution_count": null,
      "outputs": []
    },
    {
      "cell_type": "code",
      "metadata": {
        "id": "6UaBF4SP66RE",
        "outputId": "da5f637e-8249-462c-cfae-94b662d7ab07"
      },
      "source": [
        "# AUC and ROC for the Model 1\n",
        "\n",
        "# calculating on the basis of a person not defaulting\n",
        "# calculate AUC\n",
        "auc = metrics.roc_auc_score(Test['salary'],model_1_test_probabilities[:, 1])\n",
        "# keeping only the probabilities for the desired class outcome\n",
        "print('Model 1 AUC: %.5f' % auc)\n",
        "# # calculate roc curve\n",
        "from sklearn.metrics import roc_curve\n",
        "fpr, tpr, thresholds = metrics.roc_curve(Test['salary'],model_1_test_probabilities[:, 1])\n",
        "# keeping only the probabilities for the desired class outcome\n",
        "plt.plot([0, 1], [0, 1], linestyle='--')\n",
        "# plot the roc curve for the model\n",
        "plt.plot(fpr, tpr, marker='.')\n",
        "# shw the plot\n",
        "plt.show()\n",
        "\n",
        "# AUC and ROC for the Model 2\n",
        "\n",
        "# calculating on the basis of a person not defaulting\n",
        "# calculate AUC\n",
        "auc = metrics.roc_auc_score(Test['salary'],model_2_test_probabilities[:, 1])\n",
        "# keeping only the probabilities for the desired class outcome\n",
        "print('Model 2 AUC: %.5f' % auc)\n",
        "# # calculate roc curve\n",
        "from sklearn.metrics import roc_curve\n",
        "fpr, tpr, thresholds = metrics.roc_curve(Test['salary'],model_2_test_probabilities[:, 1])\n",
        "# keeping only the probabilities for the desired class outcome\n",
        "plt.plot([0, 1], [0, 1], linestyle='--')\n",
        "# plot the roc curve for the model\n",
        "plt.plot(fpr, tpr, marker='.')\n",
        "# shw the plot\n",
        "plt.show()\n",
        "\n",
        "# AUC and ROC for the Model 3\n",
        "\n",
        "# calculating on the basis of a person not defaulting\n",
        "# calculate AUC\n",
        "auc = metrics.roc_auc_score(Test['salary'],model_3_test_probabilities[:, 1])\n",
        "# keeping only the probabilities for the desired class outcome\n",
        "print('Model 3 AUC: %.5f' % auc)\n",
        "# # calculate roc curve\n",
        "from sklearn.metrics import roc_curve\n",
        "fpr, tpr, thresholds = metrics.roc_curve(Test['salary'],model_3_test_probabilities[:, 1])\n",
        "# keeping only the probabilities for the desired class outcome\n",
        "plt.plot([0, 1], [0, 1], linestyle='--')\n",
        "# plot the roc curve for the model\n",
        "plt.plot(fpr, tpr, marker='.')\n",
        "# shw the plot\n",
        "plt.show()"
      ],
      "execution_count": null,
      "outputs": [
        {
          "output_type": "stream",
          "text": [
            "Model 1 AUC: 0.84508\n"
          ],
          "name": "stdout"
        },
        {
          "output_type": "display_data",
          "data": {
            "image/png": "[encoded data removed]",
            "text/plain": [
              "<Figure size 1080x576 with 1 Axes>"
            ]
          },
          "metadata": {
            "tags": [],
            "needs_background": "light"
          }
        },
        {
          "output_type": "stream",
          "text": [
            "Model 2 AUC: 0.84509\n"
          ],
          "name": "stdout"
        },
        {
          "output_type": "display_data",
          "data": {
            "image/png": "[encoded data removed]",
            "text/plain": [
              "<Figure size 1080x576 with 1 Axes>"
            ]
          },
          "metadata": {
            "tags": [],
            "needs_background": "light"
          }
        },
        {
          "output_type": "stream",
          "text": [
            "Model 3 AUC: 0.84510\n"
          ],
          "name": "stdout"
        },
        {
          "output_type": "display_data",
          "data": {
            "image/png": "[encoded data removed]",
            "text/plain": [
              "<Figure size 1080x576 with 1 Axes>"
            ]
          },
          "metadata": {
            "tags": [],
            "needs_background": "light"
          }
        }
      ]
    },
    {
      "cell_type": "markdown",
      "metadata": {
        "id": "h_379rr_66RH"
      },
      "source": [
        "# Build three Linear Discriminant Analysis models [using the variables used in the three different models of Logistic Regression] on the training data, check their accuracy scores on the training data and use those models to predict the classes and the corresponding probabilities on the test data. - 1.5 points (0.5 point for each  model building and prediction)"
      ]
    },
    {
      "cell_type": "markdown",
      "metadata": {
        "id": "FP9-G-1g66RH"
      },
      "source": [
        "### Model 1 - Building the LDA model on the Training Data and checking the Accuracy score on the training data."
      ]
    },
    {
      "cell_type": "code",
      "metadata": {
        "id": "f5iLKCES66RI"
      },
      "source": [
        "from sklearn.discriminant_analysis import LinearDiscriminantAnalysis"
      ],
      "execution_count": null,
      "outputs": []
    },
    {
      "cell_type": "code",
      "metadata": {
        "id": "KV49RXPJ66RK"
      },
      "source": [
        "LDA = LinearDiscriminantAnalysis()"
      ],
      "execution_count": null,
      "outputs": []
    },
    {
      "cell_type": "code",
      "metadata": {
        "id": "CCubmgcw66RS"
      },
      "source": [
        "model_1_LDA = LDA.fit(Train[['age','education','working_hours_per_week',\n",
        "                        'workclass_Others','workclass_Private',\n",
        "                        'marritalstatus_Married','occupation_Sales',\n",
        "                        'occupation_Service','occupation_Unknown_Others',\n",
        "                        'occupation_WhiteCollar','sex_Male']],Train['salary'])\n"
      ],
      "execution_count": null,
      "outputs": []
    },
    {
      "cell_type": "code",
      "metadata": {
        "id": "rgT6zbaR66RU",
        "outputId": "35351646-ea09-4bb9-e155-f4c4460df0ae"
      },
      "source": [
        "print('Accuracy Score of LDA Model 1:',model_1_LDA.score(Train[['age','education','working_hours_per_week',\n",
        "                        'workclass_Others','workclass_Private',\n",
        "                        'marritalstatus_Married','occupation_Sales',\n",
        "                        'occupation_Service','occupation_Unknown_Others',\n",
        "                        'occupation_WhiteCollar','sex_Male']],Train['salary']))"
      ],
      "execution_count": null,
      "outputs": [
        {
          "output_type": "stream",
          "text": [
            "Accuracy Score of LDA Model 1: 0.7970246695563761\n"
          ],
          "name": "stdout"
        }
      ]
    },
    {
      "cell_type": "markdown",
      "metadata": {
        "id": "vUXcY6Hr66RW"
      },
      "source": [
        "### Model 1 - Predicting the classes and the probabilities on the Test Data for the LDA model"
      ]
    },
    {
      "cell_type": "code",
      "metadata": {
        "id": "D83Z5d8n66RW"
      },
      "source": [
        "model_1_LDA_test_class = model_1_LDA.predict(Test[['age','education',\n",
        "                                                   'working_hours_per_week',\n",
        "                                                   'workclass_Others',\n",
        "                                                   'workclass_Private',\n",
        "                                                   'marritalstatus_Married',\n",
        "                                                   'occupation_Sales',\n",
        "                                                   'occupation_Service',\n",
        "                                                   'occupation_Unknown_Others',\n",
        "                                                   'occupation_WhiteCollar',\n",
        "                                                   'sex_Male']])\n",
        "\n",
        "\n",
        "model_1_LDA_test_probabilities = model_1_LDA.predict_proba(Test[['age','education',\n",
        "                                                   'working_hours_per_week',\n",
        "                                                   'workclass_Others',\n",
        "                                                   'workclass_Private',\n",
        "                                                   'marritalstatus_Married',\n",
        "                                                   'occupation_Sales',\n",
        "                                                   'occupation_Service',\n",
        "                                                   'occupation_Unknown_Others',\n",
        "                                                   'occupation_WhiteCollar',\n",
        "                                                   'sex_Male']])"
      ],
      "execution_count": null,
      "outputs": []
    },
    {
      "cell_type": "markdown",
      "metadata": {
        "id": "lLKe5Wlh66RZ"
      },
      "source": [
        "### Model 2 - Building the LDA model on the Training Data and checking the Accuracy score on the training data."
      ]
    },
    {
      "cell_type": "code",
      "metadata": {
        "id": "_jEfEdJJ66RZ"
      },
      "source": [
        "model_2_LDA = LDA.fit(Train[['age','education','working_hours_per_week',\n",
        "                        'workclass_Private',\n",
        "                        'marritalstatus_Married','occupation_Sales',\n",
        "                        'occupation_Service','occupation_Unknown_Others',\n",
        "                        'occupation_WhiteCollar','sex_Male']],Train['salary'])"
      ],
      "execution_count": null,
      "outputs": []
    },
    {
      "cell_type": "code",
      "metadata": {
        "id": "cDPOUQti66Rb",
        "outputId": "de1dbfae-6be5-49d0-9304-a604a6b21263"
      },
      "source": [
        "print('Accuracy Score of LDA Model 2:',model_2_LDA.score(Train[['age','education','working_hours_per_week',\n",
        "                        'workclass_Private',\n",
        "                        'marritalstatus_Married','occupation_Sales',\n",
        "                        'occupation_Service','occupation_Unknown_Others',\n",
        "                        'occupation_WhiteCollar','sex_Male']],Train['salary']))"
      ],
      "execution_count": null,
      "outputs": [
        {
          "output_type": "stream",
          "text": [
            "Accuracy Score of LDA Model 2: 0.7973457483812276\n"
          ],
          "name": "stdout"
        }
      ]
    },
    {
      "cell_type": "markdown",
      "metadata": {
        "id": "iuy9GUQX66Rd"
      },
      "source": [
        "### Model 2 - Predicting the classes and the probabilities on the Test Data for the LDA model"
      ]
    },
    {
      "cell_type": "code",
      "metadata": {
        "id": "AqMMm5TE66Re"
      },
      "source": [
        "model_2_LDA_test_class = model_2_LDA.predict(Test[['age','education',\n",
        "                                                   'working_hours_per_week',\n",
        "                                                   'workclass_Private',\n",
        "                                                   'marritalstatus_Married',\n",
        "                                                   'occupation_Sales',\n",
        "                                                   'occupation_Service',\n",
        "                                                   'occupation_Unknown_Others',\n",
        "                                                   'occupation_WhiteCollar',\n",
        "                                                   'sex_Male']])\n",
        "\n",
        "\n",
        "model_2_LDA_test_probabilities = model_2_LDA.predict_proba(Test[['age','education',\n",
        "                                                   'working_hours_per_week',\n",
        "                                                   'workclass_Private',\n",
        "                                                   'marritalstatus_Married',\n",
        "                                                   'occupation_Sales',\n",
        "                                                   'occupation_Service',\n",
        "                                                   'occupation_Unknown_Others',\n",
        "                                                   'occupation_WhiteCollar',\n",
        "                                                   'sex_Male']])"
      ],
      "execution_count": null,
      "outputs": []
    },
    {
      "cell_type": "markdown",
      "metadata": {
        "id": "ud8c70vj66Rf"
      },
      "source": [
        "### Model 3 - Building the LDA model on the Training Data and checking the Accuracy score on the training data."
      ]
    },
    {
      "cell_type": "code",
      "metadata": {
        "id": "mBwWP4yQ66Rg"
      },
      "source": [
        "model_3_LDA = LDA.fit(Train[['age','education','working_hours_per_week',\n",
        "                        'workclass_Private',\n",
        "                        'marritalstatus_Married','occupation_Sales',\n",
        "                        'occupation_Service',\n",
        "                        'occupation_WhiteCollar','sex_Male']],Train['salary'])"
      ],
      "execution_count": null,
      "outputs": []
    },
    {
      "cell_type": "code",
      "metadata": {
        "id": "sbPuZNii66Ri",
        "outputId": "533234b1-4095-4926-d6cb-c6e870480827"
      },
      "source": [
        "print('Accuracy Score of LDA Model 3:',model_3_LDA.score(Train[['age','education','working_hours_per_week',\n",
        "                        'workclass_Private',\n",
        "                        'marritalstatus_Married','occupation_Sales',\n",
        "                        'occupation_Service',\n",
        "                        'occupation_WhiteCollar','sex_Male']],Train['salary']))"
      ],
      "execution_count": null,
      "outputs": [
        {
          "output_type": "stream",
          "text": [
            "Accuracy Score of LDA Model 3: 0.7970246695563761\n"
          ],
          "name": "stdout"
        }
      ]
    },
    {
      "cell_type": "markdown",
      "metadata": {
        "id": "mk007jcr66Rl"
      },
      "source": [
        "### Model 3 - Predicting the classes and the probabilities on the Test Data for the LDA model"
      ]
    },
    {
      "cell_type": "code",
      "metadata": {
        "id": "FAqm4sy366Rl"
      },
      "source": [
        "model_3_LDA_test_class = model_3_LDA.predict(Test[['age','education',\n",
        "                                                   'working_hours_per_week',\n",
        "                                                   'workclass_Private',\n",
        "                                                   'marritalstatus_Married',\n",
        "                                                   'occupation_Sales',\n",
        "                                                   'occupation_Service',\n",
        "                                                   'occupation_WhiteCollar',\n",
        "                                                   'sex_Male']])\n",
        "\n",
        "\n",
        "model_3_LDA_test_probabilities = model_3_LDA.predict_proba(Test[['age','education',\n",
        "                                                   'working_hours_per_week',\n",
        "                                                   'workclass_Private',\n",
        "                                                   'marritalstatus_Married',\n",
        "                                                   'occupation_Sales',\n",
        "                                                   'occupation_Service',\n",
        "                                                   'occupation_WhiteCollar',\n",
        "                                                   'sex_Male']])"
      ],
      "execution_count": null,
      "outputs": []
    },
    {
      "cell_type": "markdown",
      "metadata": {
        "id": "9H2JTkwn66Ro"
      },
      "source": [
        "# Evaluate the three LDA models on the test data using the various statistics of the confusion matrix and the AUC-ROC curve. - 1 point (0.5 each for all the three confusion matrix summary statistics evaluation and the three AUC-ROC curve evaluation)\n",
        "\n",
        "###### Note: The entire LDA model evaluation is part of the take-home assignment. This question will not be discussed in the laboratory session. Please do solve this question and submit your laboratory assignment in the link provided by your Program Manager."
      ]
    },
    {
      "cell_type": "markdown",
      "metadata": {
        "id": "VpNYd55d66Ro"
      },
      "source": [
        "### Confusion Matrix Summary Statistics evaluation on the Test Data"
      ]
    },
    {
      "cell_type": "code",
      "metadata": {
        "id": "Dz6Klw2K66Ro"
      },
      "source": [
        "from pylab import rcParams\n",
        "rcParams['figure.figsize'] = 15,4"
      ],
      "execution_count": null,
      "outputs": []
    },
    {
      "cell_type": "code",
      "metadata": {
        "id": "h9sVBDY-66Rr",
        "outputId": "27b3d8b0-25c1-4024-c86c-e9332a3b878c"
      },
      "source": [
        "f,a = plt.subplots(1,3,sharex=True,sharey=True,squeeze=False)\n",
        "\n",
        "#Plotting Confusion Matrix for the different models for the Training Data\n",
        "\n",
        "plot_0 = sns.heatmap((metrics.confusion_matrix(Test['salary'],model_1_LDA_test_class)),\n",
        "                     annot=True,fmt='.5g',cmap='Greys',ax=a[0][0]);\n",
        "a[0][0].set_title('LDA Model_1')\n",
        "\n",
        "plot_1 = sns.heatmap((metrics.confusion_matrix(Test['salary'],model_2_LDA_test_class)),\n",
        "                     annot=True,fmt='.5g',cmap='Greys',ax=a[0][1]);\n",
        "a[0][1].set_title('LDA Model_2');\n",
        "\n",
        "plot_1 = sns.heatmap((metrics.confusion_matrix(Test['salary'],model_3_LDA_test_class)),\n",
        "                     annot=True,fmt='.5g',cmap='Greys',ax=a[0][2]);\n",
        "a[0][2].set_title('LDA Model_3');"
      ],
      "execution_count": null,
      "outputs": [
        {
          "output_type": "display_data",
          "data": {
            "image/png": "[encoded data removed]",
            "text/plain": [
              "<Figure size 1080x288 with 6 Axes>"
            ]
          },
          "metadata": {
            "tags": [],
            "needs_background": "light"
          }
        }
      ]
    },
    {
      "cell_type": "code",
      "metadata": {
        "id": "9son1Kqg66Ru",
        "outputId": "7a14884d-bb85-4c78-e9ed-751bbf3cd7e1"
      },
      "source": [
        "print('LDA Model 1')\n",
        "tn, fp, fn, tp = metrics.confusion_matrix(Test['salary'],model_1_LDA_test_class).ravel()\n",
        "print('True Negative:',tn,'\\n''False Positives:' ,fp,'\\n''False Negatives:', fn,'\\n''True Positives:', tp, '\\n\\n')\n",
        "\n",
        "print('LDA Model 2')\n",
        "tn, fp, fn, tp = metrics.confusion_matrix(Test['salary'],model_2_LDA_test_class).ravel()\n",
        "print('True Negative:',tn,'\\n''False Positives:' ,fp,'\\n''False Negatives:', fn,'\\n''True Positives:', tp, '\\n\\n')\n",
        "\n",
        "print('LDA Model 3')\n",
        "tn, fp, fn, tp = metrics.confusion_matrix(Test['salary'],model_3_LDA_test_class).ravel()\n",
        "print('True Negative:',tn,'\\n''False Positives:' ,fp,'\\n''False Negatives:', fn,'\\n''True Positives:', tp, '\\n\\n')"
      ],
      "execution_count": null,
      "outputs": [
        {
          "output_type": "stream",
          "text": [
            "LDA Model 1\n",
            "True Negative: 5143 \n",
            "False Positives: 760 \n",
            "False Negatives: 938 \n",
            "True Positives: 1169 \n",
            "\n",
            "\n",
            "LDA Model 2\n",
            "True Negative: 5148 \n",
            "False Positives: 755 \n",
            "False Negatives: 944 \n",
            "True Positives: 1163 \n",
            "\n",
            "\n",
            "LDA Model 3\n",
            "True Negative: 5153 \n",
            "False Positives: 750 \n",
            "False Negatives: 942 \n",
            "True Positives: 1165 \n",
            "\n",
            "\n"
          ],
          "name": "stdout"
        }
      ]
    },
    {
      "cell_type": "code",
      "metadata": {
        "id": "W686KNzr66Ry",
        "outputId": "8f48674d-c41a-4881-be59-f705df4eb8de"
      },
      "source": [
        "print('LDA Model 1')\n",
        "print(metrics.classification_report(Test['salary'],model_1_LDA_test_class), '\\n')\n",
        "\n",
        "print('LDA Model 2')\n",
        "print(metrics.classification_report(Test['salary'],model_2_LDA_test_class), '\\n')\n",
        "\n",
        "print('LDA Model 3')\n",
        "print(metrics.classification_report(Test['salary'],model_3_LDA_test_class), '\\n')"
      ],
      "execution_count": null,
      "outputs": [
        {
          "output_type": "stream",
          "text": [
            "LDA Model 1\n",
            "              precision    recall  f1-score   support\n",
            "\n",
            "           0       0.85      0.87      0.86      5903\n",
            "           1       0.61      0.55      0.58      2107\n",
            "\n",
            "    accuracy                           0.79      8010\n",
            "   macro avg       0.73      0.71      0.72      8010\n",
            "weighted avg       0.78      0.79      0.78      8010\n",
            " \n",
            "\n",
            "LDA Model 2\n",
            "              precision    recall  f1-score   support\n",
            "\n",
            "           0       0.85      0.87      0.86      5903\n",
            "           1       0.61      0.55      0.58      2107\n",
            "\n",
            "    accuracy                           0.79      8010\n",
            "   macro avg       0.73      0.71      0.72      8010\n",
            "weighted avg       0.78      0.79      0.78      8010\n",
            " \n",
            "\n",
            "LDA Model 3\n",
            "              precision    recall  f1-score   support\n",
            "\n",
            "           0       0.85      0.87      0.86      5903\n",
            "           1       0.61      0.55      0.58      2107\n",
            "\n",
            "    accuracy                           0.79      8010\n",
            "   macro avg       0.73      0.71      0.72      8010\n",
            "weighted avg       0.78      0.79      0.79      8010\n",
            " \n",
            "\n"
          ],
          "name": "stdout"
        }
      ]
    },
    {
      "cell_type": "markdown",
      "metadata": {
        "id": "wmFjIy2w66R4"
      },
      "source": [
        "### AUC-ROC summary statistics Evaluation on the Test Data. Calculate the AUC-ROC curves and the AUC values."
      ]
    },
    {
      "cell_type": "code",
      "metadata": {
        "id": "ANYs1F0Z66R4",
        "outputId": "5ae3c4d7-016c-441b-c303-1df1938090f3"
      },
      "source": [
        "# AUC and ROC for the Model 1\n",
        "\n",
        "# calculating on the basis of a person not defaulting\n",
        "# calculate AUC\n",
        "auc = metrics.roc_auc_score(Test['salary'],model_1_LDA_test_probabilities[:, 1])\n",
        "# keeping only the probabilities for the desired class outcome\n",
        "print('LDA Model 1 AUC: %.5f' % auc)\n",
        "# # calculate roc curve\n",
        "from sklearn.metrics import roc_curve\n",
        "fpr, tpr, thresholds = metrics.roc_curve(Test['salary'],model_1_LDA_test_probabilities[:, 1])\n",
        "# keeping only the probabilities for the desired class outcome\n",
        "plt.plot([0, 1], [0, 1], linestyle='--')\n",
        "# plot the roc curve for the model\n",
        "plt.plot(fpr, tpr, marker='.')\n",
        "# shw the plot\n",
        "plt.show()\n",
        "\n",
        "# AUC and ROC for the Model 2\n",
        "\n",
        "# calculating on the basis of a person not defaulting\n",
        "# calculate AUC\n",
        "auc = metrics.roc_auc_score(Test['salary'],model_2_LDA_test_probabilities[:, 1])\n",
        "# keeping only the probabilities for the desired class outcome\n",
        "print('LDA Model 2 AUC: %.5f' % auc)\n",
        "# # calculate roc curve\n",
        "from sklearn.metrics import roc_curve\n",
        "fpr, tpr, thresholds = metrics.roc_curve(Test['salary'],model_2_LDA_test_probabilities[:, 1])\n",
        "# keeping only the probabilities for the desired class outcome\n",
        "plt.plot([0, 1], [0, 1], linestyle='--')\n",
        "# plot the roc curve for the model\n",
        "plt.plot(fpr, tpr, marker='.')\n",
        "# shw the plot\n",
        "plt.show()\n",
        "\n",
        "# AUC and ROC for the Model 3\n",
        "\n",
        "# calculating on the basis of a person not defaulting\n",
        "# calculate AUC\n",
        "auc = metrics.roc_auc_score(Test['salary'],model_3_LDA_test_probabilities[:, 1])\n",
        "# keeping only the probabilities for the desired class outcome\n",
        "print('LDA Model 3 AUC: %.5f' % auc)\n",
        "# # calculate roc curve\n",
        "from sklearn.metrics import roc_curve\n",
        "fpr, tpr, thresholds = metrics.roc_curve(Test['salary'],model_3_LDA_test_probabilities[:, 1])\n",
        "# keeping only the probabilities for the desired class outcome\n",
        "plt.plot([0, 1], [0, 1], linestyle='--')\n",
        "# plot the roc curve for the model\n",
        "plt.plot(fpr, tpr, marker='.')\n",
        "# shw the plot\n",
        "plt.show()\n"
      ],
      "execution_count": null,
      "outputs": [
        {
          "output_type": "stream",
          "text": [
            "LDA Model 1 AUC: 0.84316\n"
          ],
          "name": "stdout"
        },
        {
          "output_type": "display_data",
          "data": {
            "image/png": "[encoded data removed]",
            "text/plain": [
              "<Figure size 1080x288 with 1 Axes>"
            ]
          },
          "metadata": {
            "tags": [],
            "needs_background": "light"
          }
        },
        {
          "output_type": "stream",
          "text": [
            "LDA Model 2 AUC: 0.84316\n"
          ],
          "name": "stdout"
        },
        {
          "output_type": "display_data",
          "data": {
            "image/png": "[encoded data removed]",
            "text/plain": [
              "<Figure size 1080x288 with 1 Axes>"
            ]
          },
          "metadata": {
            "tags": [],
            "needs_background": "light"
          }
        },
        {
          "output_type": "stream",
          "text": [
            "LDA Model 3 AUC: 0.84325\n"
          ],
          "name": "stdout"
        },
        {
          "output_type": "display_data",
          "data": {
            "image/png": "[encoded data removed]",
            "text/plain": [
              "<Figure size 1080x288 with 1 Axes>"
            ]
          },
          "metadata": {
            "tags": [],
            "needs_background": "light"
          }
        }
      ]
    },
    {
      "cell_type": "markdown",
      "metadata": {
        "id": "Q6IfTl5M66R6"
      },
      "source": [
        "# Among the 6 models thus built, which model performs the most optimally based on the model evaluation metrics? - 0.5 point\n",
        "#### Note: This question is part of the take-home assignment. This question will not be discussed in the laboratory session. Please do solve this question and submit your laboratory assignment in the link provided by your Program Manager."
      ]
    },
    {
      "cell_type": "markdown",
      "metadata": {
        "id": "oYiCJ3vX7iIH"
      },
      "source": [
        "All the 6 models have the same F-1 score of 86, but we see the logistic regression model 3  performs most optimally. It has the highest AUC score of 0.84510 of the models and we see it identified TN and TP more than any other model. "
      ]
    },
    {
      "cell_type": "markdown",
      "metadata": {
        "id": "Wa1-yOfq7_6k"
      },
      "source": [
        "Model 3 : \n",
        "\n",
        "1. True negative : 5251\n",
        "2. False positives : 652\n",
        "3. False negatives : 1003\n",
        "4. True  positives : 1104"
      ]
    },
    {
      "cell_type": "markdown",
      "metadata": {
        "id": "3uVEQZ0s66SD"
      },
      "source": [
        "# END"
      ]
    },
    {
      "cell_type": "code",
      "metadata": {
        "id": "mTJeZGra66SD"
      },
      "source": [
        ""
      ],
      "execution_count": null,
      "outputs": []
    },
    {
      "cell_type": "code",
      "metadata": {
        "id": "syhed9lp66SG"
      },
      "source": [
        ""
      ],
      "execution_count": null,
      "outputs": []
    },
    {
      "cell_type": "code",
      "metadata": {
        "id": "SL8Z3LxL66SJ"
      },
      "source": [
        ""
      ],
      "execution_count": null,
      "outputs": []
    }
  ]
}